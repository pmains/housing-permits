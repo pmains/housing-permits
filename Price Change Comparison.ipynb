{
 "cells": [
  {
   "cell_type": "code",
   "execution_count": null,
   "id": "9e8db564",
   "metadata": {},
   "outputs": [],
   "source": [
    "import pandas as pd\n",
    "import altair as alt"
   ]
  },
  {
   "cell_type": "code",
   "execution_count": null,
   "id": "877e7769",
   "metadata": {},
   "outputs": [],
   "source": [
    "pickle_df = pd.read_pickle(\"df.pickle\")\n",
    "pickle_df.head()"
   ]
  },
  {
   "cell_type": "code",
   "execution_count": null,
   "id": "22c84180",
   "metadata": {},
   "outputs": [],
   "source": [
    "print(list(pickle_df.columns))"
   ]
  },
  {
   "cell_type": "code",
   "execution_count": null,
   "id": "d7e5143c",
   "metadata": {},
   "outputs": [],
   "source": [
    "def get_change_df(year1, year2):\n",
    "    columns = ['Zillow', 'filename', 'Price', 'Income', 'Total housing units', 'Population']\n",
    "    df_y1 = pickle_df[\n",
    "        (pickle_df.Year == year1) & (pickle_df.Month == 11)][columns].dropna(subset=columns, axis='rows').copy()\n",
    "    df_y2 = pickle_df[\n",
    "        (pickle_df.Year == year2) & (pickle_df.Month == 9)][columns].dropna(subset=columns, axis='rows').copy()\n",
    "\n",
    "    df = pd.merge(df_y1, df_y2, on=['Zillow', 'filename'], suffixes=[f'_{year1}', f'_{year2}'])\n",
    "\n",
    "    for column in ['Price', 'Income', 'Total housing units', 'Population']:\n",
    "        df[f'{column} Change'] = df[f'{column}_{year2}'] / df[f'{column}_{year1}'] - 1\n",
    "        \n",
    "    for year in (year1, year2):\n",
    "        df[f'Housing over Pop_{year}'] = df[f'Total housing units_{year}'] / df[f'Population_{year}']\n",
    "    df[f'Housing over Pop Change'] = df[f'Housing over Pop_{year2}'] / df[f'Housing over Pop_{year1}'] - 1\n",
    "    \n",
    "    return df\n",
    "\n",
    "def get_tier(x):\n",
    "    if '0.33_0.67' in x:\n",
    "        return 'Mid'\n",
    "    if '0.0_0.33' in x:\n",
    "        return 'Low'\n",
    "    return 'Hi'\n",
    "\n",
    "def get_type(x):\n",
    "    if 'bdrmcnt' in x:\n",
    "        count = x.split(\"_\")[3]\n",
    "        return f\"{count} Bedroom(s)\"\n",
    "    if '_condo_tier' in x:\n",
    "        return \"Condo\"\n",
    "    if \"_sfr_tier\" in x:\n",
    "        return \"Single Family\"\n",
    "    return \"All\"\n",
    "\n",
    "def add_file_data(df):\n",
    "    df['tier'] = df.filename.apply(get_tier)\n",
    "    df['type'] = df.filename.apply(get_type)\n",
    "    df['category'] = df.apply(lambda x: f\"{x.tier} Tier, {x.type}\", axis='columns')\n",
    "\n",
    "    return df.copy()\n",
    "\n",
    "df_change = add_file_data(get_change_df(2019, 2021))\n",
    "df_change.head()"
   ]
  },
  {
   "cell_type": "code",
   "execution_count": null,
   "id": "2587336c",
   "metadata": {},
   "outputs": [],
   "source": [
    "df_change.category.unique()"
   ]
  },
  {
   "cell_type": "code",
   "execution_count": null,
   "id": "4b629bf4",
   "metadata": {},
   "outputs": [],
   "source": [
    "alt.Chart(\n",
    "    df_change[(df_change.Zillow!='York, PA') & (df_change.category=='Mid Tier, All')]\n",
    ").mark_point(opacity=0.8, filled=True, size=60).encode(\n",
    "    y=alt.Y('Total housing units Change', axis=alt.Axis(format=\"%\")),\n",
    "    x=alt.X('Population Change', axis=alt.Axis(format=\"%\")),\n",
    "    # size=alt.Size('Price Change', legend=alt.Legend(format=\"%\")),\n",
    "    color=alt.Color(\n",
    "        'Price Change', scale=alt.Scale(scheme='magma'), legend=alt.Legend(format=\"%\"), sort='descending'\n",
    "    ),\n",
    "    tooltip='Zillow',\n",
    ")"
   ]
  },
  {
   "cell_type": "code",
   "execution_count": null,
   "id": "19fb5c7f",
   "metadata": {},
   "outputs": [],
   "source": [
    "alt.Chart(\n",
    "    df_change[(df_change.Zillow!='York, PA') & (df_change.category=='Mid Tier, All')]\n",
    ").mark_point(opacity=0.6, filled=True, size=60).encode(\n",
    "    y=alt.Y('Income Change', axis=alt.Axis(format=\"%\")),\n",
    "    x=alt.X('Housing over Pop Change', axis=alt.Axis(format=\"%\")),\n",
    "    color=alt.Color(\n",
    "        'Price Change', sort='descending', scale=alt.Scale(scheme=\"magma\"), legend=alt.Legend(format=\"%\")\n",
    "    ),\n",
    "    tooltip='Zillow',\n",
    ")"
   ]
  },
  {
   "cell_type": "code",
   "execution_count": null,
   "id": "129d9361",
   "metadata": {},
   "outputs": [],
   "source": []
  }
 ],
 "metadata": {
  "kernelspec": {
   "display_name": "Python 3 (ipykernel)",
   "language": "python",
   "name": "python3"
  },
  "language_info": {
   "codemirror_mode": {
    "name": "ipython",
    "version": 3
   },
   "file_extension": ".py",
   "mimetype": "text/x-python",
   "name": "python",
   "nbconvert_exporter": "python",
   "pygments_lexer": "ipython3",
   "version": "3.10.0"
  }
 },
 "nbformat": 4,
 "nbformat_minor": 5
}
