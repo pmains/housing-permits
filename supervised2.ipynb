{
 "cells": [
  {
   "cell_type": "code",
   "execution_count": null,
   "metadata": {},
   "outputs": [],
   "source": [
    "import pandas as pd\n",
    "import numpy as np\n",
    "import sklearn.feature_selection\n",
    "import sklearn.metrics\n",
    "import sklearn.model_selection\n",
    "import sklearn.linear_model\n",
    "import sklearn.covariance\n",
    "import sklearn.cross_decomposition\n",
    "import sklearn.feature_extraction\n",
    "import sklearn.svm\n",
    "import sklearn.compose\n",
    "import sklearn.preprocessing\n",
    "import matplotlib.pyplot as plt\n",
    "import math\n",
    "\n",
    "import statsmodels.api as sm\n",
    "# from statsmodels.sandbox.regression.gmm import IV2SLS\n",
    "from linearmodels.iv import IV2SLS\n",
    "from numpy import dot\n",
    "from numpy.linalg import norm"
   ]
  },
  {
   "cell_type": "code",
   "execution_count": null,
   "metadata": {},
   "outputs": [],
   "source": [
    "combo_df = pd.read_csv('combined.csv')\n"
   ]
  },
  {
   "cell_type": "code",
   "execution_count": null,
   "metadata": {},
   "outputs": [],
   "source": [
    "df = combo_df.__deepcopy__()\n",
    "\n",
    "df = df[df['Price'] >= 0]\n",
    "df"
   ]
  },
  {
   "cell_type": "code",
   "execution_count": null,
   "metadata": {
    "scrolled": true
   },
   "outputs": [],
   "source": [
    "df['Date'] = pd.to_datetime(df['Date']).astype('int64')\n",
    "df['Seasonal Price'] = df['Price']-df['Seasonal']\n",
    "df.dtypes"
   ]
  },
  {
   "cell_type": "code",
   "execution_count": null,
   "metadata": {},
   "outputs": [],
   "source": [
    "df = df[['Date', 'CSA', 'Total', '1 Unit','2 Units', '3 and 4 Units', '5 Units or More',\n",
    "         'Num of Structures With 5 Units or More', 'Year', 'Month', 'filename', 'Price',\n",
    "         'Year as Date', 'Population 1', 'Population 5','Population Diff', 'Population', 'Pop Growth 1 Year', 'Pop -1 Years','Pop Percent 1 Year', 'Pop Growth 5 Year', 'Pop -5 Years',\n",
    "         'Pop Percent 5 Year', 'Seasonal Price']]\n",
    "df"
   ]
  },
  {
   "cell_type": "code",
   "execution_count": null,
   "metadata": {},
   "outputs": [],
   "source": [
    "print(df.Population.min())\n",
    "print(df.Population.max())\n",
    "print(df.Population.median())"
   ]
  },
  {
   "cell_type": "code",
   "execution_count": null,
   "metadata": {},
   "outputs": [],
   "source": [
    "print(df.Total.min())\n",
    "print(df.Total.max())\n",
    "print(df.Total.median())"
   ]
  },
  {
   "cell_type": "code",
   "execution_count": null,
   "metadata": {},
   "outputs": [],
   "source": [
    "X = df.drop(['Price'], axis = 'columns')\n",
    "y = df[['Price']]\n",
    "\n",
    "for name in df['filename'].unique():\n",
    "    df[name] = np.where(df['filename']==name,1,0)\n",
    "    \n",
    "df['1 Unit Ratio'] = df['1 Unit']/df['Total']\n",
    "df = df.dropna(axis = 'rows')\n",
    "\n",
    "\n"
   ]
  },
  {
   "cell_type": "code",
   "execution_count": null,
   "metadata": {},
   "outputs": [],
   "source": [
    "# print(df.filename.head())\n",
    "# print(df.head())\n",
    "# print(len(df.filename.unique()))"
   ]
  },
  {
   "cell_type": "code",
   "execution_count": null,
   "metadata": {},
   "outputs": [],
   "source": [
    "df = df.drop(['filename','Year as Date'], axis = 'columns')\n",
    "df.dtypes"
   ]
  },
  {
   "cell_type": "code",
   "execution_count": null,
   "metadata": {},
   "outputs": [],
   "source": [
    "def predict_y(df, scaler, model, target):\n",
    "    X = df.drop([col for col in df.columns if 'price' in col.lower()], axis = 'columns').to_numpy()\n",
    "    if scaler:\n",
    "        scaler = scaler.fit(X)\n",
    "        X = scaler.transform(X)\n",
    "    \n",
    "    y = df[target].to_numpy()\n",
    "    \n",
    "    X_train, X_test, y_train, y_test = sklearn.model_selection.train_test_split(X,y, random_state = 42)\n",
    "    model = model\n",
    "    model.fit(X_train, y_train)\n",
    "    \n",
    "    return model.predict(X_test), y_test\n",
    "    \n"
   ]
  },
  {
   "cell_type": "code",
   "execution_count": null,
   "metadata": {},
   "outputs": [],
   "source": [
    "y_pred_try_1, y_actual = predict_y(df, sklearn.preprocessing.StandardScaler(), sklearn.linear_model.LinearRegression(), 'Price')\n"
   ]
  },
  {
   "cell_type": "code",
   "execution_count": null,
   "metadata": {},
   "outputs": [],
   "source": [
    "\n",
    "X1 = df.drop([col for col in df.columns if 'price' in col.lower()], axis = 'columns').to_numpy()\n",
    "\n",
    "y1 = df['Price'].to_numpy()\n",
    "X_train, X_test, y_train, y_test = sklearn.model_selection.train_test_split(X1,y1, random_state = 42)\n",
    "scaler1 = sklearn.preprocessing.StandardScaler().fit(X_train)\n",
    "X_train = scaler1.transform(X_train)\n",
    "X_test = scaler1.transform(X_test)\n",
    "lr = sklearn.linear_model.LinearRegression()\n",
    "lr.fit(X_train, y_train)\n",
    "y_pred = lr.predict(X_test)\n",
    "\n"
   ]
  },
  {
   "cell_type": "code",
   "execution_count": null,
   "metadata": {},
   "outputs": [],
   "source": [
    "plt.plot(y_pred, color = 'blue')\n",
    "plt.plot(y_pred_try_1, color = 'green')\n",
    "plt.plot(y_actual, color = 'red')"
   ]
  },
  {
   "cell_type": "code",
   "execution_count": null,
   "metadata": {},
   "outputs": [],
   "source": [
    "print(sklearn.metrics.mean_absolute_error(y_test, y_pred_try_1))\n",
    "print(sklearn.metrics.mean_squared_error(y_test, y_pred_try_1))\n",
    "print(sklearn.metrics.r2_score(y_test, y_pred_try_1))"
   ]
  },
  {
   "cell_type": "code",
   "execution_count": null,
   "metadata": {},
   "outputs": [],
   "source": [
    "print(sklearn.metrics.mean_absolute_error(y_test, y_pred))\n",
    "print(sklearn.metrics.mean_squared_error(y_test, y_pred))\n",
    "print(sklearn.metrics.r2_score(y_test, y_pred))"
   ]
  },
  {
   "cell_type": "code",
   "execution_count": null,
   "metadata": {},
   "outputs": [],
   "source": [
    "print(df.corr(method = 'pearson')['Price'])"
   ]
  },
  {
   "cell_type": "code",
   "execution_count": null,
   "metadata": {},
   "outputs": [],
   "source": [
    "print(df.columns.to_list())"
   ]
  },
  {
   "cell_type": "code",
   "execution_count": null,
   "metadata": {
    "scrolled": true
   },
   "outputs": [],
   "source": [
    "X_ols = df.drop([col for col in df.columns if 'price' in col.lower()], axis = 'columns')\n",
    "\n",
    "y_ols = df['Price']\n",
    "X_ols_scaled = sklearn.preprocessing.StandardScaler().fit_transform(X_ols)\n",
    "\n",
    "# x_const = sm.add_constant(X_ols_scaled)\n",
    "first_model_results = sm.OLS(y_ols, X_ols_scaled).fit()\n",
    "first_model_results.summary()\n"
   ]
  },
  {
   "cell_type": "code",
   "execution_count": null,
   "metadata": {},
   "outputs": [],
   "source": [
    "x_const = sm.add_constant(X_ols_scaled)\n",
    "second_model_results = sm.OLS(y_ols, x_const).fit()\n",
    "second_model_results.summary()"
   ]
  },
  {
   "cell_type": "code",
   "execution_count": null,
   "metadata": {},
   "outputs": [],
   "source": [
    "# import statsmodels.formula.api as smf\n",
    "# # y_ols = df['Price']\n",
    "# # X_ols_scaled = sklearn.preprocessing.StandardScaler().fit_transform(X_ols)\n",
    "# # 'Date', 'CSA', 'Total', '1 Unit', '2 Units', '3 and 4 Units', '5 Units or More', 'Num of Structures With 5 Units or More', 'Year', 'Month', 'Price', 'Population 1', 'Population 5', 'Population Diff', 'Population', 'Pop Growth 1 Year', 'Pop -1 Years', 'Pop Percent 1 Year', 'Pop Growth 5 Year', 'Pop -5 Years', 'Pop Percent 5 Year', 'Seasonal Price', 'Metro_zhvi_bdrmcnt_1_uc_sfrcondo_tier_0.33_0.67_sm_sa_month', 'Metro_zhvi_bdrmcnt_2_uc_sfrcondo_tier_0.33_0.67_sm_sa_month', 'Metro_zhvi_bdrmcnt_3_uc_sfrcondo_tier_0.33_0.67_sm_sa_month', 'Metro_zhvi_bdrmcnt_4_uc_sfrcondo_tier_0.33_0.67_sm_sa_month', 'Metro_zhvi_bdrmcnt_5_uc_sfrcondo_tier_0.33_0.67_sm_sa_month', 'Metro_zhvi_uc_condo_tier_0.33_0.67_sm_sa_month', 'Metro_zhvi_uc_sfr_tier_0.33_0.67_sm_sa_month (1)', 'Metro_zhvi_uc_sfrcondo_tier_0.0_0.33_sm_sa_month', 'Metro_zhvi_uc_sfrcondo_tier_0.33_0.67_month', 'Metro_zhvi_uc_sfrcondo_tier_0.67_1.0_sm_sa_month', '1 Unit Ratio'\n",
    "# # x_const = sm.add_constant(X_ols_scaled)\n",
    "# formula = 'Price ~ Date + CSA + Total+1 Unit+2 Units+3 and 4 Units+5 Units or More+Num of Structures With 5 Units or More+Year+Month+Population 1+Population 5+Population Diff+Population+Pop Growth 1 Year+Pop -1 Years+Pop Percent 1 Year+Pop Growth 5 Year+Pop -5 Years+Pop Percent 5 Year+1 Unit Ratio'\n",
    "# third_model_results = smf.ols(formula=formula, data=df).fit()\n",
    "# third_model_results.summary()"
   ]
  },
  {
   "cell_type": "code",
   "execution_count": null,
   "metadata": {},
   "outputs": [],
   "source": [
    "# y_seas_adj = df['Seasonal Price']\n",
    "\n",
    "# second_model_results = sm.OLS(y_seas_adj, x_const).fit()\n",
    "# second_model_results.summary()"
   ]
  },
  {
   "cell_type": "code",
   "execution_count": null,
   "metadata": {},
   "outputs": [],
   "source": [
    "\n",
    "# iv2sls_model = IV2SLS(y, df[endog], None, None ).fit(cov_type=\"unadjusted\")\n",
    "# print(iv2sls_model)"
   ]
  },
  {
   "cell_type": "code",
   "execution_count": null,
   "metadata": {},
   "outputs": [],
   "source": [
    "combo_housing_income_df = pd.read_pickle('df.pickle')\n",
    "combo_housing_income_df.head()"
   ]
  },
  {
   "cell_type": "code",
   "execution_count": null,
   "metadata": {},
   "outputs": [],
   "source": [
    "combo_housing_income_df.dtypes"
   ]
  },
  {
   "cell_type": "code",
   "execution_count": null,
   "metadata": {},
   "outputs": [],
   "source": [
    "combo_housing_income_df['Date'] = combo_housing_income_df['Date'].astype('int64')\n",
    "combo_housing_income_df['Seasonal Price'] = combo_housing_income_df['Price']-combo_housing_income_df['Seasonal']"
   ]
  },
  {
   "cell_type": "code",
   "execution_count": null,
   "metadata": {},
   "outputs": [],
   "source": [
    "combo_housing_income_df.isnull().sum()"
   ]
  },
  {
   "cell_type": "code",
   "execution_count": null,
   "metadata": {},
   "outputs": [],
   "source": [
    "combo_housing_income_df.describe()"
   ]
  },
  {
   "cell_type": "code",
   "execution_count": null,
   "metadata": {},
   "outputs": [],
   "source": [
    "combo_housing_income_df = combo_housing_income_df.dropna(subset=['Total', '1 Unit', 'Price'], axis = 'rows')\n",
    "combo_housing_income_df.describe()"
   ]
  },
  {
   "cell_type": "code",
   "execution_count": null,
   "metadata": {},
   "outputs": [],
   "source": [
    "combo_housing_income_df.isnull().sum()"
   ]
  },
  {
   "cell_type": "code",
   "execution_count": null,
   "metadata": {},
   "outputs": [],
   "source": [
    "for col in combo_housing_income_df.columns:\n",
    "    print(col)\n",
    "    print(combo_housing_income_df[col].isnull().sum())\n"
   ]
  },
  {
   "cell_type": "code",
   "execution_count": null,
   "metadata": {},
   "outputs": [],
   "source": [
    "columns_to_drop = []\n",
    "for col in combo_housing_income_df.columns:\n",
    "    columns_to_drop.append([col, combo_housing_income_df[col].isnull().sum()])\n",
    "columns_to_drop"
   ]
  },
  {
   "cell_type": "code",
   "execution_count": null,
   "metadata": {
    "scrolled": true
   },
   "outputs": [],
   "source": [
    "print(combo_housing_income_df.columns.tolist())"
   ]
  },
  {
   "cell_type": "code",
   "execution_count": null,
   "metadata": {},
   "outputs": [],
   "source": [
    "columns_to_keep = ['Date','CSA', 'Total', '1 Unit', '2 Units', '3 and 4 Units', \n",
    "                   '5 Units or More', 'Num of Structures With 5 Units or More', 'Year', 'Month', 'filename', \n",
    "                   'Price', 'Seasonal', 'Population 1', 'Population 5', 'Population Diff', 'Population', \n",
    "                   'Pop Growth 1 Year', 'Pop -1 Years', 'Pop Percent 1 Year', 'Pop Growth 5 Year', 'Pop -5 Years', \n",
    "                   'Pop Percent 5 Year', 'Income', 'Seasonal Price' ]\n"
   ]
  },
  {
   "cell_type": "code",
   "execution_count": null,
   "metadata": {},
   "outputs": [],
   "source": [
    "combo_housing_income_df = combo_housing_income_df[columns_to_keep]\n",
    "combo_housing_income_df.head()"
   ]
  },
  {
   "cell_type": "code",
   "execution_count": null,
   "metadata": {},
   "outputs": [],
   "source": [
    "\n"
   ]
  },
  {
   "cell_type": "code",
   "execution_count": null,
   "metadata": {},
   "outputs": [],
   "source": []
  },
  {
   "cell_type": "code",
   "execution_count": null,
   "metadata": {},
   "outputs": [],
   "source": [
    "\n",
    "combo_housing_income_df.describe()"
   ]
  },
  {
   "cell_type": "code",
   "execution_count": null,
   "metadata": {},
   "outputs": [],
   "source": [
    "print(combo_housing_income_df.dtypes)\n",
    "print(combo_housing_income_df.corr(method ='spearman')['Price'])\n"
   ]
  },
  {
   "cell_type": "code",
   "execution_count": null,
   "metadata": {},
   "outputs": [],
   "source": [
    "combo_housing_income_df.shape"
   ]
  },
  {
   "cell_type": "code",
   "execution_count": null,
   "metadata": {},
   "outputs": [],
   "source": [
    "combo_housing_income_df = combo_housing_income_df.dropna(axis = 'rows')\n",
    "combo_housing_income_df.shape\n",
    "\n",
    "for name in combo_housing_income_df['filename'].unique():\n",
    "#     combo_housing_income_df[name] = np.where(combo_housing_income_df['filename']==name,1,0)\n",
    "    combo_housing_income_df[name] = 0\n",
    "    combo_housing_income_df[name][combo_housing_income_df['filename']==name]=1\n",
    "# for city in combo_housing_income_df['CSA']:\n",
    "#     combo_housing_income_df[city] = 0\n",
    "#     combo_housing_income_df[city][combo_housing_income_df['MSA']==city]=1\n",
    "    \n",
    "   \n",
    "    "
   ]
  },
  {
   "cell_type": "code",
   "execution_count": null,
   "metadata": {},
   "outputs": [],
   "source": [
    "combo_housing_income_df = combo_housing_income_df.drop('filename', axis = 'columns')\n",
    "# combo_housing_income_df = combo_housing_income_df.drop('CSA', axis = 'columns') "
   ]
  },
  {
   "cell_type": "code",
   "execution_count": null,
   "metadata": {},
   "outputs": [],
   "source": [
    "combo_housing_income_df.dtypes"
   ]
  },
  {
   "cell_type": "code",
   "execution_count": null,
   "metadata": {},
   "outputs": [],
   "source": [
    "y_combo_predict, y_combo_actual = predict_y(combo_housing_income_df, sklearn.preprocessing.StandardScaler(), sklearn.linear_model.LinearRegression(), 'Price')\n"
   ]
  },
  {
   "cell_type": "code",
   "execution_count": null,
   "metadata": {},
   "outputs": [],
   "source": [
    "X_ols_combo = combo_housing_income_df.drop([col for col in combo_housing_income_df.columns if 'price' in col.lower()], axis = 'columns')\n",
    "\n",
    "y_ols_combo = combo_housing_income_df['Price']\n",
    "X_ols_combo_scaled = sklearn.preprocessing.StandardScaler().fit_transform(X_ols_combo)\n",
    "\n",
    "# x_const = sm.add_constant(X_ols_scaled)\n",
    "combo_ols_model_results = sm.OLS(y_ols_combo, X_ols_combo_scaled).fit()\n",
    "combo_ols_model_results.summary()"
   ]
  },
  {
   "cell_type": "code",
   "execution_count": null,
   "metadata": {},
   "outputs": [],
   "source": [
    "# y_pred_try_1\n",
    "# y_actual\n",
    "# y_combo_predict\n",
    "# y_combo_actual\n",
    "\n",
    "\n",
    "\n",
    "# cos_sim_orig = dot(y_pred_try_1, y_actual)/(norm(y_pred_try_1)*norm(y_actual))\n",
    "# cos_sim_combo = dot(y_combo_predict, y_combo_actual)/(norm(y_combo_predict)*norm(y_combo_actual))\n",
    "\n",
    "# print(cos_sim_orig)\n",
    "# print(cos_sim_combo)"
   ]
  },
  {
   "cell_type": "code",
   "execution_count": null,
   "metadata": {},
   "outputs": [],
   "source": [
    "print(sklearn.metrics.r2_score(y_actual,y_pred_try_1))\n",
    "print(sklearn.metrics.r2_score(y_combo_actual,y_combo_predict))"
   ]
  },
  {
   "cell_type": "code",
   "execution_count": null,
   "metadata": {},
   "outputs": [],
   "source": [
    "print(sklearn.metrics.mean_squared_error(y_actual,y_pred_try_1))\n",
    "print(sklearn.metrics.mean_squared_error(y_combo_actual,y_combo_predict))"
   ]
  },
  {
   "cell_type": "code",
   "execution_count": null,
   "metadata": {},
   "outputs": [],
   "source": [
    "print(sklearn.metrics.mean_absolute_error(y_actual,y_pred_try_1))\n",
    "print(sklearn.metrics.mean_absolute_error(y_combo_actual,y_combo_predict))"
   ]
  },
  {
   "cell_type": "code",
   "execution_count": null,
   "metadata": {},
   "outputs": [],
   "source": [
    "print(sklearn.metrics.explained_variance_score(y_actual,y_pred_try_1))\n",
    "print(sklearn.metrics.explained_variance_score(y_combo_actual,y_combo_predict))"
   ]
  },
  {
   "cell_type": "code",
   "execution_count": null,
   "metadata": {},
   "outputs": [],
   "source": [
    "print(math.dist(y_actual,y_pred_try_1))\n",
    "print(math.dist(y_combo_actual,y_combo_predict))"
   ]
  },
  {
   "cell_type": "code",
   "execution_count": null,
   "metadata": {},
   "outputs": [],
   "source": [
    "def c_v(df, scaler, model, target, cross_count, scoring):\n",
    "    X = df.drop([col for col in df.columns if 'price' in col.lower()], axis = 'columns').to_numpy()\n",
    "    \n",
    "    if scaler:\n",
    "        scaler.fit(X)\n",
    "        X = scaler.transform(X)\n",
    "    \n",
    "    y = df[target].to_numpy()\n",
    "    \n",
    "    return sklearn.model_selection.cross_val_score(model, X, y, cv = cross_count, scoring = scoring).mean()\n",
    "   \n",
    "    "
   ]
  },
  {
   "cell_type": "code",
   "execution_count": null,
   "metadata": {},
   "outputs": [],
   "source": [
    "def k_f(df, scaler, model, target, cross_count):\n",
    "    \n",
    "    kf = sklearn.model_selection.KFold(n_splits=5, random_state=1, shuffle=True)\n",
    "    scores = []\n",
    "    X = df.drop([col for col in df.columns if 'price' in col.lower()], axis = 'columns').to_numpy()\n",
    "    \n",
    "    if scaler:\n",
    "        scaler.fit(X)\n",
    "        X = scaler.transform(X)\n",
    "    \n",
    "    y = df[target].to_numpy()\n",
    "    \n",
    "    for i, (train_index, test_index) in enumerate(kf.split(X)):\n",
    "        X_train = X[train_index,:]\n",
    "        y_train = y[train_index]\n",
    "        X_test = X[test_index,:]\n",
    "        y_test = y[test_index]\n",
    "\n",
    "        model.fit(X_train, y_train)\n",
    "        test_score = model.score(X_test, y_test)\n",
    "        scores.append(round(test_score, 6))\n",
    "\n",
    "    return scores"
   ]
  },
  {
   "cell_type": "code",
   "execution_count": null,
   "metadata": {},
   "outputs": [],
   "source": [
    "original_df_cross_val = c_v(df, \n",
    "                            sklearn.preprocessing.StandardScaler(), \n",
    "                            sklearn.linear_model.LinearRegression(), \n",
    "                            'Price',\n",
    "                            3, \n",
    "                            'r2')\n",
    "\n",
    "kf_original_df_cross_val = k_f(df, \n",
    "                               sklearn.preprocessing.StandardScaler(), \n",
    "                               sklearn.linear_model.LinearRegression(), \n",
    "                               'Price',\n",
    "                               5)\n"
   ]
  },
  {
   "cell_type": "code",
   "execution_count": null,
   "metadata": {},
   "outputs": [],
   "source": [
    "original_df_cross_val_minmax = c_v(df, \n",
    "                                   sklearn.preprocessing.MinMaxScaler(), \n",
    "                                   sklearn.linear_model.LinearRegression(), \n",
    "                                   'Price',\n",
    "                                   5, \n",
    "                                   'r2')\n",
    "kf_original_df_cross_val_minmax = k_f(df, \n",
    "                                      sklearn.preprocessing.MinMaxScaler(), \n",
    "                                      sklearn.linear_model.LinearRegression(), \n",
    "                                      'Price',\n",
    "                                      5)"
   ]
  },
  {
   "cell_type": "code",
   "execution_count": null,
   "metadata": {},
   "outputs": [],
   "source": [
    "combo_df_cross_val = c_v(combo_housing_income_df, \n",
    "                         sklearn.preprocessing.StandardScaler(), \n",
    "                         sklearn.linear_model.LinearRegression(), \n",
    "                         'Price', \n",
    "                         5, \n",
    "                         'r2')\n",
    "\n",
    "kf_combo_df_cross_val = k_f(combo_housing_income_df, \n",
    "                            sklearn.preprocessing.StandardScaler(), \n",
    "                            sklearn.linear_model.LinearRegression(), \n",
    "                            'Price', \n",
    "                            5)"
   ]
  },
  {
   "cell_type": "code",
   "execution_count": null,
   "metadata": {},
   "outputs": [],
   "source": [
    "combo_df_cross_val_minmax = c_v(df, \n",
    "                                sklearn.preprocessing.MinMaxScaler(), \n",
    "                                sklearn.linear_model.LinearRegression(), \n",
    "                                'Price', \n",
    "                                5, \n",
    "                                'r2')\n",
    "\n",
    "kf_combo_df_cross_val_minmax = k_f(df, \n",
    "                                   sklearn.preprocessing.MinMaxScaler(), \n",
    "                                   sklearn.linear_model.LinearRegression(), \n",
    "                                   'Price', \n",
    "                                   5)"
   ]
  },
  {
   "cell_type": "code",
   "execution_count": null,
   "metadata": {},
   "outputs": [],
   "source": [
    "print('original df')\n",
    "print(original_df_cross_val)\n",
    "print('original with MinMax')\n",
    "print(original_df_cross_val_minmax)\n",
    "print('combo df')\n",
    "print(combo_df_cross_val)\n",
    "print('combo with MinMax')\n",
    "print(combo_df_cross_val_minmax)"
   ]
  },
  {
   "cell_type": "code",
   "execution_count": null,
   "metadata": {},
   "outputs": [],
   "source": [
    "print('kf original df')\n",
    "print(kf_original_df_cross_val)\n",
    "print('kf_original with MinMax')\n",
    "print(kf_original_df_cross_val_minmax)\n",
    "print('kf combo df')\n",
    "print(kf_combo_df_cross_val)\n",
    "print('kf combo with MinMax')\n",
    "print(kf_combo_df_cross_val_minmax)"
   ]
  },
  {
   "cell_type": "code",
   "execution_count": null,
   "metadata": {},
   "outputs": [],
   "source": [
    "sklearn.metrics.get_scorer_names()"
   ]
  },
  {
   "cell_type": "code",
   "execution_count": null,
   "metadata": {},
   "outputs": [],
   "source": []
  },
  {
   "cell_type": "code",
   "execution_count": null,
   "metadata": {},
   "outputs": [],
   "source": []
  },
  {
   "cell_type": "code",
   "execution_count": null,
   "metadata": {},
   "outputs": [],
   "source": []
  },
  {
   "cell_type": "code",
   "execution_count": null,
   "metadata": {},
   "outputs": [],
   "source": []
  },
  {
   "cell_type": "code",
   "execution_count": null,
   "metadata": {},
   "outputs": [],
   "source": [
    "X_combo = combo_housing_income_df.drop(['Price'], axis = 'columns')\n",
    "\n",
    "y_combo = combo_housing_income_df[['Price']]\n",
    "col_transform = sklearn.compose.make_column_transformer(ohe, ['MSA','filename'])\n",
    "\n",
    "\n",
    "col_transform.fit_transform(X_combo)\n",
    "X_combo\n"
   ]
  },
  {
   "cell_type": "code",
   "execution_count": null,
   "metadata": {},
   "outputs": [],
   "source": [
    "df = df.dropna(axis = 'rows')\n",
    "\n",
    "# print(X1)\n",
    "y1 = df1['Price'].to_numpy()\n",
    "X_train, X_test, y_train, y_test = sklearn.model_selection.train_test_split(X1,y1)\n",
    "scaler1 = sklearn.preprocessing.StandardScaler(with_mean=False).fit(X_train)\n",
    "X_train = scaler1.transform(X_train)\n",
    "X_test = scaler1.transform(X_test)\n",
    "lr = sklearn.linear_model.LinearRegression()\n",
    "lr.fit(X_train, y_train)\n",
    "y_pred = lr.predict(X_test)"
   ]
  },
  {
   "cell_type": "code",
   "execution_count": null,
   "metadata": {},
   "outputs": [],
   "source": []
  },
  {
   "cell_type": "code",
   "execution_count": null,
   "metadata": {},
   "outputs": [],
   "source": [
    "\n",
    "\n",
    "# pipe = sklearn.pipeline.make_pipeline(col_transform, linear_reg)"
   ]
  },
  {
   "cell_type": "code",
   "execution_count": null,
   "metadata": {},
   "outputs": [],
   "source": [
    "\n",
    "X_train_combo, X_test_combo, y_train_combo, y_test_combo = sklearn.model_selection.train_test_split(X_combo,y_combo)\n",
    "scaler_combo = sklearn.preprocessing.StandardScaler(with_mean=False).fit(X_train_combo)\n",
    "X_train_combo = scaler_combo.transform(X_train_combo)\n",
    "X_test_combo = scaler1.transform(X_test_combo)\n",
    "lr_combo = sklearn.linear_model.LinearRegression()\n",
    "lr.fit(X_train_combo, y_train_combo)\n",
    "y_pred_combo = lr.predict(X_test_combo)"
   ]
  },
  {
   "cell_type": "code",
   "execution_count": null,
   "metadata": {},
   "outputs": [],
   "source": [
    "# sklearn.metrics.get_scorer_names()"
   ]
  },
  {
   "cell_type": "code",
   "execution_count": null,
   "metadata": {},
   "outputs": [],
   "source": [
    "# for scoring in sklearn.metrics.get_scorer_names():\n",
    "#     print(scoring)\n",
    "#     try:\n",
    "#         sklearn.model_selection.cross_val_score(pipe, X, y, cv=5, scoring = scorer).mean()\n",
    "#     except: continue"
   ]
  },
  {
   "cell_type": "code",
   "execution_count": null,
   "metadata": {},
   "outputs": [],
   "source": [
    "# ind_vars = ['CSA', 'CBSA', 'Total', '1 Unit','2 Units', '3 and 4 Units', '5 Units or More',\n",
    "#             'Num of Structures With 5 Units or More', 'Year', 'Month', 'Population 1', 'Population 5',\n",
    "#             'Population Diff','Population', 'Pop Growth 1 Year', 'Pop -1 Years','Pop Percent 1 Year',\n",
    "#             'Pop Growth 5 Year',\n",
    "#             'Pop -5 Years','Pop Percent 5 Year', 'Single Unit ratio']\n",
    "# dep_vars = ['Price']\n",
    "#\n",
    "# cols = ['CSA', 'CBSA', 'Total', '1 Unit','2 Units', '3 and 4 Units', '5 Units or More',\n",
    "#         'Num of Structures With 5 Units or More', 'Year', 'Month', 'Population 1', 'Population 5',\n",
    "#         'Population Diff','Population', 'Pop Growth 1 Year', 'Pop -1 Years','Pop Percent 1 Year',\n",
    "#         'Pop Growth 5 Year','Pop -5 Years','Pop Percent 5 Year', 'Single Unit ratio', 'Price']\n",
    "#\n",
    "# # print(cols)\n",
    "# no_null_df = combo_df[cols].dropna()\n",
    "# # print(no_null_df.head())\n",
    "# x = no_null_df[ind_vars]\n",
    "# y = no_null_df[dep_vars]\n",
    "# #\n",
    "# print(x.head())\n",
    "#\n",
    "# x_const = sm.add_constant(x)\n",
    "#\n",
    "# first_model_results = sm.OLS(y, x_const).fit_regularized()\n",
    "# first_model_results.summary()"
   ]
  }
 ],
 "metadata": {
  "kernelspec": {
   "display_name": "Python 3 (ipykernel)",
   "language": "python",
   "name": "python3"
  },
  "language_info": {
   "codemirror_mode": {
    "name": "ipython",
    "version": 3
   },
   "file_extension": ".py",
   "mimetype": "text/x-python",
   "name": "python",
   "nbconvert_exporter": "python",
   "pygments_lexer": "ipython3",
   "version": "3.9.0"
  }
 },
 "nbformat": 4,
 "nbformat_minor": 1
}
