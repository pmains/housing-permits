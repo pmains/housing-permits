{
 "cells": [
  {
   "cell_type": "code",
   "execution_count": null,
   "id": "4930481c",
   "metadata": {},
   "outputs": [],
   "source": [
    "import pandas as pd\n",
    "import numpy as np\n",
    "import altair as alt\n",
    "\n",
    "from sklearn.decomposition import PCA\n",
    "from sklearn.linear_model import LinearRegression, Lasso, Ridge\n",
    "from sklearn.tree import DecisionTreeRegressor\n",
    "from sklearn.ensemble import GradientBoostingRegressor\n",
    "\n",
    "from sklearn.model_selection import train_test_split\n",
    "from sklearn.preprocessing import StandardScaler, MinMaxScaler\n",
    "from sklearn.metrics import r2_score, accuracy_score, f1_score"
   ]
  },
  {
   "cell_type": "code",
   "execution_count": null,
   "id": "b26ba7e9",
   "metadata": {},
   "outputs": [],
   "source": [
    "df = pd.read_pickle('df.pickle')\n",
    "df.head()"
   ]
  },
  {
   "cell_type": "code",
   "execution_count": null,
   "id": "096d67c3",
   "metadata": {},
   "outputs": [],
   "source": [
    "print(list(df.columns))"
   ]
  },
  {
   "cell_type": "code",
   "execution_count": null,
   "id": "d9b18291",
   "metadata": {},
   "outputs": [],
   "source": [
    "df['Weighted Total'] = df['1 Unit'] + (2 * df['2 Units']) + (3.5 * df['3 and 4 Units']) + (10 * df['5 Units or More'])\n",
    "\n",
    "# Over entire pop, so adjust by 100,000 (standard for population statistics like crime)\n",
    "df['Adjusted Weighted Total'] = df['Weighted Total'] / df['Population'] * 100_000\n",
    "# But don't multiply these, since we expect permits to be directly proportional to population growth\n",
    "df['Adjusted Weighted 1Y Total'] = df['Weighted Total'] / df['Pop Growth 1 Year']\n",
    "df['Adjusted Weighted 5Y Total'] = df['Weighted Total'] / df['Pop Growth 5 Year']\n",
    "\n",
    "# And do the same thing to our non-weighted total\n",
    "df['Adjusted Total'] = df['Total'] / df['Population'] * 100_000\n",
    "df['Adjusted 1Y Total'] = df['Total'] / df['Pop Growth 1 Year']\n",
    "df['Adjusted 5Y Total'] = df['Total'] / df['Pop Growth 5 Year']\n",
    "\n",
    "df.head()"
   ]
  },
  {
   "cell_type": "code",
   "execution_count": null,
   "id": "bfc52ce0",
   "metadata": {},
   "outputs": [],
   "source": [
    "columns = {\n",
    "    'index': [ 'MSA', 'Date', 'Year', 'Month', 'filename'],\n",
    "    # Permit\n",
    "    'permits': ['Total', '1 Unit', '2 Units', '3 and 4 Units', \n",
    "    '5 Units or More', 'Num of Structures With 5 Units or More'],\n",
    "    # Price\n",
    "    'price': ['Price', 'Seasonal', 'Trend', 'Residual', 'Price Change', 'Trend Change'],\n",
    "    # Population\n",
    "    'population': ['Population 1', 'Population 5', 'Population Diff', 'Population', 'Pop Growth 1 Year',\n",
    "    'Pop -1 Years', 'Pop Percent 1 Year', 'Pop Growth 5 Year', 'Pop -5 Years', 'Pop Percent 5 Year'],\n",
    "    # Housing Stock\n",
    "    'housing': ['Total housing units', 'Occupied housing units', 'Vacant housing units', \n",
    "    'Homeowner vacancy rate', 'Rental vacancy rate', '1-unit, detached', '1-unit, attached',\n",
    "    '2 units', '3 or 4 units', '5 to 9 units', '10 to 19 units', '20 or more units', \n",
    "    '1 room', '2 rooms', '3 rooms', '4 rooms', '5 rooms', '6 rooms', '7 rooms', \n",
    "    '8 rooms', '9 rooms or more', 'Median rooms'],\n",
    "    # Income\n",
    "    'income': ['Income'],\n",
    "}"
   ]
  },
  {
   "cell_type": "code",
   "execution_count": null,
   "id": "c108ef35",
   "metadata": {},
   "outputs": [],
   "source": [
    "house_columns = ['Zillow', 'Month', 'Year', 'filename', 'Income', 'Population', 'Price'] + columns['housing']"
   ]
  },
  {
   "cell_type": "code",
   "execution_count": null,
   "id": "a22d6805",
   "metadata": {},
   "outputs": [],
   "source": [
    "housing_df = df[house_columns].copy()\n",
    "housing_df = housing_df.dropna(subset=columns['housing'], axis='rows')\n",
    "housing_df.head()"
   ]
  },
  {
   "cell_type": "code",
   "execution_count": null,
   "id": "bc6d5787",
   "metadata": {},
   "outputs": [],
   "source": [
    "X_columns = ['Income'] + columns['housing']\n",
    "scores = list()\n",
    "\n",
    "def test_model(Model, kwargs=None):\n",
    "    r2_scores = list()\n",
    "    for file_name, file_df in housing_df.groupby('filename'):\n",
    "        file_df = file_df.dropna(subset=X_columns + ['Price'], axis=\"rows\")\n",
    "        train_df, test_df = train_test_split(file_df, train_size=0.8, random_state=42)\n",
    "\n",
    "        X_train = train_df[X_columns]\n",
    "        y_train = train_df[['Price']]\n",
    "\n",
    "        X_test = test_df[X_columns]\n",
    "        y_test = test_df[['Price']]\n",
    "\n",
    "        model = Model().fit(X_train, y_train)\n",
    "        y_pred = model.predict(X_test)\n",
    "\n",
    "        r2 = r2_score(y_test, y_pred)\n",
    "        r2_scores.append({'file': file_name, 'model': Model.__name__, 'score': r2})\n",
    "        \n",
    "        print(f\"{file_name} R2 {r2}\")\n",
    "    \n",
    "    return r2_scores\n",
    "\n",
    "scores += test_model(LinearRegression)"
   ]
  },
  {
   "cell_type": "code",
   "execution_count": null,
   "id": "d3932061",
   "metadata": {},
   "outputs": [],
   "source": [
    "scores += test_model(Lasso)"
   ]
  },
  {
   "cell_type": "code",
   "execution_count": null,
   "id": "f65f7414",
   "metadata": {},
   "outputs": [],
   "source": [
    "scores += test_model(Ridge)"
   ]
  },
  {
   "cell_type": "code",
   "execution_count": null,
   "id": "8a9d6e0b",
   "metadata": {},
   "outputs": [],
   "source": [
    "scores += test_model(DecisionTreeRegressor)"
   ]
  },
  {
   "cell_type": "code",
   "execution_count": null,
   "id": "50139542",
   "metadata": {},
   "outputs": [],
   "source": [
    "scores += test_model(GradientBoostingRegressor)"
   ]
  },
  {
   "cell_type": "code",
   "execution_count": null,
   "id": "3e1f6544",
   "metadata": {},
   "outputs": [],
   "source": [
    "def get_tier(x):\n",
    "    if '0.33_0.67' in x:\n",
    "        return 'Mid'\n",
    "    if '0.0_0.33' in x:\n",
    "        return 'Low'\n",
    "    return 'Hi'\n",
    "\n",
    "def get_type(x):\n",
    "    if 'bdrmcnt' in x:\n",
    "        count = x.split(\"_\")[3]\n",
    "        return f\"{count} Bedroom(s)\"\n",
    "    if '_condo_tier' in x:\n",
    "        return \"Condo\"\n",
    "    if \"_sfr_tier\" in x:\n",
    "        return \"Single Family\"\n",
    "    return \"All\"\n",
    "\n",
    "def add_file_data(score_list):\n",
    "    df = pd.DataFrame(score_list)\n",
    "\n",
    "    df['tier'] = df.file.apply(get_tier)\n",
    "    df['type'] = df.file.apply(get_type)\n",
    "    df['category'] = df.apply(lambda x: f\"{x.tier} Tier, {x.type}\", axis='columns')\n",
    "\n",
    "    return df.copy()\n",
    "\n",
    "r2_df = add_file_data(scores)\n",
    "r2_df.head()"
   ]
  },
  {
   "cell_type": "code",
   "execution_count": null,
   "id": "b26a9587",
   "metadata": {},
   "outputs": [],
   "source": [
    "alt.Chart(r2_df).mark_bar().encode(\n",
    "    y=alt.Y('score', title='R2 Score'),\n",
    "    x=alt.X('category', title=None),\n",
    "    column=alt.Column('model', title=None),\n",
    "    color=alt.Color('category', legend=None),\n",
    ")"
   ]
  },
  {
   "cell_type": "code",
   "execution_count": null,
   "id": "3a09010d",
   "metadata": {},
   "outputs": [],
   "source": [
    "scaled_scores = list()\n",
    "def test_scaled_model(Model, Scaler, kwargs=None):\n",
    "    r2_scores = list()\n",
    "    \n",
    "    for file_name, file_df in housing_df.groupby('filename'):\n",
    "        file_df = file_df.dropna(subset=X_columns + ['Price'], axis=\"rows\")\n",
    "        \n",
    "        scaled_X = Scaler().fit_transform(file_df[X_columns], file_df.Price) \n",
    "        X_train, X_test, y_train, y_test = train_test_split(scaled_X, file_df.Price, train_size=0.8, random_state=42)\n",
    "\n",
    "        model = Model().fit(X_train, y_train)\n",
    "        y_pred = model.predict(X_test)\n",
    "\n",
    "        r2 = r2_score(y_test, y_pred)\n",
    "        r2_scores.append({'file': file_name, 'model': Model.__name__, 'scaler': Scaler.__name__, 'score': r2})\n",
    "        \n",
    "        print(f\"{file_name} R2 {r2}\")\n",
    "    \n",
    "    return r2_scores\n",
    "\n",
    "scaled_scores += test_scaled_model(LinearRegression, StandardScaler)"
   ]
  },
  {
   "cell_type": "code",
   "execution_count": null,
   "id": "8b1afd23",
   "metadata": {},
   "outputs": [],
   "source": [
    "scaled_scores += test_scaled_model(Lasso, StandardScaler)\n",
    "scaled_scores += test_scaled_model(Ridge, StandardScaler)"
   ]
  },
  {
   "cell_type": "code",
   "execution_count": null,
   "id": "0b208aef",
   "metadata": {},
   "outputs": [],
   "source": [
    "scaled_r2_df = add_file_data(scaled_scores)\n",
    "scaled_r2_df.head()"
   ]
  },
  {
   "cell_type": "code",
   "execution_count": null,
   "id": "24081625",
   "metadata": {},
   "outputs": [],
   "source": [
    "r2_df['scaler'] = 'None'\n",
    "r2_df = pd.concat([scaled_r2_df, r2_df[r2_df.model.isin(scaled_r2_df.model.unique())]])\n",
    "\n",
    "r2_df.head()"
   ]
  },
  {
   "cell_type": "code",
   "execution_count": null,
   "id": "4316cf47",
   "metadata": {},
   "outputs": [],
   "source": [
    "alt.Chart(r2_df).mark_point().encode(\n",
    "    y=alt.Y('score', title=None),\n",
    "    x=alt.X('category', title=None),\n",
    "    column=alt.Column('model', title=None),\n",
    "    color=alt.Color('scaler')\n",
    ")"
   ]
  },
  {
   "cell_type": "code",
   "execution_count": null,
   "id": "af4c45c6",
   "metadata": {},
   "outputs": [],
   "source": [
    "r2_df.scaler.unique()"
   ]
  },
  {
   "cell_type": "code",
   "execution_count": null,
   "id": "65c10d81",
   "metadata": {},
   "outputs": [],
   "source": [
    "def test_pca_model(Model, n, kwargs=None):\n",
    "    r2_scores = list()\n",
    "    pca_X = PCA(n_components=n).fit_transform(housing_df[X_columns])\n",
    "    \n",
    "    pca_df = pd.DataFrame(pca_X)\n",
    "    pca_cols = list(pca_df.columns)\n",
    "    pca_df['filename'] = housing_df['filename']\n",
    "    pca_df['Price'] = housing_df['Price']\n",
    "        \n",
    "    for file_name, file_df in pca_df.groupby('filename'):\n",
    "        file_df = file_df.dropna(subset=pca_cols + ['Price'], axis=\"rows\")\n",
    "        \n",
    "        X_train, X_test, y_train, y_test = train_test_split(\n",
    "            file_df[pca_cols], file_df.Price, train_size=0.8, random_state=42\n",
    "        )\n",
    "\n",
    "        model = Model().fit(X_train, y_train)\n",
    "        y_pred = model.predict(X_test)\n",
    "\n",
    "        r2 = r2_score(y_test, y_pred)\n",
    "        r2_scores.append({'file': file_name, 'model': Model.__name__, 'components': n, 'score': r2})\n",
    "        \n",
    "        print(f\"{file_name} R2 {r2}\")\n",
    "    \n",
    "    return r2_scores"
   ]
  },
  {
   "cell_type": "code",
   "execution_count": null,
   "id": "2f6b92aa",
   "metadata": {},
   "outputs": [],
   "source": [
    "pca_scores = list()\n",
    "pca_scores += test_pca_model(LinearRegression, 3)\n",
    "pca_scores += test_pca_model(LinearRegression, 5)\n",
    "pca_scores += test_pca_model(LinearRegression, 10)\n",
    "pca_scores += test_pca_model(LinearRegression, 20)\n",
    "pca_scores += test_pca_model(LinearRegression, 23)"
   ]
  },
  {
   "cell_type": "code",
   "execution_count": null,
   "id": "5fa2d0f0",
   "metadata": {},
   "outputs": [],
   "source": []
  },
  {
   "cell_type": "code",
   "execution_count": null,
   "id": "b2f8a09c",
   "metadata": {},
   "outputs": [],
   "source": [
    "pca_scores_df = add_file_data(pca_scores)\n",
    "\n",
    "alt.Chart(pca_scores_df).mark_bar().encode(\n",
    "    y=alt.Y('score', title='R2 Score', scale=alt.Scale(domain=[0, 1])),\n",
    "    x=alt.X('components:N', title='Components'),\n",
    "    column=alt.Column('category', title=None),\n",
    "    color=alt.Color('category', legend=None),\n",
    ")"
   ]
  },
  {
   "cell_type": "code",
   "execution_count": null,
   "id": "3cab7a97",
   "metadata": {},
   "outputs": [],
   "source": []
  }
 ],
 "metadata": {
  "kernelspec": {
   "display_name": "Python 3 (ipykernel)",
   "language": "python",
   "name": "python3"
  },
  "language_info": {
   "codemirror_mode": {
    "name": "ipython",
    "version": 3
   },
   "file_extension": ".py",
   "mimetype": "text/x-python",
   "name": "python",
   "nbconvert_exporter": "python",
   "pygments_lexer": "ipython3",
   "version": "3.10.0"
  }
 },
 "nbformat": 4,
 "nbformat_minor": 5
}
