{
 "cells": [
  {
   "cell_type": "code",
   "execution_count": null,
   "id": "e8f27ada",
   "metadata": {},
   "outputs": [],
   "source": [
    "import pandas as pd\n",
    "import altair as alt\n",
    "from vega_datasets import data"
   ]
  },
  {
   "cell_type": "code",
   "execution_count": null,
   "id": "ecd4ca52",
   "metadata": {},
   "outputs": [],
   "source": [
    "cities_df = pd.read_csv(\"geodata.csv\")\n",
    "pickle_df = pd.read_pickle(\"df.pickle\")\n",
    "\n",
    "cities_df.head()"
   ]
  },
  {
   "cell_type": "code",
   "execution_count": null,
   "id": "0d18fd0f",
   "metadata": {},
   "outputs": [],
   "source": [
    "joined_df = pickle_df.merge(cities_df, left_on='Zillow', right_on='city')\n",
    "joined_df.head()"
   ]
  },
  {
   "cell_type": "code",
   "execution_count": null,
   "id": "d554d136",
   "metadata": {},
   "outputs": [],
   "source": [
    "joined_df.filename.unique()"
   ]
  },
  {
   "cell_type": "code",
   "execution_count": null,
   "id": "96f191b2",
   "metadata": {},
   "outputs": [],
   "source": [
    "states = alt.topo_feature(data.us_10m.url, feature='states')\n",
    "\n",
    "background = alt.Chart(states).mark_geoshape(\n",
    "    fill='#f0f0f0',\n",
    "    stroke='#ddd'\n",
    ").project('albersUsa').properties(\n",
    "    width=500,\n",
    "    height=300\n",
    ")\n",
    "\n",
    "mid_tier_all = 'Metro_zhvi_uc_sfrcondo_tier_0.33_0.67_month'\n",
    "start_df = joined_df[(joined_df.Year==2010) & (joined_df.filename == mid_tier_all) & (joined_df.Month == 1)]\n",
    "points = alt.Chart(start_df).mark_circle(size=20, opacity=0.8).encode(\n",
    "    longitude='lng',\n",
    "    latitude='lat',\n",
    "    tooltip=['city', 'Price'],\n",
    "    color=alt.Color(\n",
    "        'Price', scale=alt.Scale(type='log', scheme='redblue'), legend=alt.Legend(title=None, format='$,'),\n",
    "        sort='descending'\n",
    "    ),\n",
    ")\n",
    "\n",
    "(background + points).properties(title={\n",
    "    'text': 'Mid-Tier Home Price, 2010',\n",
    "    'fontSize': 20,\n",
    "    'anchor': 'start',\n",
    "})"
   ]
  },
  {
   "cell_type": "code",
   "execution_count": null,
   "id": "e3831972",
   "metadata": {},
   "outputs": [],
   "source": [
    "end_df = joined_df[(joined_df.Year==2021) & (joined_df.filename == mid_tier_all) & (joined_df.Month == 1)]\n",
    "points = alt.Chart(end_df).mark_circle(size=20, opacity=0.8).encode(\n",
    "    longitude='lng',\n",
    "    latitude='lat',\n",
    "    tooltip=['city', 'Price'],\n",
    "    color=alt.Color(\n",
    "        'Price', scale=alt.Scale(type='log', scheme='redblue'), legend=alt.Legend(title=None, format=\"$,\"),\n",
    "        sort='descending'\n",
    "    ),\n",
    ")\n",
    "\n",
    "(background + points).properties(title={\n",
    "    'text': 'Mid-Tier Home Price, 2021',\n",
    "    'fontSize': 20,\n",
    "    'anchor': 'start',\n",
    "})"
   ]
  },
  {
   "cell_type": "code",
   "execution_count": null,
   "id": "4b34642f",
   "metadata": {},
   "outputs": [],
   "source": [
    "cols = ['Zillow', 'Price']\n",
    "change_df = pd.merge(\n",
    "    start_df[['lat', 'lng'] + cols], end_df[cols], on='Zillow', suffixes=['_2010', '_2021'], how='inner'\n",
    ")\n",
    "change_df['Change'] = (change_df['Price_2021'] / change_df['Price_2010']) - 1\n",
    "change_df.head()"
   ]
  },
  {
   "cell_type": "code",
   "execution_count": null,
   "id": "f000b558",
   "metadata": {},
   "outputs": [],
   "source": [
    "points = alt.Chart(change_df).mark_circle(size=20, opacity=0.8).encode(\n",
    "    longitude='lng',\n",
    "    latitude='lat',\n",
    "    tooltip=['Zillow', 'Change'],\n",
    "    color=alt.Color(\n",
    "        'Change', scale=alt.Scale(scheme='redblue'), legend=alt.Legend(format=\"%\", title=None), sort='descending'\n",
    "    ),\n",
    ")\n",
    "\n",
    "(background + points).properties(title={\n",
    "    'text': 'Price Change 2010-2021',\n",
    "    'fontSize': 20,\n",
    "    'anchor': 'start',\n",
    "})"
   ]
  },
  {
   "cell_type": "code",
   "execution_count": null,
   "id": "b76d15b5",
   "metadata": {},
   "outputs": [],
   "source": []
  }
 ],
 "metadata": {
  "kernelspec": {
   "display_name": "Python 3 (ipykernel)",
   "language": "python",
   "name": "python3"
  },
  "language_info": {
   "codemirror_mode": {
    "name": "ipython",
    "version": 3
   },
   "file_extension": ".py",
   "mimetype": "text/x-python",
   "name": "python",
   "nbconvert_exporter": "python",
   "pygments_lexer": "ipython3",
   "version": "3.10.0"
  }
 },
 "nbformat": 4,
 "nbformat_minor": 5
}
