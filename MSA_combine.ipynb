{
 "cells": [
  {
   "cell_type": "code",
   "execution_count": null,
   "id": "2933f0bc",
   "metadata": {},
   "outputs": [],
   "source": [
    "pip install statsmodels"
   ]
  },
  {
   "cell_type": "code",
   "execution_count": null,
   "id": "481aa628",
   "metadata": {
    "executionInfo": {
     "elapsed": 1278,
     "status": "ok",
     "timestamp": 1665234398656,
     "user": {
      "displayName": "mauve mauve",
      "userId": "09731923278332862276"
     },
     "user_tz": 240
    },
    "id": "481aa628"
   },
   "outputs": [],
   "source": [
    "import os\n",
    "import re\n",
    "\n",
    "import pandas as pd\n",
    "import numpy as np\n",
    "import altair as alt\n",
    "import datetime as dt"
   ]
  },
  {
   "cell_type": "code",
   "execution_count": null,
   "id": "6cd3962f",
   "metadata": {},
   "outputs": [],
   "source": [
    "import matplotlib.pyplot as plt\n",
    "%matplotlib inline\n",
    "from statsmodels.tsa.seasonal import seasonal_decompose, DecomposeResult"
   ]
  },
  {
   "cell_type": "code",
   "execution_count": null,
   "id": "9fb86g0rsTiF",
   "metadata": {
    "colab": {
     "base_uri": "https://localhost:8080/"
    },
    "executionInfo": {
     "elapsed": 499,
     "status": "ok",
     "timestamp": 1665234402197,
     "user": {
      "displayName": "mauve mauve",
      "userId": "09731923278332862276"
     },
     "user_tz": 240
    },
    "id": "9fb86g0rsTiF",
    "outputId": "52a7f749-e6df-499d-85e5-3f2b99fc200d"
   },
   "outputs": [],
   "source": [
    "msa_files = [os.path.join(\"msa\", file_path) for file_path in os.listdir('msa')]\n",
    "ZHVI_files = [os.path.join('zillow', file_path) for file_path in os.listdir( 'zillow')]"
   ]
  },
  {
   "cell_type": "code",
   "execution_count": null,
   "id": "fYihPZbhstqn",
   "metadata": {
    "colab": {
     "base_uri": "https://localhost:8080/"
    },
    "executionInfo": {
     "elapsed": 2529,
     "status": "ok",
     "timestamp": 1665234415184,
     "user": {
      "displayName": "mauve mauve",
      "userId": "09731923278332862276"
     },
     "user_tz": 240
    },
    "id": "fYihPZbhstqn",
    "outputId": "6c75fc92-1a3b-4588-f96b-649b47b02bed"
   },
   "outputs": [],
   "source": [
    "msa_dfs = [pd.read_excel(f, skiprows=7)[1:] for f in msa_files]\n",
    "print(msa_files)"
   ]
  },
  {
   "cell_type": "code",
   "execution_count": null,
   "id": "h7JeoiPItPKH",
   "metadata": {
    "colab": {
     "base_uri": "https://localhost:8080/",
     "height": 389
    },
    "executionInfo": {
     "elapsed": 164,
     "status": "ok",
     "timestamp": 1665234415339,
     "user": {
      "displayName": "mauve mauve",
      "userId": "09731923278332862276"
     },
     "user_tz": 240
    },
    "id": "h7JeoiPItPKH",
    "outputId": "ada3a9f9-9e50-4b2d-8516-b7adaf3b4f9d"
   },
   "outputs": [],
   "source": [
    "print(msa_dfs[0].columns)\n",
    "\n",
    "msa_cols = ['CSA', 'CBSA', 'Name', 'Total', '1 Unit', '2 Units', \n",
    "            '3 and 4 Units','5 Units or More', \n",
    "            'Num of Structures With 5 Units or More']\n",
    "msa_dfs = [df[msa_cols] for df in msa_dfs]\n",
    "\n",
    "msa_dfs[0].head()"
   ]
  },
  {
   "cell_type": "code",
   "execution_count": null,
   "id": "FNFMUMm6u89q",
   "metadata": {
    "colab": {
     "base_uri": "https://localhost:8080/"
    },
    "executionInfo": {
     "elapsed": 11,
     "status": "ok",
     "timestamp": 1665234415340,
     "user": {
      "displayName": "mauve mauve",
      "userId": "09731923278332862276"
     },
     "user_tz": 240
    },
    "id": "FNFMUMm6u89q",
    "outputId": "00de3563-2e3f-4cbe-8752-468bfdf44c93"
   },
   "outputs": [],
   "source": [
    "print(msa_dfs[0].columns)"
   ]
  },
  {
   "cell_type": "code",
   "execution_count": null,
   "id": "NV1o0Tt3dF6Q",
   "metadata": {
    "colab": {
     "base_uri": "https://localhost:8080/",
     "height": 285
    },
    "executionInfo": {
     "elapsed": 6,
     "status": "ok",
     "timestamp": 1665234415470,
     "user": {
      "displayName": "mauve mauve",
      "userId": "09731923278332862276"
     },
     "user_tz": 240
    },
    "id": "NV1o0Tt3dF6Q",
    "outputId": "a6d98106-05eb-4c3f-9574-7fb1906cf1f3"
   },
   "outputs": [],
   "source": [
    "for df, name in zip(msa_dfs, msa_files):\n",
    "    df['Date'] = name[name.rfind('_')+1:name.rfind('.')]\n",
    "\n",
    "df.head()"
   ]
  },
  {
   "cell_type": "code",
   "execution_count": null,
   "id": "pql9Q4RcdyQ2",
   "metadata": {
    "colab": {
     "base_uri": "https://localhost:8080/",
     "height": 520
    },
    "executionInfo": {
     "elapsed": 163,
     "status": "ok",
     "timestamp": 1665234416907,
     "user": {
      "displayName": "mauve mauve",
      "userId": "09731923278332862276"
     },
     "user_tz": 240
    },
    "id": "pql9Q4RcdyQ2",
    "outputId": "94351ecc-f73e-4b5d-c885-3dd81ac4f3e4"
   },
   "outputs": [],
   "source": [
    "permits_df = pd.concat(msa_dfs).dropna(axis = 1)\n",
    "permits_df.Name = permits_df.Name.apply(lambda x: x.strip())\n",
    "permits_df['Year'] = permits_df.Date.apply(lambda x: int(x[:4]))\n",
    "permits_df['Month'] = permits_df.Date.apply(lambda x: int(x[4:]))\n",
    "\n",
    "permits_df.head()"
   ]
  },
  {
   "cell_type": "code",
   "execution_count": null,
   "id": "FhnMqONBv8d7",
   "metadata": {
    "colab": {
     "base_uri": "https://localhost:8080/",
     "height": 352
    },
    "executionInfo": {
     "elapsed": 141,
     "status": "ok",
     "timestamp": 1665236852713,
     "user": {
      "displayName": "mauve mauve",
      "userId": "09731923278332862276"
     },
     "user_tz": 240
    },
    "id": "FhnMqONBv8d7",
    "outputId": "6d3efb0b-85cd-4aa5-fd0c-dc5da3926085"
   },
   "outputs": [],
   "source": [
    "ZHVI_dfs = [pd.read_csv(z) for z in ZHVI_files]\n",
    "ZHVI_dfs = [df[df['RegionType']=='msa'] for df in ZHVI_dfs]\n",
    "\n",
    "ZHVI_dfs[0].head()"
   ]
  },
  {
   "cell_type": "code",
   "execution_count": null,
   "id": "Q-1IVAsyrJFt",
   "metadata": {
    "colab": {
     "base_uri": "https://localhost:8080/",
     "height": 352
    },
    "executionInfo": {
     "elapsed": 139,
     "status": "ok",
     "timestamp": 1665234424573,
     "user": {
      "displayName": "mauve mauve",
      "userId": "09731923278332862276"
     },
     "user_tz": 240
    },
    "id": "Q-1IVAsyrJFt",
    "outputId": "26d4a48b-ac0f-40bf-ded9-26d2dd5f519d"
   },
   "outputs": [],
   "source": [
    "for df,f in zip(ZHVI_dfs, ZHVI_files):\n",
    "    df['filename'] = f[f.rfind('/')+1:-4]\n",
    "df.head()"
   ]
  },
  {
   "cell_type": "code",
   "execution_count": null,
   "id": "F2OTDn54r5vv",
   "metadata": {
    "executionInfo": {
     "elapsed": 128,
     "status": "ok",
     "timestamp": 1665234428001,
     "user": {
      "displayName": "mauve mauve",
      "userId": "09731923278332862276"
     },
     "user_tz": 240
    },
    "id": "F2OTDn54r5vv"
   },
   "outputs": [],
   "source": [
    "ZHVI_df = pd.concat(ZHVI_dfs)"
   ]
  },
  {
   "cell_type": "code",
   "execution_count": null,
   "id": "v_bBzcYfr_qC",
   "metadata": {
    "colab": {
     "base_uri": "https://localhost:8080/"
    },
    "executionInfo": {
     "elapsed": 145,
     "status": "ok",
     "timestamp": 1665235106607,
     "user": {
      "displayName": "mauve mauve",
      "userId": "09731923278332862276"
     },
     "user_tz": 240
    },
    "id": "v_bBzcYfr_qC",
    "outputId": "71698458-0e3e-4e20-a0aa-5f623786668d",
    "scrolled": true
   },
   "outputs": [],
   "source": [
    "print(ZHVI_df.columns)"
   ]
  },
  {
   "cell_type": "code",
   "execution_count": null,
   "id": "6ATD9innry4R",
   "metadata": {
    "colab": {
     "base_uri": "https://localhost:8080/",
     "height": 557
    },
    "executionInfo": {
     "elapsed": 299,
     "status": "ok",
     "timestamp": 1665234429815,
     "user": {
      "displayName": "mauve mauve",
      "userId": "09731923278332862276"
     },
     "user_tz": 240
    },
    "id": "6ATD9innry4R",
    "outputId": "9ad51475-342d-47e5-c059-2f0f2fe9b024",
    "scrolled": true
   },
   "outputs": [],
   "source": [
    "ZHVI_df.head()"
   ]
  },
  {
   "cell_type": "code",
   "execution_count": null,
   "id": "b0a2cd72",
   "metadata": {},
   "outputs": [],
   "source": [
    "ZHVI_df = pd.concat(ZHVI_dfs)\n",
    "\n",
    "date_columns = [column for column in ZHVI_df.columns if re.match(r'\\d{4}-\\d{2}-\\d{2}', column)]\n",
    "other_columns = [column for column in ZHVI_df.columns if not re.match(r'\\d{4}-\\d{2}-\\d{2}', column)]\n",
    "ZHVI_df = ZHVI_df.melt(id_vars=other_columns, value_vars=date_columns, var_name='Date', value_name='Price')\n",
    "\n",
    "# ZHVI_df.dropna(subset=['Price',], axis='columns', inplace=True)\n",
    "ZHVI_df['Year'] = ZHVI_df.Date.apply(lambda x: int(x.split(\"-\")[0]))\n",
    "ZHVI_df['Month'] = ZHVI_df.Date.apply(lambda x: int(x.split(\"-\")[1]))\n",
    "\n",
    "ZHVI_df.head(10)"
   ]
  },
  {
   "cell_type": "code",
   "execution_count": null,
   "id": "bb03e07b",
   "metadata": {},
   "outputs": [],
   "source": [
    "zhvi_msa_set = set(ZHVI_df.RegionName.unique())\n",
    "permit_msa_set = set(permits_df.Name.unique())\n",
    "\n",
    "msa_intersection = zhvi_msa_set.intersection(permit_msa_set)\n",
    "unmatched_zillow_msas = zhvi_msa_set.difference(permit_msa_set)\n",
    "unmatched_permit_msas = permit_msa_set.difference(zhvi_msa_set)\n",
    "\n",
    "# Set of tuples of form (ZHVI msa, Census MSA)\n",
    "msa_matches = set()\n",
    "\n",
    "for matched_msa in msa_intersection:\n",
    "    msa_matches.add((matched_msa, matched_msa))\n",
    "    \n",
    "print((f\"Matched: {len(msa_matches)}, Unmatched Zillow: {len(unmatched_zillow_msas)}, \"\n",
    "       f\"Unmatched Census {len(unmatched_permit_msas)}\"))"
   ]
  },
  {
   "cell_type": "code",
   "execution_count": null,
   "id": "2c2cb2f7",
   "metadata": {},
   "outputs": [],
   "source": [
    "left_matches = set()\n",
    "for uzm in unmatched_zillow_msas:\n",
    "    city, state = uzm.split(\", \")\n",
    "    for permit_msa in unmatched_permit_msas:\n",
    "        if city in permit_msa and state in permit_msa:\n",
    "            left_matches.add((uzm, permit_msa))\n",
    "            break\n",
    "\n",
    "left_match_df = pd.DataFrame(left_matches, columns=['Zillow', 'MSA'])\n",
    "auto_match_df = pd.DataFrame(msa_matches, columns=['Zillow', 'MSA'])\n",
    "\n",
    "msa_match_df = pd.concat([left_match_df, auto_match_df]).sort_values(['MSA', 'Zillow'])\n",
    "msa_match_df.head()"
   ]
  },
  {
   "cell_type": "code",
   "execution_count": null,
   "id": "44809e32",
   "metadata": {},
   "outputs": [],
   "source": [
    "msa_match_df.to_csv('msa_match.csv', index=False)"
   ]
  },
  {
   "cell_type": "code",
   "execution_count": null,
   "id": "69f34ce6",
   "metadata": {},
   "outputs": [],
   "source": [
    "zillow_msa_matches = set(msa_match_df.Zillow.unique())\n",
    "permit_msa_matches = set(msa_match_df.MSA.unique())\n",
    "\n",
    "unmatched_zillow_msas = zhvi_msa_set.difference(zillow_msa_matches)\n",
    "unmatched_permit_msas = permit_msa_set.difference(permit_msa_matches)\n",
    "\n",
    "print((f\"Matched: {len(msa_match_df)}, Unmatched Zillow: {len(unmatched_zillow_msas)}, \"\n",
    "       f\"Unmatched Census {len(unmatched_permit_msas)}\"))"
   ]
  },
  {
   "cell_type": "code",
   "execution_count": null,
   "id": "be45ad92",
   "metadata": {},
   "outputs": [],
   "source": [
    "big_df = msa_match_df.merge(permits_df, how='left', left_on='MSA', right_on='Name')\n",
    "big_df = big_df.merge(\n",
    "    ZHVI_df, how='inner', left_on=['Zillow', 'Year', 'Month'], right_on=['RegionName', 'Year', 'Month']\n",
    ")\n",
    "\n",
    "# drop_columns = ['Name', 'RegionID', 'RegionName', 'RegionType',  'SizeRank', 'Date_x', 'Date_y', 'StateName']\n",
    "drop_columns = ['Name', 'RegionID', 'RegionName', 'RegionType',  'SizeRank', 'Date_x', 'StateName']\n",
    "big_df['Date_y'] = pd.to_datetime(big_df['Date_y'])\n",
    "\n",
    "\n",
    "big_df.drop(columns=drop_columns, inplace=True)\n",
    "big_df.head()"
   ]
  },
  {
   "cell_type": "code",
   "execution_count": null,
   "id": "a76900c5",
   "metadata": {},
   "outputs": [],
   "source": [
    "# big_df.shape\n",
    "big_df.dtypes"
   ]
  },
  {
   "cell_type": "code",
   "execution_count": null,
   "id": "d64ce5be",
   "metadata": {},
   "outputs": [],
   "source": [
    "z_fnames = big_df['filename'].unique()\n",
    "\n",
    "z_cities = big_df['Zillow'].unique()\n",
    "\n",
    "city_dfs = [big_df[big_df['Zillow']==z] for z in z_cities]\n",
    "z_cat_dfs = [big_df[big_df['filename']==f] for f in z_fnames]\n",
    "\n",
    "\n"
   ]
  },
  {
   "cell_type": "code",
   "execution_count": null,
   "id": "13c251a5",
   "metadata": {},
   "outputs": [],
   "source": [
    "fig1, axes1 = plt.subplots(4, len(z_fnames))\n",
    "i=0\n",
    "\n",
    "reduced_cities = z_cities[:4]\n",
    "reduced_cities_dfs = city_dfs[:4]\n",
    "# print(z_fnames)\n",
    "\n",
    "for city,df in zip(reduced_cities, reduced_cities_dfs):\n",
    "    city_files = {}\n",
    "    j = 0\n",
    "    for z_f in z_fnames:\n",
    "        city_files[z_f] = df[df['filename']==z_f][['Date_y', 'Price']].dropna().set_index('Date_y').sort_index()\n",
    "        try: \n",
    "            res = seasonal_decompose(city_files[z_f], model = 'additive', period = 12)\n",
    "            axes1[i][j].plot(res.seasonal)\n",
    "            axes1[i][j].set_title[city + ' ' + z_f]\n",
    "            j+=1\n",
    "        except: j+=1\n",
    "        \n",
    "    i += 1\n"
   ]
  },
  {
   "cell_type": "code",
   "execution_count": null,
   "id": "41842e11",
   "metadata": {},
   "outputs": [],
   "source": [
    "fig2, axes2 = plt.subplots(4, len(z_fnames))\n",
    "i=0\n",
    "\n",
    "reduced_cities = z_cities[:4]\n",
    "reduced_cities_dfs = city_dfs[:4]\n",
    "# print(z_fnames)\n",
    "\n",
    "for city,df in zip(reduced_cities, reduced_cities_dfs):\n",
    "    city_files = {}\n",
    "    j = 0\n",
    "    for z_f in z_fnames:\n",
    "        city_files[z_f] = df[df['filename']==z_f][['Date_y', 'Price']].dropna().set_index('Date_y').sort_index()\n",
    "        try: \n",
    "            res = seasonal_decompose(city_files[z_f], model = 'additive', period = 12)\n",
    "            axes2[i][j].plot(res.observed)\n",
    "            axes2[i][j].set_title[city + ' ' + z_f]\n",
    "            j+=1\n",
    "        except: j+=1\n",
    "        \n",
    "    i += 1"
   ]
  },
  {
   "cell_type": "code",
   "execution_count": null,
   "id": "f9b4cebe",
   "metadata": {},
   "outputs": [],
   "source": [
    "fig3, axes3 = plt.subplots(4, len(z_fnames))\n",
    "i=0\n",
    "\n",
    "reduced_cities = z_cities[:4]\n",
    "reduced_cities_dfs = city_dfs[:4]\n",
    "# print(z_fnames)\n",
    "\n",
    "for city,df in zip(reduced_cities, reduced_cities_dfs):\n",
    "    city_files = {}\n",
    "    j = 0\n",
    "    for z_f in z_fnames:\n",
    "        city_files[z_f] = df[df['filename']==z_f][['Date_y', 'Price']].dropna().set_index('Date_y').sort_index()\n",
    "        try: \n",
    "            res = seasonal_decompose(city_files[z_f], model = 'additive', period = 12)\n",
    "            axes3[i][j].plot(res.trend)\n",
    "            axes3[i][j].set_title[city + ' ' + z_f]\n",
    "            j+=1\n",
    "        except: j+=1\n",
    "        \n",
    "    i += 1"
   ]
  },
  {
   "cell_type": "code",
   "execution_count": null,
   "id": "288737d6",
   "metadata": {},
   "outputs": [],
   "source": [
    "fig4, axes4 = plt.subplots(4, len(z_fnames))\n",
    "i=0\n",
    "\n",
    "reduced_cities = z_cities[:4]\n",
    "reduced_cities_dfs = city_dfs[:4]\n",
    "# print(z_fnames)\n",
    "\n",
    "for city,df in zip(reduced_cities, reduced_cities_dfs):\n",
    "    city_files = {}\n",
    "    j = 0\n",
    "    for z_f in z_fnames:\n",
    "        city_files[z_f] = df[df['filename']==z_f][['Date_y', 'Price']].dropna().set_index('Date_y').sort_index()\n",
    "        try: \n",
    "            res = seasonal_decompose(city_files[z_f], model = 'additive', period = 12)\n",
    "            axes4[i][j].plot(res.resid)\n",
    "            axes4[i][j].set_title[city + ' ' + z_f]\n",
    "            j+=1\n",
    "        except: j+=1\n",
    "        \n",
    "    i += 1"
   ]
  },
  {
   "cell_type": "code",
   "execution_count": null,
   "id": "57d56456",
   "metadata": {},
   "outputs": [],
   "source": [
    "fig5, axes5 = plt.subplots(4, 1)\n",
    "i=0\n",
    "\n",
    "reduced_cities = z_cities[:4]\n",
    "reduced_cities_dfs = city_dfs[:4]\n",
    "\n",
    "for city,df in zip(reduced_cities, reduced_cities_dfs):\n",
    "    city_files = {}\n",
    "    city_files[city] = df[['Date_y', 'Price']].dropna().set_index('Date_y').sort_index()\n",
    "    try: \n",
    "        res = seasonal_decompose(city_files[city], model = 'additive', period = 12)\n",
    "        axes5[i].plot(res.seasonal)\n",
    "        axes5[i].set_title[city]\n",
    "        i+=1\n",
    "    except: i+=1\n",
    "        \n"
   ]
  },
  {
   "cell_type": "code",
   "execution_count": null,
   "id": "f50da947",
   "metadata": {},
   "outputs": [],
   "source": [
    "fig, axes = plt.subplots(len(city_dfs), len(z_fnames), figsize = (100,200))\n",
    "\n",
    "\n",
    "i=0\n",
    "for city,df in zip(z_cities, city_dfs):\n",
    "    city_files = {}\n",
    "    j = 0\n",
    "    for z_f in z_fnames:\n",
    "        city_files[z_f] = df[df['filename']==z_f][['Date_y', 'Price']].dropna().set_index('Date_y').sort_index()\n",
    "        try: \n",
    "            res = seasonal_decompose(city_files[z_f], model = 'additive', period = 12)\n",
    "            axes[i][j].plot(res.seasonal)\n",
    "            axes[i][j].set_title[city + ' ' + z_f]\n",
    "            j+=1\n",
    "        except: j+=1\n",
    "        \n",
    "    i += 1\n",
    "        \n",
    "        \n",
    "    \n"
   ]
  },
  {
   "cell_type": "code",
   "execution_count": null,
   "id": "749373a8",
   "metadata": {},
   "outputs": [],
   "source": [
    "    \n"
   ]
  },
  {
   "cell_type": "code",
   "execution_count": null,
   "id": "c0a32ba0",
   "metadata": {},
   "outputs": [],
   "source": []
  },
  {
   "cell_type": "code",
   "execution_count": null,
   "id": "0532be03",
   "metadata": {},
   "outputs": [],
   "source": []
  }
 ],
 "metadata": {
  "colab": {
   "provenance": []
  },
  "kernelspec": {
   "display_name": "Python 3 (ipykernel)",
   "language": "python",
   "name": "python3"
  },
  "language_info": {
   "codemirror_mode": {
    "name": "ipython",
    "version": 3
   },
   "file_extension": ".py",
   "mimetype": "text/x-python",
   "name": "python",
   "nbconvert_exporter": "python",
   "pygments_lexer": "ipython3",
   "version": "3.9.0"
  }
 },
 "nbformat": 4,
 "nbformat_minor": 5
}
