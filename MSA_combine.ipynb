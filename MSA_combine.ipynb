{
 "cells": [
  {
   "cell_type": "code",
   "execution_count": 35,
   "id": "481aa628",
   "metadata": {
    "executionInfo": {
     "elapsed": 1278,
     "status": "ok",
     "timestamp": 1665234398656,
     "user": {
      "displayName": "mauve mauve",
      "userId": "09731923278332862276"
     },
     "user_tz": 240
    },
    "id": "481aa628"
   },
   "outputs": [],
   "source": [
    "import os\n",
    "import re\n",
    "\n",
    "import pandas as pd\n",
    "import numpy as np\n",
    "import altair as alt\n",
    "import datetime as dt"
   ]
  },
  {
   "cell_type": "code",
   "execution_count": 36,
   "id": "6cd3962f",
   "metadata": {},
   "outputs": [],
   "source": [
    "from statsmodels.tsa.seasonal import seasonal_decompose, DecomposeResult"
   ]
  },
  {
   "cell_type": "code",
   "execution_count": 37,
   "id": "9fb86g0rsTiF",
   "metadata": {
    "colab": {
     "base_uri": "https://localhost:8080/"
    },
    "executionInfo": {
     "elapsed": 499,
     "status": "ok",
     "timestamp": 1665234402197,
     "user": {
      "displayName": "mauve mauve",
      "userId": "09731923278332862276"
     },
     "user_tz": 240
    },
    "id": "9fb86g0rsTiF",
    "outputId": "52a7f749-e6df-499d-85e5-3f2b99fc200d"
   },
   "outputs": [],
   "source": [
    "msa_files = [os.path.join(\"msa\", file_path) for file_path in os.listdir('msa')]\n",
    "ZHVI_files = [os.path.join('zillow', file_path) for file_path in os.listdir( 'zillow')]"
   ]
  },
  {
   "cell_type": "code",
   "execution_count": 38,
   "id": "fYihPZbhstqn",
   "metadata": {
    "colab": {
     "base_uri": "https://localhost:8080/"
    },
    "executionInfo": {
     "elapsed": 2529,
     "status": "ok",
     "timestamp": 1665234415184,
     "user": {
      "displayName": "mauve mauve",
      "userId": "09731923278332862276"
     },
     "user_tz": 240
    },
    "id": "fYihPZbhstqn",
    "outputId": "6c75fc92-1a3b-4588-f96b-649b47b02bed"
   },
   "outputs": [
    {
     "name": "stdout",
     "output_type": "stream",
     "text": [
      "['msa/msamonthly_202102.xls', 'msa/msamonthly_202103.xls', 'msa/msamonthly_202101.xls', 'msa/msamonthly_202110.xls', 'msa/msamonthly_202104.xls', 'msa/msamonthly_202105.xls', 'msa/msamonthly_202111.xls', 'msa/msamonthly_202107.xls', 'msa/msamonthly_202112.xls', 'msa/msamonthly_202106.xls', 'msa/msamonthly_202001.xls', 'msa/msamonthly_202203.xls', 'msa/msamonthly_201911.xls', 'msa/msamonthly_202202.xls', 'msa/msamonthly_202002.xls', 'msa/msamonthly_201912.xls', 'msa/msamonthly_202201.xls', 'msa/msamonthly_202003.xls', 'msa/msamonthly_202007.xls', 'msa/msamonthly_202205.xls', 'msa/msamonthly_202204.xls', 'msa/msamonthly_202012.xls', 'msa/msamonthly_202006.xls', 'msa/msamonthly_202010.xls', 'msa/msamonthly_202004.xls', 'msa/msamonthly_202206.xls', 'msa/msamonthly_202207.xls', 'msa/msamonthly_202005.xls', 'msa/msamonthly_202011.xls', 'msa/msamonthly_202008.xls', 'msa/msamonthly_202009.xls', 'msa/msamonthly_202108.xls', 'msa/msamonthly_202109.xls']\n"
     ]
    }
   ],
   "source": [
    "msa_dfs = [pd.read_excel(f, skiprows=7)[1:] for f in msa_files]\n",
    "print(msa_files)"
   ]
  },
  {
   "cell_type": "code",
   "execution_count": 39,
   "id": "h7JeoiPItPKH",
   "metadata": {
    "colab": {
     "base_uri": "https://localhost:8080/",
     "height": 389
    },
    "executionInfo": {
     "elapsed": 164,
     "status": "ok",
     "timestamp": 1665234415339,
     "user": {
      "displayName": "mauve mauve",
      "userId": "09731923278332862276"
     },
     "user_tz": 240
    },
    "id": "h7JeoiPItPKH",
    "outputId": "ada3a9f9-9e50-4b2d-8516-b7adaf3b4f9d"
   },
   "outputs": [
    {
     "name": "stdout",
     "output_type": "stream",
     "text": [
      "Index(['CSA', 'CBSA', 'Name', 'Total', '1 Unit', '2 Units', '3 and 4 Units',\n",
      "       '5 Units or More', 'Num of Structures With 5 Units or More',\n",
      "       'Monthly Coverage Percent*', 'Unnamed: 10', 'Total.1', '1 Unit.1',\n",
      "       '2 Units.1', '3 and 4 Units.1', '5 Units or More.1',\n",
      "       'Num of Structures With 5 Units or More.1'],\n",
      "      dtype='object')\n"
     ]
    },
    {
     "data": {
      "text/plain": "     CSA     CBSA                                               Name  Total  \\\n1  999.0  10180.0  Abilene, TX                                   ...   33.0   \n2  184.0  10420.0  Akron, OH                                     ...   45.0   \n3  999.0  10500.0  Albany, GA                                    ...   32.0   \n4  440.0  10540.0  Albany-Lebanon, OR                            ...   58.0   \n5  104.0  10580.0  Albany-Schenectady-Troy, NY                   ...  268.0   \n\n   1 Unit  2 Units  3 and 4 Units  5 Units or More  \\\n1    31.0      2.0            0.0              0.0   \n2    45.0      0.0            0.0              0.0   \n3    15.0      0.0            0.0             17.0   \n4    37.0      0.0            0.0             21.0   \n5   118.0      4.0            0.0            146.0   \n\n   Num of Structures With 5 Units or More  \n1                                     0.0  \n2                                     0.0  \n3                                     1.0  \n4                                     3.0  \n5                                     2.0  ",
      "text/html": "<div>\n<style scoped>\n    .dataframe tbody tr th:only-of-type {\n        vertical-align: middle;\n    }\n\n    .dataframe tbody tr th {\n        vertical-align: top;\n    }\n\n    .dataframe thead th {\n        text-align: right;\n    }\n</style>\n<table border=\"1\" class=\"dataframe\">\n  <thead>\n    <tr style=\"text-align: right;\">\n      <th></th>\n      <th>CSA</th>\n      <th>CBSA</th>\n      <th>Name</th>\n      <th>Total</th>\n      <th>1 Unit</th>\n      <th>2 Units</th>\n      <th>3 and 4 Units</th>\n      <th>5 Units or More</th>\n      <th>Num of Structures With 5 Units or More</th>\n    </tr>\n  </thead>\n  <tbody>\n    <tr>\n      <th>1</th>\n      <td>999.0</td>\n      <td>10180.0</td>\n      <td>Abilene, TX                                   ...</td>\n      <td>33.0</td>\n      <td>31.0</td>\n      <td>2.0</td>\n      <td>0.0</td>\n      <td>0.0</td>\n      <td>0.0</td>\n    </tr>\n    <tr>\n      <th>2</th>\n      <td>184.0</td>\n      <td>10420.0</td>\n      <td>Akron, OH                                     ...</td>\n      <td>45.0</td>\n      <td>45.0</td>\n      <td>0.0</td>\n      <td>0.0</td>\n      <td>0.0</td>\n      <td>0.0</td>\n    </tr>\n    <tr>\n      <th>3</th>\n      <td>999.0</td>\n      <td>10500.0</td>\n      <td>Albany, GA                                    ...</td>\n      <td>32.0</td>\n      <td>15.0</td>\n      <td>0.0</td>\n      <td>0.0</td>\n      <td>17.0</td>\n      <td>1.0</td>\n    </tr>\n    <tr>\n      <th>4</th>\n      <td>440.0</td>\n      <td>10540.0</td>\n      <td>Albany-Lebanon, OR                            ...</td>\n      <td>58.0</td>\n      <td>37.0</td>\n      <td>0.0</td>\n      <td>0.0</td>\n      <td>21.0</td>\n      <td>3.0</td>\n    </tr>\n    <tr>\n      <th>5</th>\n      <td>104.0</td>\n      <td>10580.0</td>\n      <td>Albany-Schenectady-Troy, NY                   ...</td>\n      <td>268.0</td>\n      <td>118.0</td>\n      <td>4.0</td>\n      <td>0.0</td>\n      <td>146.0</td>\n      <td>2.0</td>\n    </tr>\n  </tbody>\n</table>\n</div>"
     },
     "execution_count": 39,
     "metadata": {},
     "output_type": "execute_result"
    }
   ],
   "source": [
    "print(msa_dfs[0].columns)\n",
    "\n",
    "msa_cols = ['CSA', 'CBSA', 'Name', 'Total', '1 Unit', '2 Units', \n",
    "            '3 and 4 Units','5 Units or More', \n",
    "            'Num of Structures With 5 Units or More']\n",
    "msa_dfs = [df[msa_cols] for df in msa_dfs]\n",
    "\n",
    "msa_dfs[0].head()"
   ]
  },
  {
   "cell_type": "code",
   "execution_count": 40,
   "id": "FNFMUMm6u89q",
   "metadata": {
    "colab": {
     "base_uri": "https://localhost:8080/"
    },
    "executionInfo": {
     "elapsed": 11,
     "status": "ok",
     "timestamp": 1665234415340,
     "user": {
      "displayName": "mauve mauve",
      "userId": "09731923278332862276"
     },
     "user_tz": 240
    },
    "id": "FNFMUMm6u89q",
    "outputId": "00de3563-2e3f-4cbe-8752-468bfdf44c93"
   },
   "outputs": [
    {
     "name": "stdout",
     "output_type": "stream",
     "text": [
      "Index(['CSA', 'CBSA', 'Name', 'Total', '1 Unit', '2 Units', '3 and 4 Units',\n",
      "       '5 Units or More', 'Num of Structures With 5 Units or More'],\n",
      "      dtype='object')\n"
     ]
    }
   ],
   "source": [
    "print(msa_dfs[0].columns)"
   ]
  },
  {
   "cell_type": "code",
   "execution_count": 41,
   "id": "NV1o0Tt3dF6Q",
   "metadata": {
    "colab": {
     "base_uri": "https://localhost:8080/",
     "height": 285
    },
    "executionInfo": {
     "elapsed": 6,
     "status": "ok",
     "timestamp": 1665234415470,
     "user": {
      "displayName": "mauve mauve",
      "userId": "09731923278332862276"
     },
     "user_tz": 240
    },
    "id": "NV1o0Tt3dF6Q",
    "outputId": "a6d98106-05eb-4c3f-9574-7fb1906cf1f3"
   },
   "outputs": [
    {
     "data": {
      "text/plain": "     CSA     CBSA                                               Name  Total  \\\n1  999.0  10180.0  Abilene, TX                                   ...   62.0   \n2  184.0  10420.0  Akron, OH                                     ...   62.0   \n3  999.0  10500.0  Albany, GA                                    ...   40.0   \n4  440.0  10540.0  Albany-Lebanon, OR                            ...   66.0   \n5  104.0  10580.0  Albany-Schenectady-Troy, NY                   ...  273.0   \n\n   1 Unit  2 Units  3 and 4 Units  5 Units or More  \\\n1    56.0      6.0            0.0              0.0   \n2    57.0      0.0            0.0              5.0   \n3    26.0      0.0            0.0             14.0   \n4    29.0      4.0            3.0             30.0   \n5    97.0      2.0            3.0            171.0   \n\n   Num of Structures With 5 Units or More    Date  \n1                                     0.0  202109  \n2                                     1.0  202109  \n3                                     1.0  202109  \n4                                     3.0  202109  \n5                                     4.0  202109  ",
      "text/html": "<div>\n<style scoped>\n    .dataframe tbody tr th:only-of-type {\n        vertical-align: middle;\n    }\n\n    .dataframe tbody tr th {\n        vertical-align: top;\n    }\n\n    .dataframe thead th {\n        text-align: right;\n    }\n</style>\n<table border=\"1\" class=\"dataframe\">\n  <thead>\n    <tr style=\"text-align: right;\">\n      <th></th>\n      <th>CSA</th>\n      <th>CBSA</th>\n      <th>Name</th>\n      <th>Total</th>\n      <th>1 Unit</th>\n      <th>2 Units</th>\n      <th>3 and 4 Units</th>\n      <th>5 Units or More</th>\n      <th>Num of Structures With 5 Units or More</th>\n      <th>Date</th>\n    </tr>\n  </thead>\n  <tbody>\n    <tr>\n      <th>1</th>\n      <td>999.0</td>\n      <td>10180.0</td>\n      <td>Abilene, TX                                   ...</td>\n      <td>62.0</td>\n      <td>56.0</td>\n      <td>6.0</td>\n      <td>0.0</td>\n      <td>0.0</td>\n      <td>0.0</td>\n      <td>202109</td>\n    </tr>\n    <tr>\n      <th>2</th>\n      <td>184.0</td>\n      <td>10420.0</td>\n      <td>Akron, OH                                     ...</td>\n      <td>62.0</td>\n      <td>57.0</td>\n      <td>0.0</td>\n      <td>0.0</td>\n      <td>5.0</td>\n      <td>1.0</td>\n      <td>202109</td>\n    </tr>\n    <tr>\n      <th>3</th>\n      <td>999.0</td>\n      <td>10500.0</td>\n      <td>Albany, GA                                    ...</td>\n      <td>40.0</td>\n      <td>26.0</td>\n      <td>0.0</td>\n      <td>0.0</td>\n      <td>14.0</td>\n      <td>1.0</td>\n      <td>202109</td>\n    </tr>\n    <tr>\n      <th>4</th>\n      <td>440.0</td>\n      <td>10540.0</td>\n      <td>Albany-Lebanon, OR                            ...</td>\n      <td>66.0</td>\n      <td>29.0</td>\n      <td>4.0</td>\n      <td>3.0</td>\n      <td>30.0</td>\n      <td>3.0</td>\n      <td>202109</td>\n    </tr>\n    <tr>\n      <th>5</th>\n      <td>104.0</td>\n      <td>10580.0</td>\n      <td>Albany-Schenectady-Troy, NY                   ...</td>\n      <td>273.0</td>\n      <td>97.0</td>\n      <td>2.0</td>\n      <td>3.0</td>\n      <td>171.0</td>\n      <td>4.0</td>\n      <td>202109</td>\n    </tr>\n  </tbody>\n</table>\n</div>"
     },
     "execution_count": 41,
     "metadata": {},
     "output_type": "execute_result"
    }
   ],
   "source": [
    "for df, name in zip(msa_dfs, msa_files):\n",
    "    df['Date'] = name[name.rfind('_')+1:name.rfind('.')]\n",
    "\n",
    "df.head()"
   ]
  },
  {
   "cell_type": "code",
   "execution_count": 42,
   "id": "pql9Q4RcdyQ2",
   "metadata": {
    "colab": {
     "base_uri": "https://localhost:8080/",
     "height": 520
    },
    "executionInfo": {
     "elapsed": 163,
     "status": "ok",
     "timestamp": 1665234416907,
     "user": {
      "displayName": "mauve mauve",
      "userId": "09731923278332862276"
     },
     "user_tz": 240
    },
    "id": "pql9Q4RcdyQ2",
    "outputId": "94351ecc-f73e-4b5d-c885-3dd81ac4f3e4"
   },
   "outputs": [
    {
     "data": {
      "text/plain": "     CSA     CBSA                         Name  Total  1 Unit  2 Units  \\\n1  999.0  10180.0                  Abilene, TX   33.0    31.0      2.0   \n2  184.0  10420.0                    Akron, OH   45.0    45.0      0.0   \n3  999.0  10500.0                   Albany, GA   32.0    15.0      0.0   \n4  440.0  10540.0           Albany-Lebanon, OR   58.0    37.0      0.0   \n5  104.0  10580.0  Albany-Schenectady-Troy, NY  268.0   118.0      4.0   \n\n   3 and 4 Units  5 Units or More  Num of Structures With 5 Units or More  \\\n1            0.0              0.0                                     0.0   \n2            0.0              0.0                                     0.0   \n3            0.0             17.0                                     1.0   \n4            0.0             21.0                                     3.0   \n5            0.0            146.0                                     2.0   \n\n     Date  Year  Month  \n1  202102  2021      2  \n2  202102  2021      2  \n3  202102  2021      2  \n4  202102  2021      2  \n5  202102  2021      2  ",
      "text/html": "<div>\n<style scoped>\n    .dataframe tbody tr th:only-of-type {\n        vertical-align: middle;\n    }\n\n    .dataframe tbody tr th {\n        vertical-align: top;\n    }\n\n    .dataframe thead th {\n        text-align: right;\n    }\n</style>\n<table border=\"1\" class=\"dataframe\">\n  <thead>\n    <tr style=\"text-align: right;\">\n      <th></th>\n      <th>CSA</th>\n      <th>CBSA</th>\n      <th>Name</th>\n      <th>Total</th>\n      <th>1 Unit</th>\n      <th>2 Units</th>\n      <th>3 and 4 Units</th>\n      <th>5 Units or More</th>\n      <th>Num of Structures With 5 Units or More</th>\n      <th>Date</th>\n      <th>Year</th>\n      <th>Month</th>\n    </tr>\n  </thead>\n  <tbody>\n    <tr>\n      <th>1</th>\n      <td>999.0</td>\n      <td>10180.0</td>\n      <td>Abilene, TX</td>\n      <td>33.0</td>\n      <td>31.0</td>\n      <td>2.0</td>\n      <td>0.0</td>\n      <td>0.0</td>\n      <td>0.0</td>\n      <td>202102</td>\n      <td>2021</td>\n      <td>2</td>\n    </tr>\n    <tr>\n      <th>2</th>\n      <td>184.0</td>\n      <td>10420.0</td>\n      <td>Akron, OH</td>\n      <td>45.0</td>\n      <td>45.0</td>\n      <td>0.0</td>\n      <td>0.0</td>\n      <td>0.0</td>\n      <td>0.0</td>\n      <td>202102</td>\n      <td>2021</td>\n      <td>2</td>\n    </tr>\n    <tr>\n      <th>3</th>\n      <td>999.0</td>\n      <td>10500.0</td>\n      <td>Albany, GA</td>\n      <td>32.0</td>\n      <td>15.0</td>\n      <td>0.0</td>\n      <td>0.0</td>\n      <td>17.0</td>\n      <td>1.0</td>\n      <td>202102</td>\n      <td>2021</td>\n      <td>2</td>\n    </tr>\n    <tr>\n      <th>4</th>\n      <td>440.0</td>\n      <td>10540.0</td>\n      <td>Albany-Lebanon, OR</td>\n      <td>58.0</td>\n      <td>37.0</td>\n      <td>0.0</td>\n      <td>0.0</td>\n      <td>21.0</td>\n      <td>3.0</td>\n      <td>202102</td>\n      <td>2021</td>\n      <td>2</td>\n    </tr>\n    <tr>\n      <th>5</th>\n      <td>104.0</td>\n      <td>10580.0</td>\n      <td>Albany-Schenectady-Troy, NY</td>\n      <td>268.0</td>\n      <td>118.0</td>\n      <td>4.0</td>\n      <td>0.0</td>\n      <td>146.0</td>\n      <td>2.0</td>\n      <td>202102</td>\n      <td>2021</td>\n      <td>2</td>\n    </tr>\n  </tbody>\n</table>\n</div>"
     },
     "execution_count": 42,
     "metadata": {},
     "output_type": "execute_result"
    }
   ],
   "source": [
    "permits_df = pd.concat(msa_dfs).dropna(axis = 1)\n",
    "permits_df.Name = permits_df.Name.apply(lambda x: x.strip())\n",
    "permits_df['Year'] = permits_df.Date.apply(lambda x: int(x[:4]))\n",
    "permits_df['Month'] = permits_df.Date.apply(lambda x: int(x[4:]))\n",
    "\n",
    "permits_df.head()"
   ]
  },
  {
   "cell_type": "code",
   "execution_count": 43,
   "id": "FhnMqONBv8d7",
   "metadata": {
    "colab": {
     "base_uri": "https://localhost:8080/",
     "height": 352
    },
    "executionInfo": {
     "elapsed": 141,
     "status": "ok",
     "timestamp": 1665236852713,
     "user": {
      "displayName": "mauve mauve",
      "userId": "09731923278332862276"
     },
     "user_tz": 240
    },
    "id": "FhnMqONBv8d7",
    "outputId": "6d3efb0b-85cd-4aa5-fd0c-dc5da3926085"
   },
   "outputs": [
    {
     "data": {
      "text/plain": "   RegionID  SizeRank       RegionName RegionType StateName  2000-01-31  \\\n1    394913         1     New York, NY        msa        NY    398618.0   \n2    753899         2  Los Angeles, CA        msa        CA    412833.0   \n3    394463         3      Chicago, IL        msa        IL    295109.0   \n4    394514         4       Dallas, TX        msa        TX    231125.0   \n5    394692         5      Houston, TX        msa        TX    226539.0   \n\n   2000-02-29  2000-03-31  2000-04-30  2000-05-31  ...  2021-11-30  \\\n1    400989.0    403125.0    407346.0    411288.0  ...    944392.0   \n2    414349.0    416476.0    420539.0    424798.0  ...   1459690.0   \n3    295865.0    296827.0    298700.0    300646.0  ...    464815.0   \n4    231200.0    231294.0    231544.0    231819.0  ...    546482.0   \n5    226746.0    226568.0    226884.0    226956.0  ...    455285.0   \n\n   2021-12-31  2022-01-31  2022-02-28  2022-03-31  2022-04-30  2022-05-31  \\\n1    949401.0    955581.0    963163.0    973716.0    985181.0    997357.0   \n2   1475813.0   1494850.0   1516710.0   1547884.0   1582369.0   1612876.0   \n3    468835.0    472579.0    476171.0    481214.0    486852.0    493379.0   \n4    556356.0    568739.0    582375.0    595125.0    610729.0    625328.0   \n5    460482.0    465816.0    472578.0    481148.0    490962.0    500094.0   \n\n   2022-06-30  2022-07-31  2022-08-31  \n1   1007381.0   1014851.0   1019097.0  \n2   1617590.0   1615957.0   1595977.0  \n3    498309.0    501462.0    502214.0  \n4    638078.0    641222.0    639479.0  \n5    506863.0    510726.0    512294.0  \n\n[5 rows x 277 columns]",
      "text/html": "<div>\n<style scoped>\n    .dataframe tbody tr th:only-of-type {\n        vertical-align: middle;\n    }\n\n    .dataframe tbody tr th {\n        vertical-align: top;\n    }\n\n    .dataframe thead th {\n        text-align: right;\n    }\n</style>\n<table border=\"1\" class=\"dataframe\">\n  <thead>\n    <tr style=\"text-align: right;\">\n      <th></th>\n      <th>RegionID</th>\n      <th>SizeRank</th>\n      <th>RegionName</th>\n      <th>RegionType</th>\n      <th>StateName</th>\n      <th>2000-01-31</th>\n      <th>2000-02-29</th>\n      <th>2000-03-31</th>\n      <th>2000-04-30</th>\n      <th>2000-05-31</th>\n      <th>...</th>\n      <th>2021-11-30</th>\n      <th>2021-12-31</th>\n      <th>2022-01-31</th>\n      <th>2022-02-28</th>\n      <th>2022-03-31</th>\n      <th>2022-04-30</th>\n      <th>2022-05-31</th>\n      <th>2022-06-30</th>\n      <th>2022-07-31</th>\n      <th>2022-08-31</th>\n    </tr>\n  </thead>\n  <tbody>\n    <tr>\n      <th>1</th>\n      <td>394913</td>\n      <td>1</td>\n      <td>New York, NY</td>\n      <td>msa</td>\n      <td>NY</td>\n      <td>398618.0</td>\n      <td>400989.0</td>\n      <td>403125.0</td>\n      <td>407346.0</td>\n      <td>411288.0</td>\n      <td>...</td>\n      <td>944392.0</td>\n      <td>949401.0</td>\n      <td>955581.0</td>\n      <td>963163.0</td>\n      <td>973716.0</td>\n      <td>985181.0</td>\n      <td>997357.0</td>\n      <td>1007381.0</td>\n      <td>1014851.0</td>\n      <td>1019097.0</td>\n    </tr>\n    <tr>\n      <th>2</th>\n      <td>753899</td>\n      <td>2</td>\n      <td>Los Angeles, CA</td>\n      <td>msa</td>\n      <td>CA</td>\n      <td>412833.0</td>\n      <td>414349.0</td>\n      <td>416476.0</td>\n      <td>420539.0</td>\n      <td>424798.0</td>\n      <td>...</td>\n      <td>1459690.0</td>\n      <td>1475813.0</td>\n      <td>1494850.0</td>\n      <td>1516710.0</td>\n      <td>1547884.0</td>\n      <td>1582369.0</td>\n      <td>1612876.0</td>\n      <td>1617590.0</td>\n      <td>1615957.0</td>\n      <td>1595977.0</td>\n    </tr>\n    <tr>\n      <th>3</th>\n      <td>394463</td>\n      <td>3</td>\n      <td>Chicago, IL</td>\n      <td>msa</td>\n      <td>IL</td>\n      <td>295109.0</td>\n      <td>295865.0</td>\n      <td>296827.0</td>\n      <td>298700.0</td>\n      <td>300646.0</td>\n      <td>...</td>\n      <td>464815.0</td>\n      <td>468835.0</td>\n      <td>472579.0</td>\n      <td>476171.0</td>\n      <td>481214.0</td>\n      <td>486852.0</td>\n      <td>493379.0</td>\n      <td>498309.0</td>\n      <td>501462.0</td>\n      <td>502214.0</td>\n    </tr>\n    <tr>\n      <th>4</th>\n      <td>394514</td>\n      <td>4</td>\n      <td>Dallas, TX</td>\n      <td>msa</td>\n      <td>TX</td>\n      <td>231125.0</td>\n      <td>231200.0</td>\n      <td>231294.0</td>\n      <td>231544.0</td>\n      <td>231819.0</td>\n      <td>...</td>\n      <td>546482.0</td>\n      <td>556356.0</td>\n      <td>568739.0</td>\n      <td>582375.0</td>\n      <td>595125.0</td>\n      <td>610729.0</td>\n      <td>625328.0</td>\n      <td>638078.0</td>\n      <td>641222.0</td>\n      <td>639479.0</td>\n    </tr>\n    <tr>\n      <th>5</th>\n      <td>394692</td>\n      <td>5</td>\n      <td>Houston, TX</td>\n      <td>msa</td>\n      <td>TX</td>\n      <td>226539.0</td>\n      <td>226746.0</td>\n      <td>226568.0</td>\n      <td>226884.0</td>\n      <td>226956.0</td>\n      <td>...</td>\n      <td>455285.0</td>\n      <td>460482.0</td>\n      <td>465816.0</td>\n      <td>472578.0</td>\n      <td>481148.0</td>\n      <td>490962.0</td>\n      <td>500094.0</td>\n      <td>506863.0</td>\n      <td>510726.0</td>\n      <td>512294.0</td>\n    </tr>\n  </tbody>\n</table>\n<p>5 rows × 277 columns</p>\n</div>"
     },
     "execution_count": 43,
     "metadata": {},
     "output_type": "execute_result"
    }
   ],
   "source": [
    "ZHVI_dfs = [pd.read_csv(z) for z in ZHVI_files]\n",
    "ZHVI_dfs = [df[df['RegionType']=='msa'] for df in ZHVI_dfs]\n",
    "\n",
    "ZHVI_dfs[0].head()"
   ]
  },
  {
   "cell_type": "code",
   "execution_count": 44,
   "id": "Q-1IVAsyrJFt",
   "metadata": {
    "colab": {
     "base_uri": "https://localhost:8080/",
     "height": 352
    },
    "executionInfo": {
     "elapsed": 139,
     "status": "ok",
     "timestamp": 1665234424573,
     "user": {
      "displayName": "mauve mauve",
      "userId": "09731923278332862276"
     },
     "user_tz": 240
    },
    "id": "Q-1IVAsyrJFt",
    "outputId": "26d4a48b-ac0f-40bf-ded9-26d2dd5f519d"
   },
   "outputs": [
    {
     "data": {
      "text/plain": "   RegionID  SizeRank       RegionName RegionType StateName  2000-01-31  \\\n1    394913         1     New York, NY        msa        NY    269152.0   \n2    753899         2  Los Angeles, CA        msa        CA    286048.0   \n3    394463         3      Chicago, IL        msa        IL    216379.0   \n4    394514         4       Dallas, TX        msa        TX    183601.0   \n5    394692         5      Houston, TX        msa        TX    165886.0   \n\n   2000-02-29  2000-03-31  2000-04-30  2000-05-31  ...  2021-12-31  \\\n1    270818.0    272236.0    275165.0    277939.0  ...    653921.0   \n2    287357.0    288898.0    291929.0    294973.0  ...   1035580.0   \n3    216954.0    217723.0    219175.0    220698.0  ...    388057.0   \n4    183579.0    183670.0    183826.0    184014.0  ...    445207.0   \n5    165941.0    165744.0    165896.0    165865.0  ...    338518.0   \n\n   2022-01-31  2022-02-28  2022-03-31  2022-04-30  2022-05-31  2022-06-30  \\\n1    658777.0    664655.0    672580.0    681386.0    690621.0    698178.0   \n2   1052255.0   1070162.0   1094323.0   1119753.0   1142443.0   1145790.0   \n3    391541.0    395013.0    399657.0    404845.0    410553.0    414859.0   \n4    455516.0    466538.0    476764.0    489400.0    501440.0    511803.0   \n5    342701.0    348083.0    354884.0    362637.0    369808.0    375118.0   \n\n   2022-07-31  2022-08-31                                           filename  \n1    703790.0    706621.0  Metro_zhvi_bdrmcnt_4_uc_sfrcondo_tier_0.33_0.6...  \n2   1142258.0   1125769.0  Metro_zhvi_bdrmcnt_4_uc_sfrcondo_tier_0.33_0.6...  \n3    417500.0    418126.0  Metro_zhvi_bdrmcnt_4_uc_sfrcondo_tier_0.33_0.6...  \n4    514244.0    512422.0  Metro_zhvi_bdrmcnt_4_uc_sfrcondo_tier_0.33_0.6...  \n5    378198.0    379363.0  Metro_zhvi_bdrmcnt_4_uc_sfrcondo_tier_0.33_0.6...  \n\n[5 rows x 278 columns]",
      "text/html": "<div>\n<style scoped>\n    .dataframe tbody tr th:only-of-type {\n        vertical-align: middle;\n    }\n\n    .dataframe tbody tr th {\n        vertical-align: top;\n    }\n\n    .dataframe thead th {\n        text-align: right;\n    }\n</style>\n<table border=\"1\" class=\"dataframe\">\n  <thead>\n    <tr style=\"text-align: right;\">\n      <th></th>\n      <th>RegionID</th>\n      <th>SizeRank</th>\n      <th>RegionName</th>\n      <th>RegionType</th>\n      <th>StateName</th>\n      <th>2000-01-31</th>\n      <th>2000-02-29</th>\n      <th>2000-03-31</th>\n      <th>2000-04-30</th>\n      <th>2000-05-31</th>\n      <th>...</th>\n      <th>2021-12-31</th>\n      <th>2022-01-31</th>\n      <th>2022-02-28</th>\n      <th>2022-03-31</th>\n      <th>2022-04-30</th>\n      <th>2022-05-31</th>\n      <th>2022-06-30</th>\n      <th>2022-07-31</th>\n      <th>2022-08-31</th>\n      <th>filename</th>\n    </tr>\n  </thead>\n  <tbody>\n    <tr>\n      <th>1</th>\n      <td>394913</td>\n      <td>1</td>\n      <td>New York, NY</td>\n      <td>msa</td>\n      <td>NY</td>\n      <td>269152.0</td>\n      <td>270818.0</td>\n      <td>272236.0</td>\n      <td>275165.0</td>\n      <td>277939.0</td>\n      <td>...</td>\n      <td>653921.0</td>\n      <td>658777.0</td>\n      <td>664655.0</td>\n      <td>672580.0</td>\n      <td>681386.0</td>\n      <td>690621.0</td>\n      <td>698178.0</td>\n      <td>703790.0</td>\n      <td>706621.0</td>\n      <td>Metro_zhvi_bdrmcnt_4_uc_sfrcondo_tier_0.33_0.6...</td>\n    </tr>\n    <tr>\n      <th>2</th>\n      <td>753899</td>\n      <td>2</td>\n      <td>Los Angeles, CA</td>\n      <td>msa</td>\n      <td>CA</td>\n      <td>286048.0</td>\n      <td>287357.0</td>\n      <td>288898.0</td>\n      <td>291929.0</td>\n      <td>294973.0</td>\n      <td>...</td>\n      <td>1035580.0</td>\n      <td>1052255.0</td>\n      <td>1070162.0</td>\n      <td>1094323.0</td>\n      <td>1119753.0</td>\n      <td>1142443.0</td>\n      <td>1145790.0</td>\n      <td>1142258.0</td>\n      <td>1125769.0</td>\n      <td>Metro_zhvi_bdrmcnt_4_uc_sfrcondo_tier_0.33_0.6...</td>\n    </tr>\n    <tr>\n      <th>3</th>\n      <td>394463</td>\n      <td>3</td>\n      <td>Chicago, IL</td>\n      <td>msa</td>\n      <td>IL</td>\n      <td>216379.0</td>\n      <td>216954.0</td>\n      <td>217723.0</td>\n      <td>219175.0</td>\n      <td>220698.0</td>\n      <td>...</td>\n      <td>388057.0</td>\n      <td>391541.0</td>\n      <td>395013.0</td>\n      <td>399657.0</td>\n      <td>404845.0</td>\n      <td>410553.0</td>\n      <td>414859.0</td>\n      <td>417500.0</td>\n      <td>418126.0</td>\n      <td>Metro_zhvi_bdrmcnt_4_uc_sfrcondo_tier_0.33_0.6...</td>\n    </tr>\n    <tr>\n      <th>4</th>\n      <td>394514</td>\n      <td>4</td>\n      <td>Dallas, TX</td>\n      <td>msa</td>\n      <td>TX</td>\n      <td>183601.0</td>\n      <td>183579.0</td>\n      <td>183670.0</td>\n      <td>183826.0</td>\n      <td>184014.0</td>\n      <td>...</td>\n      <td>445207.0</td>\n      <td>455516.0</td>\n      <td>466538.0</td>\n      <td>476764.0</td>\n      <td>489400.0</td>\n      <td>501440.0</td>\n      <td>511803.0</td>\n      <td>514244.0</td>\n      <td>512422.0</td>\n      <td>Metro_zhvi_bdrmcnt_4_uc_sfrcondo_tier_0.33_0.6...</td>\n    </tr>\n    <tr>\n      <th>5</th>\n      <td>394692</td>\n      <td>5</td>\n      <td>Houston, TX</td>\n      <td>msa</td>\n      <td>TX</td>\n      <td>165886.0</td>\n      <td>165941.0</td>\n      <td>165744.0</td>\n      <td>165896.0</td>\n      <td>165865.0</td>\n      <td>...</td>\n      <td>338518.0</td>\n      <td>342701.0</td>\n      <td>348083.0</td>\n      <td>354884.0</td>\n      <td>362637.0</td>\n      <td>369808.0</td>\n      <td>375118.0</td>\n      <td>378198.0</td>\n      <td>379363.0</td>\n      <td>Metro_zhvi_bdrmcnt_4_uc_sfrcondo_tier_0.33_0.6...</td>\n    </tr>\n  </tbody>\n</table>\n<p>5 rows × 278 columns</p>\n</div>"
     },
     "execution_count": 44,
     "metadata": {},
     "output_type": "execute_result"
    }
   ],
   "source": [
    "for df,f in zip(ZHVI_dfs, ZHVI_files):\n",
    "    df['filename'] = f[f.rfind('/')+1:-4]\n",
    "df.head()"
   ]
  },
  {
   "cell_type": "code",
   "execution_count": 45,
   "id": "F2OTDn54r5vv",
   "metadata": {
    "executionInfo": {
     "elapsed": 128,
     "status": "ok",
     "timestamp": 1665234428001,
     "user": {
      "displayName": "mauve mauve",
      "userId": "09731923278332862276"
     },
     "user_tz": 240
    },
    "id": "F2OTDn54r5vv"
   },
   "outputs": [],
   "source": [
    "ZHVI_df = pd.concat(ZHVI_dfs)"
   ]
  },
  {
   "cell_type": "code",
   "execution_count": 46,
   "id": "v_bBzcYfr_qC",
   "metadata": {
    "colab": {
     "base_uri": "https://localhost:8080/"
    },
    "executionInfo": {
     "elapsed": 145,
     "status": "ok",
     "timestamp": 1665235106607,
     "user": {
      "displayName": "mauve mauve",
      "userId": "09731923278332862276"
     },
     "user_tz": 240
    },
    "id": "v_bBzcYfr_qC",
    "outputId": "71698458-0e3e-4e20-a0aa-5f623786668d",
    "scrolled": true
   },
   "outputs": [
    {
     "name": "stdout",
     "output_type": "stream",
     "text": [
      "Index(['RegionID', 'SizeRank', 'RegionName', 'RegionType', 'StateName',\n",
      "       '2000-01-31', '2000-02-29', '2000-03-31', '2000-04-30', '2000-05-31',\n",
      "       ...\n",
      "       '1999-03-31', '1999-04-30', '1999-05-31', '1999-06-30', '1999-07-31',\n",
      "       '1999-08-31', '1999-09-30', '1999-10-31', '1999-11-30', '1999-12-31'],\n",
      "      dtype='object', length=326)\n"
     ]
    }
   ],
   "source": [
    "print(ZHVI_df.columns)"
   ]
  },
  {
   "cell_type": "code",
   "execution_count": 47,
   "id": "6ATD9innry4R",
   "metadata": {
    "colab": {
     "base_uri": "https://localhost:8080/",
     "height": 557
    },
    "executionInfo": {
     "elapsed": 299,
     "status": "ok",
     "timestamp": 1665234429815,
     "user": {
      "displayName": "mauve mauve",
      "userId": "09731923278332862276"
     },
     "user_tz": 240
    },
    "id": "6ATD9innry4R",
    "outputId": "9ad51475-342d-47e5-c059-2f0f2fe9b024",
    "scrolled": true
   },
   "outputs": [
    {
     "data": {
      "text/plain": "   RegionID  SizeRank       RegionName RegionType StateName  2000-01-31  \\\n1    394913         1     New York, NY        msa        NY    398618.0   \n2    753899         2  Los Angeles, CA        msa        CA    412833.0   \n3    394463         3      Chicago, IL        msa        IL    295109.0   \n4    394514         4       Dallas, TX        msa        TX    231125.0   \n5    394692         5      Houston, TX        msa        TX    226539.0   \n\n   2000-02-29  2000-03-31  2000-04-30  2000-05-31  ...  1999-03-31  \\\n1    400989.0    403125.0    407346.0    411288.0  ...         NaN   \n2    414349.0    416476.0    420539.0    424798.0  ...         NaN   \n3    295865.0    296827.0    298700.0    300646.0  ...         NaN   \n4    231200.0    231294.0    231544.0    231819.0  ...         NaN   \n5    226746.0    226568.0    226884.0    226956.0  ...         NaN   \n\n   1999-04-30  1999-05-31  1999-06-30  1999-07-31  1999-08-31  1999-09-30  \\\n1         NaN         NaN         NaN         NaN         NaN         NaN   \n2         NaN         NaN         NaN         NaN         NaN         NaN   \n3         NaN         NaN         NaN         NaN         NaN         NaN   \n4         NaN         NaN         NaN         NaN         NaN         NaN   \n5         NaN         NaN         NaN         NaN         NaN         NaN   \n\n   1999-10-31  1999-11-30  1999-12-31  \n1         NaN         NaN         NaN  \n2         NaN         NaN         NaN  \n3         NaN         NaN         NaN  \n4         NaN         NaN         NaN  \n5         NaN         NaN         NaN  \n\n[5 rows x 326 columns]",
      "text/html": "<div>\n<style scoped>\n    .dataframe tbody tr th:only-of-type {\n        vertical-align: middle;\n    }\n\n    .dataframe tbody tr th {\n        vertical-align: top;\n    }\n\n    .dataframe thead th {\n        text-align: right;\n    }\n</style>\n<table border=\"1\" class=\"dataframe\">\n  <thead>\n    <tr style=\"text-align: right;\">\n      <th></th>\n      <th>RegionID</th>\n      <th>SizeRank</th>\n      <th>RegionName</th>\n      <th>RegionType</th>\n      <th>StateName</th>\n      <th>2000-01-31</th>\n      <th>2000-02-29</th>\n      <th>2000-03-31</th>\n      <th>2000-04-30</th>\n      <th>2000-05-31</th>\n      <th>...</th>\n      <th>1999-03-31</th>\n      <th>1999-04-30</th>\n      <th>1999-05-31</th>\n      <th>1999-06-30</th>\n      <th>1999-07-31</th>\n      <th>1999-08-31</th>\n      <th>1999-09-30</th>\n      <th>1999-10-31</th>\n      <th>1999-11-30</th>\n      <th>1999-12-31</th>\n    </tr>\n  </thead>\n  <tbody>\n    <tr>\n      <th>1</th>\n      <td>394913</td>\n      <td>1</td>\n      <td>New York, NY</td>\n      <td>msa</td>\n      <td>NY</td>\n      <td>398618.0</td>\n      <td>400989.0</td>\n      <td>403125.0</td>\n      <td>407346.0</td>\n      <td>411288.0</td>\n      <td>...</td>\n      <td>NaN</td>\n      <td>NaN</td>\n      <td>NaN</td>\n      <td>NaN</td>\n      <td>NaN</td>\n      <td>NaN</td>\n      <td>NaN</td>\n      <td>NaN</td>\n      <td>NaN</td>\n      <td>NaN</td>\n    </tr>\n    <tr>\n      <th>2</th>\n      <td>753899</td>\n      <td>2</td>\n      <td>Los Angeles, CA</td>\n      <td>msa</td>\n      <td>CA</td>\n      <td>412833.0</td>\n      <td>414349.0</td>\n      <td>416476.0</td>\n      <td>420539.0</td>\n      <td>424798.0</td>\n      <td>...</td>\n      <td>NaN</td>\n      <td>NaN</td>\n      <td>NaN</td>\n      <td>NaN</td>\n      <td>NaN</td>\n      <td>NaN</td>\n      <td>NaN</td>\n      <td>NaN</td>\n      <td>NaN</td>\n      <td>NaN</td>\n    </tr>\n    <tr>\n      <th>3</th>\n      <td>394463</td>\n      <td>3</td>\n      <td>Chicago, IL</td>\n      <td>msa</td>\n      <td>IL</td>\n      <td>295109.0</td>\n      <td>295865.0</td>\n      <td>296827.0</td>\n      <td>298700.0</td>\n      <td>300646.0</td>\n      <td>...</td>\n      <td>NaN</td>\n      <td>NaN</td>\n      <td>NaN</td>\n      <td>NaN</td>\n      <td>NaN</td>\n      <td>NaN</td>\n      <td>NaN</td>\n      <td>NaN</td>\n      <td>NaN</td>\n      <td>NaN</td>\n    </tr>\n    <tr>\n      <th>4</th>\n      <td>394514</td>\n      <td>4</td>\n      <td>Dallas, TX</td>\n      <td>msa</td>\n      <td>TX</td>\n      <td>231125.0</td>\n      <td>231200.0</td>\n      <td>231294.0</td>\n      <td>231544.0</td>\n      <td>231819.0</td>\n      <td>...</td>\n      <td>NaN</td>\n      <td>NaN</td>\n      <td>NaN</td>\n      <td>NaN</td>\n      <td>NaN</td>\n      <td>NaN</td>\n      <td>NaN</td>\n      <td>NaN</td>\n      <td>NaN</td>\n      <td>NaN</td>\n    </tr>\n    <tr>\n      <th>5</th>\n      <td>394692</td>\n      <td>5</td>\n      <td>Houston, TX</td>\n      <td>msa</td>\n      <td>TX</td>\n      <td>226539.0</td>\n      <td>226746.0</td>\n      <td>226568.0</td>\n      <td>226884.0</td>\n      <td>226956.0</td>\n      <td>...</td>\n      <td>NaN</td>\n      <td>NaN</td>\n      <td>NaN</td>\n      <td>NaN</td>\n      <td>NaN</td>\n      <td>NaN</td>\n      <td>NaN</td>\n      <td>NaN</td>\n      <td>NaN</td>\n      <td>NaN</td>\n    </tr>\n  </tbody>\n</table>\n<p>5 rows × 326 columns</p>\n</div>"
     },
     "execution_count": 47,
     "metadata": {},
     "output_type": "execute_result"
    }
   ],
   "source": [
    "ZHVI_df.head()"
   ]
  },
  {
   "cell_type": "code",
   "execution_count": 48,
   "id": "b0a2cd72",
   "metadata": {},
   "outputs": [
    {
     "data": {
      "text/plain": "   RegionID  SizeRank        RegionName RegionType StateName  \\\n0    394913         1      New York, NY        msa        NY   \n1    753899         2   Los Angeles, CA        msa        CA   \n2    394463         3       Chicago, IL        msa        IL   \n3    394514         4        Dallas, TX        msa        TX   \n4    394692         5       Houston, TX        msa        TX   \n5    395209         6    Washington, DC        msa        VA   \n6    394856         7         Miami, FL        msa        FL   \n7    394974         8  Philadelphia, PA        msa        PA   \n8    394347         9       Atlanta, GA        msa        GA   \n9    394976        10       Phoenix, AZ        msa        AZ   \n\n                                           filename        Date     Price  \\\n0  Metro_zhvi_uc_sfrcondo_tier_0.67_1.0_sm_sa_month  2000-01-31  398618.0   \n1  Metro_zhvi_uc_sfrcondo_tier_0.67_1.0_sm_sa_month  2000-01-31  412833.0   \n2  Metro_zhvi_uc_sfrcondo_tier_0.67_1.0_sm_sa_month  2000-01-31  295109.0   \n3  Metro_zhvi_uc_sfrcondo_tier_0.67_1.0_sm_sa_month  2000-01-31  231125.0   \n4  Metro_zhvi_uc_sfrcondo_tier_0.67_1.0_sm_sa_month  2000-01-31  226539.0   \n5  Metro_zhvi_uc_sfrcondo_tier_0.67_1.0_sm_sa_month  2000-01-31  321180.0   \n6  Metro_zhvi_uc_sfrcondo_tier_0.67_1.0_sm_sa_month  2000-01-31  244156.0   \n7  Metro_zhvi_uc_sfrcondo_tier_0.67_1.0_sm_sa_month  2000-01-31  224947.0   \n8  Metro_zhvi_uc_sfrcondo_tier_0.67_1.0_sm_sa_month  2000-01-31  258618.0   \n9  Metro_zhvi_uc_sfrcondo_tier_0.67_1.0_sm_sa_month  2000-01-31  234570.0   \n\n   Year  Month  \n0  2000      1  \n1  2000      1  \n2  2000      1  \n3  2000      1  \n4  2000      1  \n5  2000      1  \n6  2000      1  \n7  2000      1  \n8  2000      1  \n9  2000      1  ",
      "text/html": "<div>\n<style scoped>\n    .dataframe tbody tr th:only-of-type {\n        vertical-align: middle;\n    }\n\n    .dataframe tbody tr th {\n        vertical-align: top;\n    }\n\n    .dataframe thead th {\n        text-align: right;\n    }\n</style>\n<table border=\"1\" class=\"dataframe\">\n  <thead>\n    <tr style=\"text-align: right;\">\n      <th></th>\n      <th>RegionID</th>\n      <th>SizeRank</th>\n      <th>RegionName</th>\n      <th>RegionType</th>\n      <th>StateName</th>\n      <th>filename</th>\n      <th>Date</th>\n      <th>Price</th>\n      <th>Year</th>\n      <th>Month</th>\n    </tr>\n  </thead>\n  <tbody>\n    <tr>\n      <th>0</th>\n      <td>394913</td>\n      <td>1</td>\n      <td>New York, NY</td>\n      <td>msa</td>\n      <td>NY</td>\n      <td>Metro_zhvi_uc_sfrcondo_tier_0.67_1.0_sm_sa_month</td>\n      <td>2000-01-31</td>\n      <td>398618.0</td>\n      <td>2000</td>\n      <td>1</td>\n    </tr>\n    <tr>\n      <th>1</th>\n      <td>753899</td>\n      <td>2</td>\n      <td>Los Angeles, CA</td>\n      <td>msa</td>\n      <td>CA</td>\n      <td>Metro_zhvi_uc_sfrcondo_tier_0.67_1.0_sm_sa_month</td>\n      <td>2000-01-31</td>\n      <td>412833.0</td>\n      <td>2000</td>\n      <td>1</td>\n    </tr>\n    <tr>\n      <th>2</th>\n      <td>394463</td>\n      <td>3</td>\n      <td>Chicago, IL</td>\n      <td>msa</td>\n      <td>IL</td>\n      <td>Metro_zhvi_uc_sfrcondo_tier_0.67_1.0_sm_sa_month</td>\n      <td>2000-01-31</td>\n      <td>295109.0</td>\n      <td>2000</td>\n      <td>1</td>\n    </tr>\n    <tr>\n      <th>3</th>\n      <td>394514</td>\n      <td>4</td>\n      <td>Dallas, TX</td>\n      <td>msa</td>\n      <td>TX</td>\n      <td>Metro_zhvi_uc_sfrcondo_tier_0.67_1.0_sm_sa_month</td>\n      <td>2000-01-31</td>\n      <td>231125.0</td>\n      <td>2000</td>\n      <td>1</td>\n    </tr>\n    <tr>\n      <th>4</th>\n      <td>394692</td>\n      <td>5</td>\n      <td>Houston, TX</td>\n      <td>msa</td>\n      <td>TX</td>\n      <td>Metro_zhvi_uc_sfrcondo_tier_0.67_1.0_sm_sa_month</td>\n      <td>2000-01-31</td>\n      <td>226539.0</td>\n      <td>2000</td>\n      <td>1</td>\n    </tr>\n    <tr>\n      <th>5</th>\n      <td>395209</td>\n      <td>6</td>\n      <td>Washington, DC</td>\n      <td>msa</td>\n      <td>VA</td>\n      <td>Metro_zhvi_uc_sfrcondo_tier_0.67_1.0_sm_sa_month</td>\n      <td>2000-01-31</td>\n      <td>321180.0</td>\n      <td>2000</td>\n      <td>1</td>\n    </tr>\n    <tr>\n      <th>6</th>\n      <td>394856</td>\n      <td>7</td>\n      <td>Miami, FL</td>\n      <td>msa</td>\n      <td>FL</td>\n      <td>Metro_zhvi_uc_sfrcondo_tier_0.67_1.0_sm_sa_month</td>\n      <td>2000-01-31</td>\n      <td>244156.0</td>\n      <td>2000</td>\n      <td>1</td>\n    </tr>\n    <tr>\n      <th>7</th>\n      <td>394974</td>\n      <td>8</td>\n      <td>Philadelphia, PA</td>\n      <td>msa</td>\n      <td>PA</td>\n      <td>Metro_zhvi_uc_sfrcondo_tier_0.67_1.0_sm_sa_month</td>\n      <td>2000-01-31</td>\n      <td>224947.0</td>\n      <td>2000</td>\n      <td>1</td>\n    </tr>\n    <tr>\n      <th>8</th>\n      <td>394347</td>\n      <td>9</td>\n      <td>Atlanta, GA</td>\n      <td>msa</td>\n      <td>GA</td>\n      <td>Metro_zhvi_uc_sfrcondo_tier_0.67_1.0_sm_sa_month</td>\n      <td>2000-01-31</td>\n      <td>258618.0</td>\n      <td>2000</td>\n      <td>1</td>\n    </tr>\n    <tr>\n      <th>9</th>\n      <td>394976</td>\n      <td>10</td>\n      <td>Phoenix, AZ</td>\n      <td>msa</td>\n      <td>AZ</td>\n      <td>Metro_zhvi_uc_sfrcondo_tier_0.67_1.0_sm_sa_month</td>\n      <td>2000-01-31</td>\n      <td>234570.0</td>\n      <td>2000</td>\n      <td>1</td>\n    </tr>\n  </tbody>\n</table>\n</div>"
     },
     "execution_count": 48,
     "metadata": {},
     "output_type": "execute_result"
    }
   ],
   "source": [
    "ZHVI_df = pd.concat(ZHVI_dfs)\n",
    "\n",
    "date_columns = [column for column in ZHVI_df.columns if re.match(r'\\d{4}-\\d{2}-\\d{2}', column)]\n",
    "other_columns = [column for column in ZHVI_df.columns if not re.match(r'\\d{4}-\\d{2}-\\d{2}', column)]\n",
    "ZHVI_df = ZHVI_df.melt(id_vars=other_columns, value_vars=date_columns, var_name='Date', value_name='Price')\n",
    "\n",
    "# ZHVI_df.dropna(subset=['Price',], axis='columns', inplace=True)\n",
    "ZHVI_df['Year'] = ZHVI_df.Date.apply(lambda x: int(x.split(\"-\")[0]))\n",
    "ZHVI_df['Month'] = ZHVI_df.Date.apply(lambda x: int(x.split(\"-\")[1]))\n",
    "\n",
    "ZHVI_df.head(10)"
   ]
  },
  {
   "cell_type": "code",
   "execution_count": 49,
   "id": "bb03e07b",
   "metadata": {},
   "outputs": [
    {
     "name": "stdout",
     "output_type": "stream",
     "text": [
      "Matched: 216, Unmatched Zillow: 682, Unmatched Census 168\n"
     ]
    }
   ],
   "source": [
    "zhvi_msa_set = set(ZHVI_df.RegionName.unique())\n",
    "permit_msa_set = set(permits_df.Name.unique())\n",
    "\n",
    "msa_intersection = zhvi_msa_set.intersection(permit_msa_set)\n",
    "unmatched_zillow_msas = zhvi_msa_set.difference(permit_msa_set)\n",
    "unmatched_permit_msas = permit_msa_set.difference(zhvi_msa_set)\n",
    "\n",
    "# Set of tuples of form (ZHVI msa, Census MSA)\n",
    "msa_matches = set()\n",
    "\n",
    "for matched_msa in msa_intersection:\n",
    "    msa_matches.add((matched_msa, matched_msa))\n",
    "    \n",
    "print((f\"Matched: {len(msa_matches)}, Unmatched Zillow: {len(unmatched_zillow_msas)}, \"\n",
    "       f\"Unmatched Census {len(unmatched_permit_msas)}\"))"
   ]
  },
  {
   "cell_type": "code",
   "execution_count": 50,
   "id": "2c2cb2f7",
   "metadata": {},
   "outputs": [
    {
     "data": {
      "text/plain": "          Zillow                          MSA\n16   Abilene, TX                  Abilene, TX\n198    Akron, OH                    Akron, OH\n188   Albany, GA                   Albany, GA\n54    Albany, OR           Albany-Lebanon, OR\n160   Albany, NY  Albany-Schenectady-Troy, NY",
      "text/html": "<div>\n<style scoped>\n    .dataframe tbody tr th:only-of-type {\n        vertical-align: middle;\n    }\n\n    .dataframe tbody tr th {\n        vertical-align: top;\n    }\n\n    .dataframe thead th {\n        text-align: right;\n    }\n</style>\n<table border=\"1\" class=\"dataframe\">\n  <thead>\n    <tr style=\"text-align: right;\">\n      <th></th>\n      <th>Zillow</th>\n      <th>MSA</th>\n    </tr>\n  </thead>\n  <tbody>\n    <tr>\n      <th>16</th>\n      <td>Abilene, TX</td>\n      <td>Abilene, TX</td>\n    </tr>\n    <tr>\n      <th>198</th>\n      <td>Akron, OH</td>\n      <td>Akron, OH</td>\n    </tr>\n    <tr>\n      <th>188</th>\n      <td>Albany, GA</td>\n      <td>Albany, GA</td>\n    </tr>\n    <tr>\n      <th>54</th>\n      <td>Albany, OR</td>\n      <td>Albany-Lebanon, OR</td>\n    </tr>\n    <tr>\n      <th>160</th>\n      <td>Albany, NY</td>\n      <td>Albany-Schenectady-Troy, NY</td>\n    </tr>\n  </tbody>\n</table>\n</div>"
     },
     "execution_count": 50,
     "metadata": {},
     "output_type": "execute_result"
    }
   ],
   "source": [
    "left_matches = set()\n",
    "for uzm in unmatched_zillow_msas:\n",
    "    city, state = uzm.split(\", \")\n",
    "    for permit_msa in unmatched_permit_msas:\n",
    "        if city in permit_msa and state in permit_msa:\n",
    "            left_matches.add((uzm, permit_msa))\n",
    "            break\n",
    "\n",
    "left_match_df = pd.DataFrame(left_matches, columns=['Zillow', 'MSA'])\n",
    "auto_match_df = pd.DataFrame(msa_matches, columns=['Zillow', 'MSA'])\n",
    "\n",
    "msa_match_df = pd.concat([left_match_df, auto_match_df]).sort_values(['MSA', 'Zillow'])\n",
    "msa_match_df.head()"
   ]
  },
  {
   "cell_type": "code",
   "execution_count": 51,
   "id": "44809e32",
   "metadata": {},
   "outputs": [],
   "source": [
    "msa_match_df.to_csv('msa_match.csv', index=False)"
   ]
  },
  {
   "cell_type": "code",
   "execution_count": 52,
   "id": "69f34ce6",
   "metadata": {},
   "outputs": [
    {
     "name": "stdout",
     "output_type": "stream",
     "text": [
      "Matched: 384, Unmatched Zillow: 514, Unmatched Census 2\n"
     ]
    }
   ],
   "source": [
    "zillow_msa_matches = set(msa_match_df.Zillow.unique())\n",
    "permit_msa_matches = set(msa_match_df.MSA.unique())\n",
    "\n",
    "unmatched_zillow_msas = zhvi_msa_set.difference(zillow_msa_matches)\n",
    "unmatched_permit_msas = permit_msa_set.difference(permit_msa_matches)\n",
    "\n",
    "print((f\"Matched: {len(msa_match_df)}, Unmatched Zillow: {len(unmatched_zillow_msas)}, \"\n",
    "       f\"Unmatched Census {len(unmatched_permit_msas)}\"))"
   ]
  },
  {
   "cell_type": "code",
   "execution_count": 53,
   "id": "be45ad92",
   "metadata": {},
   "outputs": [
    {
     "data": {
      "text/plain": "        Zillow          MSA    CSA     CBSA  Total  1 Unit  2 Units  \\\n0  Abilene, TX  Abilene, TX  999.0  10180.0   33.0    31.0      2.0   \n1  Abilene, TX  Abilene, TX  999.0  10180.0   33.0    31.0      2.0   \n2  Abilene, TX  Abilene, TX  999.0  10180.0   33.0    31.0      2.0   \n3  Abilene, TX  Abilene, TX  999.0  10180.0   33.0    31.0      2.0   \n4  Abilene, TX  Abilene, TX  999.0  10180.0   33.0    31.0      2.0   \n\n   3 and 4 Units  5 Units or More  Num of Structures With 5 Units or More  \\\n0            0.0              0.0                                     0.0   \n1            0.0              0.0                                     0.0   \n2            0.0              0.0                                     0.0   \n3            0.0              0.0                                     0.0   \n4            0.0              0.0                                     0.0   \n\n   Year  Month                                           filename     Price  \\\n0  2021      2   Metro_zhvi_uc_sfrcondo_tier_0.67_1.0_sm_sa_month  254596.0   \n1  2021      2  Metro_zhvi_bdrmcnt_2_uc_sfrcondo_tier_0.33_0.6...   99806.0   \n2  2021      2     Metro_zhvi_uc_condo_tier_0.33_0.67_sm_sa_month  105050.0   \n3  2021      2  Metro_zhvi_bdrmcnt_3_uc_sfrcondo_tier_0.33_0.6...  166200.0   \n4  2021      2  Metro_zhvi_bdrmcnt_1_uc_sfrcondo_tier_0.33_0.6...   90655.0   \n\n        Date  \n0 2021-02-28  \n1 2021-02-28  \n2 2021-02-28  \n3 2021-02-28  \n4 2021-02-28  ",
      "text/html": "<div>\n<style scoped>\n    .dataframe tbody tr th:only-of-type {\n        vertical-align: middle;\n    }\n\n    .dataframe tbody tr th {\n        vertical-align: top;\n    }\n\n    .dataframe thead th {\n        text-align: right;\n    }\n</style>\n<table border=\"1\" class=\"dataframe\">\n  <thead>\n    <tr style=\"text-align: right;\">\n      <th></th>\n      <th>Zillow</th>\n      <th>MSA</th>\n      <th>CSA</th>\n      <th>CBSA</th>\n      <th>Total</th>\n      <th>1 Unit</th>\n      <th>2 Units</th>\n      <th>3 and 4 Units</th>\n      <th>5 Units or More</th>\n      <th>Num of Structures With 5 Units or More</th>\n      <th>Year</th>\n      <th>Month</th>\n      <th>filename</th>\n      <th>Price</th>\n      <th>Date</th>\n    </tr>\n  </thead>\n  <tbody>\n    <tr>\n      <th>0</th>\n      <td>Abilene, TX</td>\n      <td>Abilene, TX</td>\n      <td>999.0</td>\n      <td>10180.0</td>\n      <td>33.0</td>\n      <td>31.0</td>\n      <td>2.0</td>\n      <td>0.0</td>\n      <td>0.0</td>\n      <td>0.0</td>\n      <td>2021</td>\n      <td>2</td>\n      <td>Metro_zhvi_uc_sfrcondo_tier_0.67_1.0_sm_sa_month</td>\n      <td>254596.0</td>\n      <td>2021-02-28</td>\n    </tr>\n    <tr>\n      <th>1</th>\n      <td>Abilene, TX</td>\n      <td>Abilene, TX</td>\n      <td>999.0</td>\n      <td>10180.0</td>\n      <td>33.0</td>\n      <td>31.0</td>\n      <td>2.0</td>\n      <td>0.0</td>\n      <td>0.0</td>\n      <td>0.0</td>\n      <td>2021</td>\n      <td>2</td>\n      <td>Metro_zhvi_bdrmcnt_2_uc_sfrcondo_tier_0.33_0.6...</td>\n      <td>99806.0</td>\n      <td>2021-02-28</td>\n    </tr>\n    <tr>\n      <th>2</th>\n      <td>Abilene, TX</td>\n      <td>Abilene, TX</td>\n      <td>999.0</td>\n      <td>10180.0</td>\n      <td>33.0</td>\n      <td>31.0</td>\n      <td>2.0</td>\n      <td>0.0</td>\n      <td>0.0</td>\n      <td>0.0</td>\n      <td>2021</td>\n      <td>2</td>\n      <td>Metro_zhvi_uc_condo_tier_0.33_0.67_sm_sa_month</td>\n      <td>105050.0</td>\n      <td>2021-02-28</td>\n    </tr>\n    <tr>\n      <th>3</th>\n      <td>Abilene, TX</td>\n      <td>Abilene, TX</td>\n      <td>999.0</td>\n      <td>10180.0</td>\n      <td>33.0</td>\n      <td>31.0</td>\n      <td>2.0</td>\n      <td>0.0</td>\n      <td>0.0</td>\n      <td>0.0</td>\n      <td>2021</td>\n      <td>2</td>\n      <td>Metro_zhvi_bdrmcnt_3_uc_sfrcondo_tier_0.33_0.6...</td>\n      <td>166200.0</td>\n      <td>2021-02-28</td>\n    </tr>\n    <tr>\n      <th>4</th>\n      <td>Abilene, TX</td>\n      <td>Abilene, TX</td>\n      <td>999.0</td>\n      <td>10180.0</td>\n      <td>33.0</td>\n      <td>31.0</td>\n      <td>2.0</td>\n      <td>0.0</td>\n      <td>0.0</td>\n      <td>0.0</td>\n      <td>2021</td>\n      <td>2</td>\n      <td>Metro_zhvi_bdrmcnt_1_uc_sfrcondo_tier_0.33_0.6...</td>\n      <td>90655.0</td>\n      <td>2021-02-28</td>\n    </tr>\n  </tbody>\n</table>\n</div>"
     },
     "execution_count": 53,
     "metadata": {},
     "output_type": "execute_result"
    }
   ],
   "source": [
    "big_df = msa_match_df.merge(permits_df, how='left', left_on='MSA', right_on='Name')\n",
    "big_df = big_df.merge(\n",
    "    ZHVI_df, how='inner', left_on=['Zillow', 'Year', 'Month'], right_on=['RegionName', 'Year', 'Month']\n",
    ")\n",
    "\n",
    "drop_columns = ['Name', 'RegionID', 'RegionName', 'RegionType',  'SizeRank', 'Date_x', 'Date_y', 'StateName']\n",
    "big_df['Date'] = pd.to_datetime(big_df['Date_y'])\n",
    "\n",
    "big_df.drop(columns=drop_columns, inplace=True)\n",
    "big_df.head()"
   ]
  },
  {
   "cell_type": "code",
   "execution_count": 54,
   "id": "a76900c5",
   "metadata": {},
   "outputs": [
    {
     "data": {
      "text/plain": "Zillow                                            object\nMSA                                               object\nCSA                                              float64\nCBSA                                             float64\nTotal                                            float64\n1 Unit                                           float64\n2 Units                                          float64\n3 and 4 Units                                    float64\n5 Units or More                                  float64\nNum of Structures With 5 Units or More           float64\nYear                                               int64\nMonth                                              int64\nfilename                                          object\nPrice                                            float64\nDate                                      datetime64[ns]\ndtype: object"
     },
     "execution_count": 54,
     "metadata": {},
     "output_type": "execute_result"
    }
   ],
   "source": [
    "# big_df.shape\n",
    "big_df.dtypes"
   ]
  },
  {
   "cell_type": "code",
   "execution_count": 55,
   "id": "27948254",
   "metadata": {},
   "outputs": [
    {
     "data": {
      "text/plain": "        Zillow          MSA    CSA     CBSA  Total  1 Unit  2 Units  \\\n0  Abilene, TX  Abilene, TX  999.0  10180.0   33.0    31.0      2.0   \n1  Abilene, TX  Abilene, TX  999.0  10180.0   33.0    31.0      2.0   \n2  Abilene, TX  Abilene, TX  999.0  10180.0   33.0    31.0      2.0   \n3  Abilene, TX  Abilene, TX  999.0  10180.0   33.0    31.0      2.0   \n4  Abilene, TX  Abilene, TX  999.0  10180.0   33.0    31.0      2.0   \n\n   3 and 4 Units  5 Units or More  Num of Structures With 5 Units or More  \\\n0            0.0              0.0                                     0.0   \n1            0.0              0.0                                     0.0   \n2            0.0              0.0                                     0.0   \n3            0.0              0.0                                     0.0   \n4            0.0              0.0                                     0.0   \n\n   Year  Month                                           filename     Price  \\\n0  2021      2   Metro_zhvi_uc_sfrcondo_tier_0.67_1.0_sm_sa_month  254596.0   \n1  2021      2  Metro_zhvi_bdrmcnt_2_uc_sfrcondo_tier_0.33_0.6...   99806.0   \n2  2021      2     Metro_zhvi_uc_condo_tier_0.33_0.67_sm_sa_month  105050.0   \n3  2021      2  Metro_zhvi_bdrmcnt_3_uc_sfrcondo_tier_0.33_0.6...  166200.0   \n4  2021      2  Metro_zhvi_bdrmcnt_1_uc_sfrcondo_tier_0.33_0.6...   90655.0   \n\n        Date  \n0 2021-02-28  \n1 2021-02-28  \n2 2021-02-28  \n3 2021-02-28  \n4 2021-02-28  ",
      "text/html": "<div>\n<style scoped>\n    .dataframe tbody tr th:only-of-type {\n        vertical-align: middle;\n    }\n\n    .dataframe tbody tr th {\n        vertical-align: top;\n    }\n\n    .dataframe thead th {\n        text-align: right;\n    }\n</style>\n<table border=\"1\" class=\"dataframe\">\n  <thead>\n    <tr style=\"text-align: right;\">\n      <th></th>\n      <th>Zillow</th>\n      <th>MSA</th>\n      <th>CSA</th>\n      <th>CBSA</th>\n      <th>Total</th>\n      <th>1 Unit</th>\n      <th>2 Units</th>\n      <th>3 and 4 Units</th>\n      <th>5 Units or More</th>\n      <th>Num of Structures With 5 Units or More</th>\n      <th>Year</th>\n      <th>Month</th>\n      <th>filename</th>\n      <th>Price</th>\n      <th>Date</th>\n    </tr>\n  </thead>\n  <tbody>\n    <tr>\n      <th>0</th>\n      <td>Abilene, TX</td>\n      <td>Abilene, TX</td>\n      <td>999.0</td>\n      <td>10180.0</td>\n      <td>33.0</td>\n      <td>31.0</td>\n      <td>2.0</td>\n      <td>0.0</td>\n      <td>0.0</td>\n      <td>0.0</td>\n      <td>2021</td>\n      <td>2</td>\n      <td>Metro_zhvi_uc_sfrcondo_tier_0.67_1.0_sm_sa_month</td>\n      <td>254596.0</td>\n      <td>2021-02-28</td>\n    </tr>\n    <tr>\n      <th>1</th>\n      <td>Abilene, TX</td>\n      <td>Abilene, TX</td>\n      <td>999.0</td>\n      <td>10180.0</td>\n      <td>33.0</td>\n      <td>31.0</td>\n      <td>2.0</td>\n      <td>0.0</td>\n      <td>0.0</td>\n      <td>0.0</td>\n      <td>2021</td>\n      <td>2</td>\n      <td>Metro_zhvi_bdrmcnt_2_uc_sfrcondo_tier_0.33_0.6...</td>\n      <td>99806.0</td>\n      <td>2021-02-28</td>\n    </tr>\n    <tr>\n      <th>2</th>\n      <td>Abilene, TX</td>\n      <td>Abilene, TX</td>\n      <td>999.0</td>\n      <td>10180.0</td>\n      <td>33.0</td>\n      <td>31.0</td>\n      <td>2.0</td>\n      <td>0.0</td>\n      <td>0.0</td>\n      <td>0.0</td>\n      <td>2021</td>\n      <td>2</td>\n      <td>Metro_zhvi_uc_condo_tier_0.33_0.67_sm_sa_month</td>\n      <td>105050.0</td>\n      <td>2021-02-28</td>\n    </tr>\n    <tr>\n      <th>3</th>\n      <td>Abilene, TX</td>\n      <td>Abilene, TX</td>\n      <td>999.0</td>\n      <td>10180.0</td>\n      <td>33.0</td>\n      <td>31.0</td>\n      <td>2.0</td>\n      <td>0.0</td>\n      <td>0.0</td>\n      <td>0.0</td>\n      <td>2021</td>\n      <td>2</td>\n      <td>Metro_zhvi_bdrmcnt_3_uc_sfrcondo_tier_0.33_0.6...</td>\n      <td>166200.0</td>\n      <td>2021-02-28</td>\n    </tr>\n    <tr>\n      <th>4</th>\n      <td>Abilene, TX</td>\n      <td>Abilene, TX</td>\n      <td>999.0</td>\n      <td>10180.0</td>\n      <td>33.0</td>\n      <td>31.0</td>\n      <td>2.0</td>\n      <td>0.0</td>\n      <td>0.0</td>\n      <td>0.0</td>\n      <td>2021</td>\n      <td>2</td>\n      <td>Metro_zhvi_bdrmcnt_1_uc_sfrcondo_tier_0.33_0.6...</td>\n      <td>90655.0</td>\n      <td>2021-02-28</td>\n    </tr>\n  </tbody>\n</table>\n</div>"
     },
     "execution_count": 55,
     "metadata": {},
     "output_type": "execute_result"
    }
   ],
   "source": [
    "big_df.head()"
   ]
  },
  {
   "cell_type": "code",
   "execution_count": 56,
   "id": "749373a8",
   "metadata": {},
   "outputs": [
    {
     "data": {
      "text/plain": "        Date       Zillow          MSA    CSA     CBSA  Total  1 Unit  \\\n0 2019-11-30  Abilene, TX  Abilene, TX  999.0  10180.0   23.0    21.0   \n1 2019-12-31  Abilene, TX  Abilene, TX  999.0  10180.0   37.0    31.0   \n2 2020-01-31  Abilene, TX  Abilene, TX  999.0  10180.0   29.0    29.0   \n3 2020-02-29  Abilene, TX  Abilene, TX  999.0  10180.0   30.0    30.0   \n4 2020-03-31  Abilene, TX  Abilene, TX  999.0  10180.0   29.0    27.0   \n\n   2 Units  3 and 4 Units  5 Units or More  \\\n0      2.0            0.0              0.0   \n1      6.0            0.0              0.0   \n2      0.0            0.0              0.0   \n3      0.0            0.0              0.0   \n4      2.0            0.0              0.0   \n\n   Num of Structures With 5 Units or More  Year  Month  \\\n0                                     0.0  2019     11   \n1                                     0.0  2019     12   \n2                                     0.0  2020      1   \n3                                     0.0  2020      2   \n4                                     0.0  2020      3   \n\n                                            filename    Price Seasonal Trend  \\\n0  Metro_zhvi_bdrmcnt_1_uc_sfrcondo_tier_0.33_0.6...  81284.0  1232.32   NaN   \n1  Metro_zhvi_bdrmcnt_1_uc_sfrcondo_tier_0.33_0.6...  81875.0  869.385   NaN   \n2  Metro_zhvi_bdrmcnt_1_uc_sfrcondo_tier_0.33_0.6...  82268.0  533.177   NaN   \n3  Metro_zhvi_bdrmcnt_1_uc_sfrcondo_tier_0.33_0.6...  82846.0 -645.781   NaN   \n4  Metro_zhvi_bdrmcnt_1_uc_sfrcondo_tier_0.33_0.6...  84280.0 -1380.49   NaN   \n\n  Residual  Price Change Trend Change  \n0      NaN           NaN          NaN  \n1      NaN         591.0          NaN  \n2      NaN         393.0          NaN  \n3      NaN         578.0          NaN  \n4      NaN        1434.0          NaN  ",
      "text/html": "<div>\n<style scoped>\n    .dataframe tbody tr th:only-of-type {\n        vertical-align: middle;\n    }\n\n    .dataframe tbody tr th {\n        vertical-align: top;\n    }\n\n    .dataframe thead th {\n        text-align: right;\n    }\n</style>\n<table border=\"1\" class=\"dataframe\">\n  <thead>\n    <tr style=\"text-align: right;\">\n      <th></th>\n      <th>Date</th>\n      <th>Zillow</th>\n      <th>MSA</th>\n      <th>CSA</th>\n      <th>CBSA</th>\n      <th>Total</th>\n      <th>1 Unit</th>\n      <th>2 Units</th>\n      <th>3 and 4 Units</th>\n      <th>5 Units or More</th>\n      <th>Num of Structures With 5 Units or More</th>\n      <th>Year</th>\n      <th>Month</th>\n      <th>filename</th>\n      <th>Price</th>\n      <th>Seasonal</th>\n      <th>Trend</th>\n      <th>Residual</th>\n      <th>Price Change</th>\n      <th>Trend Change</th>\n    </tr>\n  </thead>\n  <tbody>\n    <tr>\n      <th>0</th>\n      <td>2019-11-30</td>\n      <td>Abilene, TX</td>\n      <td>Abilene, TX</td>\n      <td>999.0</td>\n      <td>10180.0</td>\n      <td>23.0</td>\n      <td>21.0</td>\n      <td>2.0</td>\n      <td>0.0</td>\n      <td>0.0</td>\n      <td>0.0</td>\n      <td>2019</td>\n      <td>11</td>\n      <td>Metro_zhvi_bdrmcnt_1_uc_sfrcondo_tier_0.33_0.6...</td>\n      <td>81284.0</td>\n      <td>1232.32</td>\n      <td>NaN</td>\n      <td>NaN</td>\n      <td>NaN</td>\n      <td>NaN</td>\n    </tr>\n    <tr>\n      <th>1</th>\n      <td>2019-12-31</td>\n      <td>Abilene, TX</td>\n      <td>Abilene, TX</td>\n      <td>999.0</td>\n      <td>10180.0</td>\n      <td>37.0</td>\n      <td>31.0</td>\n      <td>6.0</td>\n      <td>0.0</td>\n      <td>0.0</td>\n      <td>0.0</td>\n      <td>2019</td>\n      <td>12</td>\n      <td>Metro_zhvi_bdrmcnt_1_uc_sfrcondo_tier_0.33_0.6...</td>\n      <td>81875.0</td>\n      <td>869.385</td>\n      <td>NaN</td>\n      <td>NaN</td>\n      <td>591.0</td>\n      <td>NaN</td>\n    </tr>\n    <tr>\n      <th>2</th>\n      <td>2020-01-31</td>\n      <td>Abilene, TX</td>\n      <td>Abilene, TX</td>\n      <td>999.0</td>\n      <td>10180.0</td>\n      <td>29.0</td>\n      <td>29.0</td>\n      <td>0.0</td>\n      <td>0.0</td>\n      <td>0.0</td>\n      <td>0.0</td>\n      <td>2020</td>\n      <td>1</td>\n      <td>Metro_zhvi_bdrmcnt_1_uc_sfrcondo_tier_0.33_0.6...</td>\n      <td>82268.0</td>\n      <td>533.177</td>\n      <td>NaN</td>\n      <td>NaN</td>\n      <td>393.0</td>\n      <td>NaN</td>\n    </tr>\n    <tr>\n      <th>3</th>\n      <td>2020-02-29</td>\n      <td>Abilene, TX</td>\n      <td>Abilene, TX</td>\n      <td>999.0</td>\n      <td>10180.0</td>\n      <td>30.0</td>\n      <td>30.0</td>\n      <td>0.0</td>\n      <td>0.0</td>\n      <td>0.0</td>\n      <td>0.0</td>\n      <td>2020</td>\n      <td>2</td>\n      <td>Metro_zhvi_bdrmcnt_1_uc_sfrcondo_tier_0.33_0.6...</td>\n      <td>82846.0</td>\n      <td>-645.781</td>\n      <td>NaN</td>\n      <td>NaN</td>\n      <td>578.0</td>\n      <td>NaN</td>\n    </tr>\n    <tr>\n      <th>4</th>\n      <td>2020-03-31</td>\n      <td>Abilene, TX</td>\n      <td>Abilene, TX</td>\n      <td>999.0</td>\n      <td>10180.0</td>\n      <td>29.0</td>\n      <td>27.0</td>\n      <td>2.0</td>\n      <td>0.0</td>\n      <td>0.0</td>\n      <td>0.0</td>\n      <td>2020</td>\n      <td>3</td>\n      <td>Metro_zhvi_bdrmcnt_1_uc_sfrcondo_tier_0.33_0.6...</td>\n      <td>84280.0</td>\n      <td>-1380.49</td>\n      <td>NaN</td>\n      <td>NaN</td>\n      <td>1434.0</td>\n      <td>NaN</td>\n    </tr>\n  </tbody>\n</table>\n</div>"
     },
     "execution_count": 56,
     "metadata": {},
     "output_type": "execute_result"
    }
   ],
   "source": [
    "trend_df = pd.DataFrame()\n",
    "\n",
    "for index, seasonal_df in big_df.set_index('Date').sort_index().groupby(['filename', 'Zillow']):\n",
    "    try:\n",
    "        decompose_result = seasonal_decompose(seasonal_df.Price.dropna())\n",
    "        \n",
    "        seasonal_df = seasonal_df.join(decompose_result.seasonal)\n",
    "        seasonal_df = seasonal_df.join(decompose_result.trend)\n",
    "        seasonal_df = seasonal_df.join(decompose_result.resid)\n",
    "        \n",
    "        seasonal_df.rename(columns={'seasonal': 'Seasonal', 'trend': 'Trend', 'resid': 'Residual'}, inplace=True)\n",
    "    except ValueError:\n",
    "        seasonal_df['Seasonal'] = None\n",
    "        seasonal_df['Trend'] = None\n",
    "        seasonal_df['Residual'] = None\n",
    "    \n",
    "    seasonal_df['Price Change'] = seasonal_df.Price.diff(periods=1)\n",
    "    \n",
    "    try:\n",
    "        seasonal_df['Trend Change'] = seasonal_df.Trend.diff(periods=1)\n",
    "    except TypeError:\n",
    "        seasonal_df['Trend Change'] = None\n",
    "    \n",
    "    seasonal_df.reset_index(inplace=True)\n",
    "    trend_df = pd.concat([trend_df, seasonal_df])\n",
    "\n",
    "trend_df.head()"
   ]
  },
  {
   "cell_type": "code",
   "execution_count": 57,
   "id": "20da0027",
   "metadata": {},
   "outputs": [
    {
     "data": {
      "text/plain": "         Date    Zillow       MSA    CSA     CBSA  Total  1 Unit  2 Units  \\\n23 2021-10-31  Yuma, AZ  Yuma, AZ  999.0  49740.0   71.0    71.0      0.0   \n24 2021-11-30  Yuma, AZ  Yuma, AZ  999.0  49740.0   48.0    48.0      0.0   \n25 2021-12-31  Yuma, AZ  Yuma, AZ  999.0  49740.0   51.0    51.0      0.0   \n26 2022-01-31  Yuma, AZ  Yuma, AZ  999.0  49740.0   72.0    72.0      0.0   \n27 2022-02-28  Yuma, AZ  Yuma, AZ  999.0  49740.0   91.0    87.0      4.0   \n28 2022-03-31  Yuma, AZ  Yuma, AZ  999.0  49740.0   89.0    83.0      6.0   \n29 2022-04-30  Yuma, AZ  Yuma, AZ  999.0  49740.0   66.0    66.0      0.0   \n30 2022-05-31  Yuma, AZ  Yuma, AZ  999.0  49740.0   88.0    84.0      4.0   \n31 2022-06-30  Yuma, AZ  Yuma, AZ  999.0  49740.0   65.0    65.0      0.0   \n32 2022-07-31  Yuma, AZ  Yuma, AZ  999.0  49740.0  171.0    81.0      0.0   \n\n    3 and 4 Units  5 Units or More  Num of Structures With 5 Units or More  \\\n23            0.0              0.0                                     0.0   \n24            0.0              0.0                                     0.0   \n25            0.0              0.0                                     0.0   \n26            0.0              0.0                                     0.0   \n27            0.0              0.0                                     0.0   \n28            0.0              0.0                                     0.0   \n29            0.0              0.0                                     0.0   \n30            0.0              0.0                                     0.0   \n31            0.0              0.0                                     0.0   \n32            0.0             90.0                                     6.0   \n\n    Year  Month                                          filename     Price  \\\n23  2021     10  Metro_zhvi_uc_sfrcondo_tier_0.67_1.0_sm_sa_month  328588.0   \n24  2021     11  Metro_zhvi_uc_sfrcondo_tier_0.67_1.0_sm_sa_month  333382.0   \n25  2021     12  Metro_zhvi_uc_sfrcondo_tier_0.67_1.0_sm_sa_month  339164.0   \n26  2022      1  Metro_zhvi_uc_sfrcondo_tier_0.67_1.0_sm_sa_month  345701.0   \n27  2022      2  Metro_zhvi_uc_sfrcondo_tier_0.67_1.0_sm_sa_month  351573.0   \n28  2022      3  Metro_zhvi_uc_sfrcondo_tier_0.67_1.0_sm_sa_month  357302.0   \n29  2022      4  Metro_zhvi_uc_sfrcondo_tier_0.67_1.0_sm_sa_month  363285.0   \n30  2022      5  Metro_zhvi_uc_sfrcondo_tier_0.67_1.0_sm_sa_month  370578.0   \n31  2022      6  Metro_zhvi_uc_sfrcondo_tier_0.67_1.0_sm_sa_month  376555.0   \n32  2022      7  Metro_zhvi_uc_sfrcondo_tier_0.67_1.0_sm_sa_month  379967.0   \n\n       Seasonal          Trend     Residual  Price Change  Trend Change  \n23   403.279514  326745.125000  1439.595486        6781.0   6074.833333  \n24    26.092014  332935.208333   420.699653        4794.0   6190.083333  \n25   370.675347  339246.000000  -452.675347        5782.0   6310.791667  \n26   877.654514  345459.625000  -636.279514        6537.0   6213.625000  \n27  1011.050347            NaN          NaN        5872.0           NaN  \n28   954.425347            NaN          NaN        5729.0           NaN  \n29   684.842014            NaN          NaN        5983.0           NaN  \n30  -993.157986            NaN          NaN        7293.0           NaN  \n31  -932.491319            NaN          NaN        5977.0           NaN  \n32 -1460.053819            NaN          NaN        3412.0           NaN  ",
      "text/html": "<div>\n<style scoped>\n    .dataframe tbody tr th:only-of-type {\n        vertical-align: middle;\n    }\n\n    .dataframe tbody tr th {\n        vertical-align: top;\n    }\n\n    .dataframe thead th {\n        text-align: right;\n    }\n</style>\n<table border=\"1\" class=\"dataframe\">\n  <thead>\n    <tr style=\"text-align: right;\">\n      <th></th>\n      <th>Date</th>\n      <th>Zillow</th>\n      <th>MSA</th>\n      <th>CSA</th>\n      <th>CBSA</th>\n      <th>Total</th>\n      <th>1 Unit</th>\n      <th>2 Units</th>\n      <th>3 and 4 Units</th>\n      <th>5 Units or More</th>\n      <th>Num of Structures With 5 Units or More</th>\n      <th>Year</th>\n      <th>Month</th>\n      <th>filename</th>\n      <th>Price</th>\n      <th>Seasonal</th>\n      <th>Trend</th>\n      <th>Residual</th>\n      <th>Price Change</th>\n      <th>Trend Change</th>\n    </tr>\n  </thead>\n  <tbody>\n    <tr>\n      <th>23</th>\n      <td>2021-10-31</td>\n      <td>Yuma, AZ</td>\n      <td>Yuma, AZ</td>\n      <td>999.0</td>\n      <td>49740.0</td>\n      <td>71.0</td>\n      <td>71.0</td>\n      <td>0.0</td>\n      <td>0.0</td>\n      <td>0.0</td>\n      <td>0.0</td>\n      <td>2021</td>\n      <td>10</td>\n      <td>Metro_zhvi_uc_sfrcondo_tier_0.67_1.0_sm_sa_month</td>\n      <td>328588.0</td>\n      <td>403.279514</td>\n      <td>326745.125000</td>\n      <td>1439.595486</td>\n      <td>6781.0</td>\n      <td>6074.833333</td>\n    </tr>\n    <tr>\n      <th>24</th>\n      <td>2021-11-30</td>\n      <td>Yuma, AZ</td>\n      <td>Yuma, AZ</td>\n      <td>999.0</td>\n      <td>49740.0</td>\n      <td>48.0</td>\n      <td>48.0</td>\n      <td>0.0</td>\n      <td>0.0</td>\n      <td>0.0</td>\n      <td>0.0</td>\n      <td>2021</td>\n      <td>11</td>\n      <td>Metro_zhvi_uc_sfrcondo_tier_0.67_1.0_sm_sa_month</td>\n      <td>333382.0</td>\n      <td>26.092014</td>\n      <td>332935.208333</td>\n      <td>420.699653</td>\n      <td>4794.0</td>\n      <td>6190.083333</td>\n    </tr>\n    <tr>\n      <th>25</th>\n      <td>2021-12-31</td>\n      <td>Yuma, AZ</td>\n      <td>Yuma, AZ</td>\n      <td>999.0</td>\n      <td>49740.0</td>\n      <td>51.0</td>\n      <td>51.0</td>\n      <td>0.0</td>\n      <td>0.0</td>\n      <td>0.0</td>\n      <td>0.0</td>\n      <td>2021</td>\n      <td>12</td>\n      <td>Metro_zhvi_uc_sfrcondo_tier_0.67_1.0_sm_sa_month</td>\n      <td>339164.0</td>\n      <td>370.675347</td>\n      <td>339246.000000</td>\n      <td>-452.675347</td>\n      <td>5782.0</td>\n      <td>6310.791667</td>\n    </tr>\n    <tr>\n      <th>26</th>\n      <td>2022-01-31</td>\n      <td>Yuma, AZ</td>\n      <td>Yuma, AZ</td>\n      <td>999.0</td>\n      <td>49740.0</td>\n      <td>72.0</td>\n      <td>72.0</td>\n      <td>0.0</td>\n      <td>0.0</td>\n      <td>0.0</td>\n      <td>0.0</td>\n      <td>2022</td>\n      <td>1</td>\n      <td>Metro_zhvi_uc_sfrcondo_tier_0.67_1.0_sm_sa_month</td>\n      <td>345701.0</td>\n      <td>877.654514</td>\n      <td>345459.625000</td>\n      <td>-636.279514</td>\n      <td>6537.0</td>\n      <td>6213.625000</td>\n    </tr>\n    <tr>\n      <th>27</th>\n      <td>2022-02-28</td>\n      <td>Yuma, AZ</td>\n      <td>Yuma, AZ</td>\n      <td>999.0</td>\n      <td>49740.0</td>\n      <td>91.0</td>\n      <td>87.0</td>\n      <td>4.0</td>\n      <td>0.0</td>\n      <td>0.0</td>\n      <td>0.0</td>\n      <td>2022</td>\n      <td>2</td>\n      <td>Metro_zhvi_uc_sfrcondo_tier_0.67_1.0_sm_sa_month</td>\n      <td>351573.0</td>\n      <td>1011.050347</td>\n      <td>NaN</td>\n      <td>NaN</td>\n      <td>5872.0</td>\n      <td>NaN</td>\n    </tr>\n    <tr>\n      <th>28</th>\n      <td>2022-03-31</td>\n      <td>Yuma, AZ</td>\n      <td>Yuma, AZ</td>\n      <td>999.0</td>\n      <td>49740.0</td>\n      <td>89.0</td>\n      <td>83.0</td>\n      <td>6.0</td>\n      <td>0.0</td>\n      <td>0.0</td>\n      <td>0.0</td>\n      <td>2022</td>\n      <td>3</td>\n      <td>Metro_zhvi_uc_sfrcondo_tier_0.67_1.0_sm_sa_month</td>\n      <td>357302.0</td>\n      <td>954.425347</td>\n      <td>NaN</td>\n      <td>NaN</td>\n      <td>5729.0</td>\n      <td>NaN</td>\n    </tr>\n    <tr>\n      <th>29</th>\n      <td>2022-04-30</td>\n      <td>Yuma, AZ</td>\n      <td>Yuma, AZ</td>\n      <td>999.0</td>\n      <td>49740.0</td>\n      <td>66.0</td>\n      <td>66.0</td>\n      <td>0.0</td>\n      <td>0.0</td>\n      <td>0.0</td>\n      <td>0.0</td>\n      <td>2022</td>\n      <td>4</td>\n      <td>Metro_zhvi_uc_sfrcondo_tier_0.67_1.0_sm_sa_month</td>\n      <td>363285.0</td>\n      <td>684.842014</td>\n      <td>NaN</td>\n      <td>NaN</td>\n      <td>5983.0</td>\n      <td>NaN</td>\n    </tr>\n    <tr>\n      <th>30</th>\n      <td>2022-05-31</td>\n      <td>Yuma, AZ</td>\n      <td>Yuma, AZ</td>\n      <td>999.0</td>\n      <td>49740.0</td>\n      <td>88.0</td>\n      <td>84.0</td>\n      <td>4.0</td>\n      <td>0.0</td>\n      <td>0.0</td>\n      <td>0.0</td>\n      <td>2022</td>\n      <td>5</td>\n      <td>Metro_zhvi_uc_sfrcondo_tier_0.67_1.0_sm_sa_month</td>\n      <td>370578.0</td>\n      <td>-993.157986</td>\n      <td>NaN</td>\n      <td>NaN</td>\n      <td>7293.0</td>\n      <td>NaN</td>\n    </tr>\n    <tr>\n      <th>31</th>\n      <td>2022-06-30</td>\n      <td>Yuma, AZ</td>\n      <td>Yuma, AZ</td>\n      <td>999.0</td>\n      <td>49740.0</td>\n      <td>65.0</td>\n      <td>65.0</td>\n      <td>0.0</td>\n      <td>0.0</td>\n      <td>0.0</td>\n      <td>0.0</td>\n      <td>2022</td>\n      <td>6</td>\n      <td>Metro_zhvi_uc_sfrcondo_tier_0.67_1.0_sm_sa_month</td>\n      <td>376555.0</td>\n      <td>-932.491319</td>\n      <td>NaN</td>\n      <td>NaN</td>\n      <td>5977.0</td>\n      <td>NaN</td>\n    </tr>\n    <tr>\n      <th>32</th>\n      <td>2022-07-31</td>\n      <td>Yuma, AZ</td>\n      <td>Yuma, AZ</td>\n      <td>999.0</td>\n      <td>49740.0</td>\n      <td>171.0</td>\n      <td>81.0</td>\n      <td>0.0</td>\n      <td>0.0</td>\n      <td>90.0</td>\n      <td>6.0</td>\n      <td>2022</td>\n      <td>7</td>\n      <td>Metro_zhvi_uc_sfrcondo_tier_0.67_1.0_sm_sa_month</td>\n      <td>379967.0</td>\n      <td>-1460.053819</td>\n      <td>NaN</td>\n      <td>NaN</td>\n      <td>3412.0</td>\n      <td>NaN</td>\n    </tr>\n  </tbody>\n</table>\n</div>"
     },
     "execution_count": 57,
     "metadata": {},
     "output_type": "execute_result"
    }
   ],
   "source": [
    "seasonal_df[-10:]"
   ]
  },
  {
   "cell_type": "code",
   "execution_count": 58,
   "id": "08587bf6",
   "metadata": {},
   "outputs": [
    {
     "data": {
      "text/plain": "        Date       Zillow          MSA    CSA     CBSA  Total  1 Unit  \\\n0 2019-11-30  Abilene, TX  Abilene, TX  999.0  10180.0   23.0    21.0   \n1 2019-12-31  Abilene, TX  Abilene, TX  999.0  10180.0   37.0    31.0   \n2 2020-01-31  Abilene, TX  Abilene, TX  999.0  10180.0   29.0    29.0   \n3 2020-02-29  Abilene, TX  Abilene, TX  999.0  10180.0   30.0    30.0   \n4 2020-03-31  Abilene, TX  Abilene, TX  999.0  10180.0   29.0    27.0   \n5 2020-04-30  Abilene, TX  Abilene, TX  999.0  10180.0   29.0    27.0   \n6 2020-05-31  Abilene, TX  Abilene, TX  999.0  10180.0   20.0    20.0   \n7 2020-06-30  Abilene, TX  Abilene, TX  999.0  10180.0  201.0    40.0   \n8 2020-07-31  Abilene, TX  Abilene, TX  999.0  10180.0  113.0    42.0   \n9 2020-08-31  Abilene, TX  Abilene, TX  999.0  10180.0   33.0    31.0   \n\n   2 Units  3 and 4 Units  5 Units or More  \\\n0      2.0            0.0              0.0   \n1      6.0            0.0              0.0   \n2      0.0            0.0              0.0   \n3      0.0            0.0              0.0   \n4      2.0            0.0              0.0   \n5      2.0            0.0              0.0   \n6      0.0            0.0              0.0   \n7      2.0           20.0            139.0   \n8     14.0            0.0             57.0   \n9      2.0            0.0              0.0   \n\n   Num of Structures With 5 Units or More  Year  Month  \\\n0                                     0.0  2019     11   \n1                                     0.0  2019     12   \n2                                     0.0  2020      1   \n3                                     0.0  2020      2   \n4                                     0.0  2020      3   \n5                                     0.0  2020      4   \n6                                     0.0  2020      5   \n7                                    17.0  2020      6   \n8                                     2.0  2020      7   \n9                                     0.0  2020      8   \n\n                                            filename    Price Seasonal  \\\n0  Metro_zhvi_bdrmcnt_1_uc_sfrcondo_tier_0.33_0.6...  81284.0  1232.32   \n1  Metro_zhvi_bdrmcnt_1_uc_sfrcondo_tier_0.33_0.6...  81875.0  869.385   \n2  Metro_zhvi_bdrmcnt_1_uc_sfrcondo_tier_0.33_0.6...  82268.0  533.177   \n3  Metro_zhvi_bdrmcnt_1_uc_sfrcondo_tier_0.33_0.6...  82846.0 -645.781   \n4  Metro_zhvi_bdrmcnt_1_uc_sfrcondo_tier_0.33_0.6...  84280.0 -1380.49   \n5  Metro_zhvi_bdrmcnt_1_uc_sfrcondo_tier_0.33_0.6...  85200.0 -2239.61   \n6  Metro_zhvi_bdrmcnt_1_uc_sfrcondo_tier_0.33_0.6...  85497.0 -331.573   \n7  Metro_zhvi_bdrmcnt_1_uc_sfrcondo_tier_0.33_0.6...  84757.0 -887.719   \n8  Metro_zhvi_bdrmcnt_1_uc_sfrcondo_tier_0.33_0.6...  84338.0 -163.719   \n9  Metro_zhvi_bdrmcnt_1_uc_sfrcondo_tier_0.33_0.6...  84990.0  462.198   \n\n     Trend Residual  Price Change Trend Change  \n0      NaN      NaN           NaN          NaN  \n1      NaN      NaN         591.0          NaN  \n2      NaN      NaN         393.0          NaN  \n3      NaN      NaN         578.0          NaN  \n4      NaN      NaN        1434.0          NaN  \n5      NaN      NaN         920.0          NaN  \n6  84621.8  1206.74         297.0          NaN  \n7    85267   377.76        -740.0      645.125  \n8  85907.1 -1405.41        -419.0      640.167  \n9    86554 -2026.24         652.0      646.917  ",
      "text/html": "<div>\n<style scoped>\n    .dataframe tbody tr th:only-of-type {\n        vertical-align: middle;\n    }\n\n    .dataframe tbody tr th {\n        vertical-align: top;\n    }\n\n    .dataframe thead th {\n        text-align: right;\n    }\n</style>\n<table border=\"1\" class=\"dataframe\">\n  <thead>\n    <tr style=\"text-align: right;\">\n      <th></th>\n      <th>Date</th>\n      <th>Zillow</th>\n      <th>MSA</th>\n      <th>CSA</th>\n      <th>CBSA</th>\n      <th>Total</th>\n      <th>1 Unit</th>\n      <th>2 Units</th>\n      <th>3 and 4 Units</th>\n      <th>5 Units or More</th>\n      <th>Num of Structures With 5 Units or More</th>\n      <th>Year</th>\n      <th>Month</th>\n      <th>filename</th>\n      <th>Price</th>\n      <th>Seasonal</th>\n      <th>Trend</th>\n      <th>Residual</th>\n      <th>Price Change</th>\n      <th>Trend Change</th>\n    </tr>\n  </thead>\n  <tbody>\n    <tr>\n      <th>0</th>\n      <td>2019-11-30</td>\n      <td>Abilene, TX</td>\n      <td>Abilene, TX</td>\n      <td>999.0</td>\n      <td>10180.0</td>\n      <td>23.0</td>\n      <td>21.0</td>\n      <td>2.0</td>\n      <td>0.0</td>\n      <td>0.0</td>\n      <td>0.0</td>\n      <td>2019</td>\n      <td>11</td>\n      <td>Metro_zhvi_bdrmcnt_1_uc_sfrcondo_tier_0.33_0.6...</td>\n      <td>81284.0</td>\n      <td>1232.32</td>\n      <td>NaN</td>\n      <td>NaN</td>\n      <td>NaN</td>\n      <td>NaN</td>\n    </tr>\n    <tr>\n      <th>1</th>\n      <td>2019-12-31</td>\n      <td>Abilene, TX</td>\n      <td>Abilene, TX</td>\n      <td>999.0</td>\n      <td>10180.0</td>\n      <td>37.0</td>\n      <td>31.0</td>\n      <td>6.0</td>\n      <td>0.0</td>\n      <td>0.0</td>\n      <td>0.0</td>\n      <td>2019</td>\n      <td>12</td>\n      <td>Metro_zhvi_bdrmcnt_1_uc_sfrcondo_tier_0.33_0.6...</td>\n      <td>81875.0</td>\n      <td>869.385</td>\n      <td>NaN</td>\n      <td>NaN</td>\n      <td>591.0</td>\n      <td>NaN</td>\n    </tr>\n    <tr>\n      <th>2</th>\n      <td>2020-01-31</td>\n      <td>Abilene, TX</td>\n      <td>Abilene, TX</td>\n      <td>999.0</td>\n      <td>10180.0</td>\n      <td>29.0</td>\n      <td>29.0</td>\n      <td>0.0</td>\n      <td>0.0</td>\n      <td>0.0</td>\n      <td>0.0</td>\n      <td>2020</td>\n      <td>1</td>\n      <td>Metro_zhvi_bdrmcnt_1_uc_sfrcondo_tier_0.33_0.6...</td>\n      <td>82268.0</td>\n      <td>533.177</td>\n      <td>NaN</td>\n      <td>NaN</td>\n      <td>393.0</td>\n      <td>NaN</td>\n    </tr>\n    <tr>\n      <th>3</th>\n      <td>2020-02-29</td>\n      <td>Abilene, TX</td>\n      <td>Abilene, TX</td>\n      <td>999.0</td>\n      <td>10180.0</td>\n      <td>30.0</td>\n      <td>30.0</td>\n      <td>0.0</td>\n      <td>0.0</td>\n      <td>0.0</td>\n      <td>0.0</td>\n      <td>2020</td>\n      <td>2</td>\n      <td>Metro_zhvi_bdrmcnt_1_uc_sfrcondo_tier_0.33_0.6...</td>\n      <td>82846.0</td>\n      <td>-645.781</td>\n      <td>NaN</td>\n      <td>NaN</td>\n      <td>578.0</td>\n      <td>NaN</td>\n    </tr>\n    <tr>\n      <th>4</th>\n      <td>2020-03-31</td>\n      <td>Abilene, TX</td>\n      <td>Abilene, TX</td>\n      <td>999.0</td>\n      <td>10180.0</td>\n      <td>29.0</td>\n      <td>27.0</td>\n      <td>2.0</td>\n      <td>0.0</td>\n      <td>0.0</td>\n      <td>0.0</td>\n      <td>2020</td>\n      <td>3</td>\n      <td>Metro_zhvi_bdrmcnt_1_uc_sfrcondo_tier_0.33_0.6...</td>\n      <td>84280.0</td>\n      <td>-1380.49</td>\n      <td>NaN</td>\n      <td>NaN</td>\n      <td>1434.0</td>\n      <td>NaN</td>\n    </tr>\n    <tr>\n      <th>5</th>\n      <td>2020-04-30</td>\n      <td>Abilene, TX</td>\n      <td>Abilene, TX</td>\n      <td>999.0</td>\n      <td>10180.0</td>\n      <td>29.0</td>\n      <td>27.0</td>\n      <td>2.0</td>\n      <td>0.0</td>\n      <td>0.0</td>\n      <td>0.0</td>\n      <td>2020</td>\n      <td>4</td>\n      <td>Metro_zhvi_bdrmcnt_1_uc_sfrcondo_tier_0.33_0.6...</td>\n      <td>85200.0</td>\n      <td>-2239.61</td>\n      <td>NaN</td>\n      <td>NaN</td>\n      <td>920.0</td>\n      <td>NaN</td>\n    </tr>\n    <tr>\n      <th>6</th>\n      <td>2020-05-31</td>\n      <td>Abilene, TX</td>\n      <td>Abilene, TX</td>\n      <td>999.0</td>\n      <td>10180.0</td>\n      <td>20.0</td>\n      <td>20.0</td>\n      <td>0.0</td>\n      <td>0.0</td>\n      <td>0.0</td>\n      <td>0.0</td>\n      <td>2020</td>\n      <td>5</td>\n      <td>Metro_zhvi_bdrmcnt_1_uc_sfrcondo_tier_0.33_0.6...</td>\n      <td>85497.0</td>\n      <td>-331.573</td>\n      <td>84621.8</td>\n      <td>1206.74</td>\n      <td>297.0</td>\n      <td>NaN</td>\n    </tr>\n    <tr>\n      <th>7</th>\n      <td>2020-06-30</td>\n      <td>Abilene, TX</td>\n      <td>Abilene, TX</td>\n      <td>999.0</td>\n      <td>10180.0</td>\n      <td>201.0</td>\n      <td>40.0</td>\n      <td>2.0</td>\n      <td>20.0</td>\n      <td>139.0</td>\n      <td>17.0</td>\n      <td>2020</td>\n      <td>6</td>\n      <td>Metro_zhvi_bdrmcnt_1_uc_sfrcondo_tier_0.33_0.6...</td>\n      <td>84757.0</td>\n      <td>-887.719</td>\n      <td>85267</td>\n      <td>377.76</td>\n      <td>-740.0</td>\n      <td>645.125</td>\n    </tr>\n    <tr>\n      <th>8</th>\n      <td>2020-07-31</td>\n      <td>Abilene, TX</td>\n      <td>Abilene, TX</td>\n      <td>999.0</td>\n      <td>10180.0</td>\n      <td>113.0</td>\n      <td>42.0</td>\n      <td>14.0</td>\n      <td>0.0</td>\n      <td>57.0</td>\n      <td>2.0</td>\n      <td>2020</td>\n      <td>7</td>\n      <td>Metro_zhvi_bdrmcnt_1_uc_sfrcondo_tier_0.33_0.6...</td>\n      <td>84338.0</td>\n      <td>-163.719</td>\n      <td>85907.1</td>\n      <td>-1405.41</td>\n      <td>-419.0</td>\n      <td>640.167</td>\n    </tr>\n    <tr>\n      <th>9</th>\n      <td>2020-08-31</td>\n      <td>Abilene, TX</td>\n      <td>Abilene, TX</td>\n      <td>999.0</td>\n      <td>10180.0</td>\n      <td>33.0</td>\n      <td>31.0</td>\n      <td>2.0</td>\n      <td>0.0</td>\n      <td>0.0</td>\n      <td>0.0</td>\n      <td>2020</td>\n      <td>8</td>\n      <td>Metro_zhvi_bdrmcnt_1_uc_sfrcondo_tier_0.33_0.6...</td>\n      <td>84990.0</td>\n      <td>462.198</td>\n      <td>86554</td>\n      <td>-2026.24</td>\n      <td>652.0</td>\n      <td>646.917</td>\n    </tr>\n  </tbody>\n</table>\n</div>"
     },
     "execution_count": 58,
     "metadata": {},
     "output_type": "execute_result"
    }
   ],
   "source": [
    "trend_df[trend_df.MSA == 'Abilene, TX'].head(10)"
   ]
  },
  {
   "cell_type": "code",
   "execution_count": 59,
   "id": "e4320b2d",
   "metadata": {},
   "outputs": [],
   "source": [
    "def get_pop(x):\n",
    "    if np.isnan(x['Population 1']) and np.isnan(x['Population 5']):\n",
    "        return None\n",
    "    \n",
    "    if np.isnan(x['Population 1']):\n",
    "        return x['Population 5']\n",
    "    if np.isnan(x['Population 5']):\n",
    "        return x['Population 1']\n",
    "    \n",
    "    return (x['Population 5'] + x['Population 5'])/2"
   ]
  },
  {
   "cell_type": "code",
   "execution_count": 60,
   "id": "6608dfd9",
   "metadata": {},
   "outputs": [
    {
     "data": {
      "text/plain": "             MSA Year as Date  Population 1  Year  Population 5  \\\n12  Aberdeen, SD   2019-01-01           NaN  2019       42824.0   \n13  Aberdeen, SD   2020-01-01           NaN  2020       42864.0   \n23  Aberdeen, WA   2019-01-01       75061.0  2019       72779.0   \n24  Aberdeen, WA   2020-01-01           NaN  2020       73769.0   \n25  Aberdeen, WA   2021-01-01       76841.0  2021           NaN   \n\n    Population Diff  Population  Pop Growth 1 Year  Pop -1 Years  \\\n12              NaN     42824.0               44.0       42780.0   \n13              NaN     42864.0               40.0       42824.0   \n23         0.030402     72779.0              812.0       71967.0   \n24              NaN     73769.0              990.0       72779.0   \n25              NaN     76841.0             3072.0       73769.0   \n\n    Pop Percent 1 Year  Pop Growth 5 Year  Pop -5 Years  Pop Percent 5 Year  \n12            0.001029             1260.0       41564.0            0.030315  \n13            0.000934              786.0       42078.0            0.018680  \n23            0.011283             1045.0       71734.0            0.014568  \n24            0.013603             2350.0       71419.0            0.032904  \n25            0.041644             5608.0       71233.0            0.078728  ",
      "text/html": "<div>\n<style scoped>\n    .dataframe tbody tr th:only-of-type {\n        vertical-align: middle;\n    }\n\n    .dataframe tbody tr th {\n        vertical-align: top;\n    }\n\n    .dataframe thead th {\n        text-align: right;\n    }\n</style>\n<table border=\"1\" class=\"dataframe\">\n  <thead>\n    <tr style=\"text-align: right;\">\n      <th></th>\n      <th>MSA</th>\n      <th>Year as Date</th>\n      <th>Population 1</th>\n      <th>Year</th>\n      <th>Population 5</th>\n      <th>Population Diff</th>\n      <th>Population</th>\n      <th>Pop Growth 1 Year</th>\n      <th>Pop -1 Years</th>\n      <th>Pop Percent 1 Year</th>\n      <th>Pop Growth 5 Year</th>\n      <th>Pop -5 Years</th>\n      <th>Pop Percent 5 Year</th>\n    </tr>\n  </thead>\n  <tbody>\n    <tr>\n      <th>12</th>\n      <td>Aberdeen, SD</td>\n      <td>2019-01-01</td>\n      <td>NaN</td>\n      <td>2019</td>\n      <td>42824.0</td>\n      <td>NaN</td>\n      <td>42824.0</td>\n      <td>44.0</td>\n      <td>42780.0</td>\n      <td>0.001029</td>\n      <td>1260.0</td>\n      <td>41564.0</td>\n      <td>0.030315</td>\n    </tr>\n    <tr>\n      <th>13</th>\n      <td>Aberdeen, SD</td>\n      <td>2020-01-01</td>\n      <td>NaN</td>\n      <td>2020</td>\n      <td>42864.0</td>\n      <td>NaN</td>\n      <td>42864.0</td>\n      <td>40.0</td>\n      <td>42824.0</td>\n      <td>0.000934</td>\n      <td>786.0</td>\n      <td>42078.0</td>\n      <td>0.018680</td>\n    </tr>\n    <tr>\n      <th>23</th>\n      <td>Aberdeen, WA</td>\n      <td>2019-01-01</td>\n      <td>75061.0</td>\n      <td>2019</td>\n      <td>72779.0</td>\n      <td>0.030402</td>\n      <td>72779.0</td>\n      <td>812.0</td>\n      <td>71967.0</td>\n      <td>0.011283</td>\n      <td>1045.0</td>\n      <td>71734.0</td>\n      <td>0.014568</td>\n    </tr>\n    <tr>\n      <th>24</th>\n      <td>Aberdeen, WA</td>\n      <td>2020-01-01</td>\n      <td>NaN</td>\n      <td>2020</td>\n      <td>73769.0</td>\n      <td>NaN</td>\n      <td>73769.0</td>\n      <td>990.0</td>\n      <td>72779.0</td>\n      <td>0.013603</td>\n      <td>2350.0</td>\n      <td>71419.0</td>\n      <td>0.032904</td>\n    </tr>\n    <tr>\n      <th>25</th>\n      <td>Aberdeen, WA</td>\n      <td>2021-01-01</td>\n      <td>76841.0</td>\n      <td>2021</td>\n      <td>NaN</td>\n      <td>NaN</td>\n      <td>76841.0</td>\n      <td>3072.0</td>\n      <td>73769.0</td>\n      <td>0.041644</td>\n      <td>5608.0</td>\n      <td>71233.0</td>\n      <td>0.078728</td>\n    </tr>\n  </tbody>\n</table>\n</div>"
     },
     "execution_count": 60,
     "metadata": {},
     "output_type": "execute_result"
    }
   ],
   "source": [
    "acs_1_df = pd.DataFrame()\n",
    "# Add ACS 1-year estimates\n",
    "for year in (2010, 2011, 2012, 2013, 2014, 2015, 2016, 2017, 2018, 2019, 2021):\n",
    "    acs_year_df = pd.read_csv(f\"acs-1-year/ACSDP1Y{year}.DP05-Data.csv\", skiprows=1)[1:].copy()\n",
    "    acs_year_df['MSA'] = acs_year_df['Geographic Area Name'].apply(\n",
    "        lambda x: x.replace(\" Micro Area\", \"\").replace(\" Metro Area\", \"\")\n",
    "    )\n",
    "    \n",
    "    acs_year_df.rename(columns={'Estimate!!SEX AND AGE!!Total population': 'Population 1'}, inplace=True)\n",
    "    acs_year_df = acs_year_df[[\"MSA\", \"Population 1\"]].copy()\n",
    "    acs_year_df['Year'] = year\n",
    "    \n",
    "    acs_1_df = pd.concat([acs_1_df, acs_year_df])\n",
    "\n",
    "# Add ACS 5-year estimates\n",
    "acs_5_df = pd.DataFrame()\n",
    "for year in (2010, 2011, 2012, 2013, 2014, 2015, 2016, 2017, 2018, 2019, 2020):\n",
    "    acs_year_df = pd.read_csv(f\"acs-5-year/ACSDP5Y{year}.DP05-Data.csv\", skiprows=1)[1:].copy()\n",
    "    acs_year_df['MSA'] = acs_year_df['Geographic Area Name'].apply(\n",
    "        lambda x: x.replace(\" Micro Area\", \"\").replace(\" Metro Area\", \"\")\n",
    "    )\n",
    "    \n",
    "    acs_year_df.rename(columns={'Estimate!!SEX AND AGE!!Total population': 'Population 5'}, inplace=True)\n",
    "    acs_year_df = acs_year_df[[\"MSA\", \"Population 5\"]].copy()\n",
    "    acs_year_df['Year'] = year\n",
    "    \n",
    "    acs_5_df = pd.concat([acs_5_df, acs_year_df])\n",
    "\n",
    "# Merge our datasets and reconcile our estimates\n",
    "acs_df = pd.merge(acs_1_df, acs_5_df, on=['MSA', 'Year'], how='outer')\n",
    "acs_df['Population Diff'] = 1 - acs_df['Population 5'] / acs_df['Population 1']\n",
    "acs_df['Population'] = acs_df.apply(get_pop, axis=1)\n",
    "\n",
    "\n",
    "# Add population growth as features\n",
    "def add_pop_growth(df, diff):\n",
    "    df['Year as Date'] = df.Year.apply(lambda year: dt.datetime(year=year, month=1, day=1))\n",
    "    df = df.set_index(['MSA', 'Year as Date']).sort_index()\n",
    "    \n",
    "    df[f'Pop Growth {diff} Year'] = df.groupby('MSA')['Population'].diff(diff)\n",
    "    df[f'Pop -{diff} Years'] = df.groupby('MSA')['Population'].shift(diff)\n",
    "    df[f'Pop Percent {diff} Year'] = df[f'Pop Growth {diff} Year'] / df[f'Pop -{diff} Years']\n",
    "    \n",
    "    df.reset_index(inplace=True)\n",
    "    return df\n",
    "\n",
    "\n",
    "acs_df = add_pop_growth(acs_df, 1)\n",
    "acs_df = add_pop_growth(acs_df, 5)\n",
    "acs_df = acs_df[acs_df.Year >= 2019].copy()\n",
    "\n",
    "acs_df.head()"
   ]
  },
  {
   "cell_type": "code",
   "execution_count": 61,
   "id": "a60b0606",
   "metadata": {},
   "outputs": [
    {
     "data": {
      "text/plain": "            MSA Year as Date  Population 1  Year  Population 5  \\\n35  Abilene, TX   2019-01-01      171795.0  2019      170669.0   \n36  Abilene, TX   2020-01-01           NaN  2020      171354.0   \n37  Abilene, TX   2021-01-01      178608.0  2021           NaN   \n\n    Population Diff  Population  Pop Growth 1 Year  Pop -1 Years  \\\n35         0.006554    170669.0              660.0      170009.0   \n36              NaN    171354.0              685.0      170669.0   \n37              NaN    178608.0             7254.0      171354.0   \n\n    Pop Percent 1 Year  Pop Growth 5 Year  Pop -5 Years  Pop Percent 5 Year  \n35            0.003882             3498.0      167171.0            0.020925  \n36            0.004014             3409.0      167945.0            0.020298  \n37            0.042333             9834.0      168774.0            0.058267  ",
      "text/html": "<div>\n<style scoped>\n    .dataframe tbody tr th:only-of-type {\n        vertical-align: middle;\n    }\n\n    .dataframe tbody tr th {\n        vertical-align: top;\n    }\n\n    .dataframe thead th {\n        text-align: right;\n    }\n</style>\n<table border=\"1\" class=\"dataframe\">\n  <thead>\n    <tr style=\"text-align: right;\">\n      <th></th>\n      <th>MSA</th>\n      <th>Year as Date</th>\n      <th>Population 1</th>\n      <th>Year</th>\n      <th>Population 5</th>\n      <th>Population Diff</th>\n      <th>Population</th>\n      <th>Pop Growth 1 Year</th>\n      <th>Pop -1 Years</th>\n      <th>Pop Percent 1 Year</th>\n      <th>Pop Growth 5 Year</th>\n      <th>Pop -5 Years</th>\n      <th>Pop Percent 5 Year</th>\n    </tr>\n  </thead>\n  <tbody>\n    <tr>\n      <th>35</th>\n      <td>Abilene, TX</td>\n      <td>2019-01-01</td>\n      <td>171795.0</td>\n      <td>2019</td>\n      <td>170669.0</td>\n      <td>0.006554</td>\n      <td>170669.0</td>\n      <td>660.0</td>\n      <td>170009.0</td>\n      <td>0.003882</td>\n      <td>3498.0</td>\n      <td>167171.0</td>\n      <td>0.020925</td>\n    </tr>\n    <tr>\n      <th>36</th>\n      <td>Abilene, TX</td>\n      <td>2020-01-01</td>\n      <td>NaN</td>\n      <td>2020</td>\n      <td>171354.0</td>\n      <td>NaN</td>\n      <td>171354.0</td>\n      <td>685.0</td>\n      <td>170669.0</td>\n      <td>0.004014</td>\n      <td>3409.0</td>\n      <td>167945.0</td>\n      <td>0.020298</td>\n    </tr>\n    <tr>\n      <th>37</th>\n      <td>Abilene, TX</td>\n      <td>2021-01-01</td>\n      <td>178608.0</td>\n      <td>2021</td>\n      <td>NaN</td>\n      <td>NaN</td>\n      <td>178608.0</td>\n      <td>7254.0</td>\n      <td>171354.0</td>\n      <td>0.042333</td>\n      <td>9834.0</td>\n      <td>168774.0</td>\n      <td>0.058267</td>\n    </tr>\n  </tbody>\n</table>\n</div>"
     },
     "execution_count": 61,
     "metadata": {},
     "output_type": "execute_result"
    }
   ],
   "source": [
    "acs_df[acs_df.MSA == 'Abilene, TX']"
   ]
  },
  {
   "cell_type": "code",
   "execution_count": 62,
   "id": "49281688",
   "metadata": {},
   "outputs": [],
   "source": [
    "acs_df.to_csv(\"ACS.csv\", index=False)"
   ]
  },
  {
   "cell_type": "code",
   "execution_count": 63,
   "id": "ee6311f7",
   "metadata": {},
   "outputs": [
    {
     "data": {
      "text/plain": "        Date       Zillow          MSA    CSA     CBSA  Total  1 Unit  \\\n0 2019-11-30  Abilene, TX  Abilene, TX  999.0  10180.0   23.0    21.0   \n1 2019-12-31  Abilene, TX  Abilene, TX  999.0  10180.0   37.0    31.0   \n2 2020-01-31  Abilene, TX  Abilene, TX  999.0  10180.0   29.0    29.0   \n3 2020-02-29  Abilene, TX  Abilene, TX  999.0  10180.0   30.0    30.0   \n4 2020-03-31  Abilene, TX  Abilene, TX  999.0  10180.0   29.0    27.0   \n\n   2 Units  3 and 4 Units  5 Units or More  ...  Population 1  Population 5  \\\n0      2.0            0.0              0.0  ...      171795.0      170669.0   \n1      6.0            0.0              0.0  ...      171795.0      170669.0   \n2      0.0            0.0              0.0  ...           NaN      171354.0   \n3      0.0            0.0              0.0  ...           NaN      171354.0   \n4      2.0            0.0              0.0  ...           NaN      171354.0   \n\n   Population Diff Population  Pop Growth 1 Year Pop -1 Years  \\\n0         0.006554   170669.0              660.0     170009.0   \n1         0.006554   170669.0              660.0     170009.0   \n2              NaN   171354.0              685.0     170669.0   \n3              NaN   171354.0              685.0     170669.0   \n4              NaN   171354.0              685.0     170669.0   \n\n  Pop Percent 1 Year Pop Growth 5 Year  Pop -5 Years Pop Percent 5 Year  \n0           0.003882            3498.0      167171.0           0.020925  \n1           0.003882            3498.0      167171.0           0.020925  \n2           0.004014            3409.0      167945.0           0.020298  \n3           0.004014            3409.0      167945.0           0.020298  \n4           0.004014            3409.0      167945.0           0.020298  \n\n[5 rows x 31 columns]",
      "text/html": "<div>\n<style scoped>\n    .dataframe tbody tr th:only-of-type {\n        vertical-align: middle;\n    }\n\n    .dataframe tbody tr th {\n        vertical-align: top;\n    }\n\n    .dataframe thead th {\n        text-align: right;\n    }\n</style>\n<table border=\"1\" class=\"dataframe\">\n  <thead>\n    <tr style=\"text-align: right;\">\n      <th></th>\n      <th>Date</th>\n      <th>Zillow</th>\n      <th>MSA</th>\n      <th>CSA</th>\n      <th>CBSA</th>\n      <th>Total</th>\n      <th>1 Unit</th>\n      <th>2 Units</th>\n      <th>3 and 4 Units</th>\n      <th>5 Units or More</th>\n      <th>...</th>\n      <th>Population 1</th>\n      <th>Population 5</th>\n      <th>Population Diff</th>\n      <th>Population</th>\n      <th>Pop Growth 1 Year</th>\n      <th>Pop -1 Years</th>\n      <th>Pop Percent 1 Year</th>\n      <th>Pop Growth 5 Year</th>\n      <th>Pop -5 Years</th>\n      <th>Pop Percent 5 Year</th>\n    </tr>\n  </thead>\n  <tbody>\n    <tr>\n      <th>0</th>\n      <td>2019-11-30</td>\n      <td>Abilene, TX</td>\n      <td>Abilene, TX</td>\n      <td>999.0</td>\n      <td>10180.0</td>\n      <td>23.0</td>\n      <td>21.0</td>\n      <td>2.0</td>\n      <td>0.0</td>\n      <td>0.0</td>\n      <td>...</td>\n      <td>171795.0</td>\n      <td>170669.0</td>\n      <td>0.006554</td>\n      <td>170669.0</td>\n      <td>660.0</td>\n      <td>170009.0</td>\n      <td>0.003882</td>\n      <td>3498.0</td>\n      <td>167171.0</td>\n      <td>0.020925</td>\n    </tr>\n    <tr>\n      <th>1</th>\n      <td>2019-12-31</td>\n      <td>Abilene, TX</td>\n      <td>Abilene, TX</td>\n      <td>999.0</td>\n      <td>10180.0</td>\n      <td>37.0</td>\n      <td>31.0</td>\n      <td>6.0</td>\n      <td>0.0</td>\n      <td>0.0</td>\n      <td>...</td>\n      <td>171795.0</td>\n      <td>170669.0</td>\n      <td>0.006554</td>\n      <td>170669.0</td>\n      <td>660.0</td>\n      <td>170009.0</td>\n      <td>0.003882</td>\n      <td>3498.0</td>\n      <td>167171.0</td>\n      <td>0.020925</td>\n    </tr>\n    <tr>\n      <th>2</th>\n      <td>2020-01-31</td>\n      <td>Abilene, TX</td>\n      <td>Abilene, TX</td>\n      <td>999.0</td>\n      <td>10180.0</td>\n      <td>29.0</td>\n      <td>29.0</td>\n      <td>0.0</td>\n      <td>0.0</td>\n      <td>0.0</td>\n      <td>...</td>\n      <td>NaN</td>\n      <td>171354.0</td>\n      <td>NaN</td>\n      <td>171354.0</td>\n      <td>685.0</td>\n      <td>170669.0</td>\n      <td>0.004014</td>\n      <td>3409.0</td>\n      <td>167945.0</td>\n      <td>0.020298</td>\n    </tr>\n    <tr>\n      <th>3</th>\n      <td>2020-02-29</td>\n      <td>Abilene, TX</td>\n      <td>Abilene, TX</td>\n      <td>999.0</td>\n      <td>10180.0</td>\n      <td>30.0</td>\n      <td>30.0</td>\n      <td>0.0</td>\n      <td>0.0</td>\n      <td>0.0</td>\n      <td>...</td>\n      <td>NaN</td>\n      <td>171354.0</td>\n      <td>NaN</td>\n      <td>171354.0</td>\n      <td>685.0</td>\n      <td>170669.0</td>\n      <td>0.004014</td>\n      <td>3409.0</td>\n      <td>167945.0</td>\n      <td>0.020298</td>\n    </tr>\n    <tr>\n      <th>4</th>\n      <td>2020-03-31</td>\n      <td>Abilene, TX</td>\n      <td>Abilene, TX</td>\n      <td>999.0</td>\n      <td>10180.0</td>\n      <td>29.0</td>\n      <td>27.0</td>\n      <td>2.0</td>\n      <td>0.0</td>\n      <td>0.0</td>\n      <td>...</td>\n      <td>NaN</td>\n      <td>171354.0</td>\n      <td>NaN</td>\n      <td>171354.0</td>\n      <td>685.0</td>\n      <td>170669.0</td>\n      <td>0.004014</td>\n      <td>3409.0</td>\n      <td>167945.0</td>\n      <td>0.020298</td>\n    </tr>\n  </tbody>\n</table>\n<p>5 rows × 31 columns</p>\n</div>"
     },
     "execution_count": 63,
     "metadata": {},
     "output_type": "execute_result"
    }
   ],
   "source": [
    "combined_df = pd.merge(trend_df, acs_df, on=['MSA', 'Year'], how='left')\n",
    "combined_df.to_csv(\"combined.csv\")\n",
    "\n",
    "combined_df.head()"
   ]
  },
  {
   "cell_type": "code",
   "execution_count": 64,
   "id": "f9c29aa3",
   "metadata": {},
   "outputs": [
    {
     "data": {
      "text/plain": "(94718, 31)"
     },
     "execution_count": 64,
     "metadata": {},
     "output_type": "execute_result"
    }
   ],
   "source": [
    "combined_df.dropna(subset=['Population']).shape"
   ]
  },
  {
   "cell_type": "code",
   "execution_count": 65,
   "id": "ee70c75c",
   "metadata": {},
   "outputs": [],
   "source": [
    "# 5 year: 2019, 2020\n",
    "# 1 year: 2019, 2021"
   ]
  }
 ],
 "metadata": {
  "colab": {
   "provenance": []
  },
  "kernelspec": {
   "display_name": "Python 3 (ipykernel)",
   "language": "python",
   "name": "python3"
  },
  "language_info": {
   "codemirror_mode": {
    "name": "ipython",
    "version": 3
   },
   "file_extension": ".py",
   "mimetype": "text/x-python",
   "name": "python",
   "nbconvert_exporter": "python",
   "pygments_lexer": "ipython3",
   "version": "3.10.0"
  }
 },
 "nbformat": 4,
 "nbformat_minor": 5
}
