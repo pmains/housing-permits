{
 "cells": [
  {
   "cell_type": "code",
   "execution_count": null,
   "id": "481aa628",
   "metadata": {
    "executionInfo": {
     "elapsed": 1278,
     "status": "ok",
     "timestamp": 1665234398656,
     "user": {
      "displayName": "mauve mauve",
      "userId": "09731923278332862276"
     },
     "user_tz": 240
    },
    "id": "481aa628"
   },
   "outputs": [],
   "source": [
    "import os\n",
    "import re\n",
    "\n",
    "import pandas as pd\n",
    "import numpy as np\n",
    "import altair as alt\n",
    "import datetime as dt"
   ]
  },
  {
   "cell_type": "code",
   "execution_count": null,
   "id": "6cd3962f",
   "metadata": {},
   "outputs": [],
   "source": [
    "from statsmodels.tsa.seasonal import seasonal_decompose, DecomposeResult"
   ]
  },
  {
   "cell_type": "code",
   "execution_count": null,
   "id": "9fb86g0rsTiF",
   "metadata": {
    "colab": {
     "base_uri": "https://localhost:8080/"
    },
    "executionInfo": {
     "elapsed": 499,
     "status": "ok",
     "timestamp": 1665234402197,
     "user": {
      "displayName": "mauve mauve",
      "userId": "09731923278332862276"
     },
     "user_tz": 240
    },
    "id": "9fb86g0rsTiF",
    "outputId": "52a7f749-e6df-499d-85e5-3f2b99fc200d"
   },
   "outputs": [],
   "source": [
    "msa_files = [os.path.join(\"msa\", file_path) for file_path in os.listdir('msa')]\n",
    "ZHVI_files = [os.path.join('zillow', file_path) for file_path in os.listdir( 'zillow')]"
   ]
  },
  {
   "cell_type": "code",
   "execution_count": null,
   "id": "fYihPZbhstqn",
   "metadata": {
    "colab": {
     "base_uri": "https://localhost:8080/"
    },
    "executionInfo": {
     "elapsed": 2529,
     "status": "ok",
     "timestamp": 1665234415184,
     "user": {
      "displayName": "mauve mauve",
      "userId": "09731923278332862276"
     },
     "user_tz": 240
    },
    "id": "fYihPZbhstqn",
    "outputId": "6c75fc92-1a3b-4588-f96b-649b47b02bed"
   },
   "outputs": [],
   "source": [
    "msa_dfs = [pd.read_excel(f, skiprows=7)[1:] for f in msa_files]\n",
    "print(msa_files)"
   ]
  },
  {
   "cell_type": "code",
   "execution_count": null,
   "id": "h7JeoiPItPKH",
   "metadata": {
    "colab": {
     "base_uri": "https://localhost:8080/",
     "height": 389
    },
    "executionInfo": {
     "elapsed": 164,
     "status": "ok",
     "timestamp": 1665234415339,
     "user": {
      "displayName": "mauve mauve",
      "userId": "09731923278332862276"
     },
     "user_tz": 240
    },
    "id": "h7JeoiPItPKH",
    "outputId": "ada3a9f9-9e50-4b2d-8516-b7adaf3b4f9d"
   },
   "outputs": [],
   "source": [
    "print(msa_dfs[0].columns)\n",
    "\n",
    "msa_cols = ['CSA', 'CBSA', 'Name', 'Total', '1 Unit', '2 Units', \n",
    "            '3 and 4 Units','5 Units or More', \n",
    "            'Num of Structures With 5 Units or More']\n",
    "msa_dfs = [df[msa_cols] for df in msa_dfs]\n",
    "\n",
    "msa_dfs[0].head()"
   ]
  },
  {
   "cell_type": "code",
   "execution_count": null,
   "id": "FNFMUMm6u89q",
   "metadata": {
    "colab": {
     "base_uri": "https://localhost:8080/"
    },
    "executionInfo": {
     "elapsed": 11,
     "status": "ok",
     "timestamp": 1665234415340,
     "user": {
      "displayName": "mauve mauve",
      "userId": "09731923278332862276"
     },
     "user_tz": 240
    },
    "id": "FNFMUMm6u89q",
    "outputId": "00de3563-2e3f-4cbe-8752-468bfdf44c93"
   },
   "outputs": [],
   "source": [
    "print(msa_dfs[0].columns)"
   ]
  },
  {
   "cell_type": "code",
   "execution_count": null,
   "id": "NV1o0Tt3dF6Q",
   "metadata": {
    "colab": {
     "base_uri": "https://localhost:8080/",
     "height": 285
    },
    "executionInfo": {
     "elapsed": 6,
     "status": "ok",
     "timestamp": 1665234415470,
     "user": {
      "displayName": "mauve mauve",
      "userId": "09731923278332862276"
     },
     "user_tz": 240
    },
    "id": "NV1o0Tt3dF6Q",
    "outputId": "a6d98106-05eb-4c3f-9574-7fb1906cf1f3"
   },
   "outputs": [],
   "source": [
    "for df, name in zip(msa_dfs, msa_files):\n",
    "    df['Date'] = name[name.rfind('_')+1:name.rfind('.')]\n",
    "\n",
    "df.head()"
   ]
  },
  {
   "cell_type": "code",
   "execution_count": null,
   "id": "pql9Q4RcdyQ2",
   "metadata": {
    "colab": {
     "base_uri": "https://localhost:8080/",
     "height": 520
    },
    "executionInfo": {
     "elapsed": 163,
     "status": "ok",
     "timestamp": 1665234416907,
     "user": {
      "displayName": "mauve mauve",
      "userId": "09731923278332862276"
     },
     "user_tz": 240
    },
    "id": "pql9Q4RcdyQ2",
    "outputId": "94351ecc-f73e-4b5d-c885-3dd81ac4f3e4"
   },
   "outputs": [],
   "source": [
    "permits_df = pd.concat(msa_dfs).dropna(axis = 1)\n",
    "permits_df.Name = permits_df.Name.apply(lambda x: x.strip())\n",
    "permits_df['Year'] = permits_df.Date.apply(lambda x: int(x[:4]))\n",
    "permits_df['Month'] = permits_df.Date.apply(lambda x: int(x[4:]))\n",
    "\n",
    "permits_df.head()"
   ]
  },
  {
   "cell_type": "code",
   "execution_count": null,
   "id": "FhnMqONBv8d7",
   "metadata": {
    "colab": {
     "base_uri": "https://localhost:8080/",
     "height": 352
    },
    "executionInfo": {
     "elapsed": 141,
     "status": "ok",
     "timestamp": 1665236852713,
     "user": {
      "displayName": "mauve mauve",
      "userId": "09731923278332862276"
     },
     "user_tz": 240
    },
    "id": "FhnMqONBv8d7",
    "outputId": "6d3efb0b-85cd-4aa5-fd0c-dc5da3926085"
   },
   "outputs": [],
   "source": [
    "ZHVI_dfs = [pd.read_csv(z) for z in ZHVI_files]\n",
    "ZHVI_dfs = [df[df['RegionType']=='msa'] for df in ZHVI_dfs]\n",
    "\n",
    "ZHVI_dfs[0].head()"
   ]
  },
  {
   "cell_type": "code",
   "execution_count": null,
   "id": "Q-1IVAsyrJFt",
   "metadata": {
    "colab": {
     "base_uri": "https://localhost:8080/",
     "height": 352
    },
    "executionInfo": {
     "elapsed": 139,
     "status": "ok",
     "timestamp": 1665234424573,
     "user": {
      "displayName": "mauve mauve",
      "userId": "09731923278332862276"
     },
     "user_tz": 240
    },
    "id": "Q-1IVAsyrJFt",
    "outputId": "26d4a48b-ac0f-40bf-ded9-26d2dd5f519d"
   },
   "outputs": [],
   "source": [
    "for df,f in zip(ZHVI_dfs, ZHVI_files):\n",
    "    df['filename'] = f[f.rfind('/')+1:-4]\n",
    "df.head()"
   ]
  },
  {
   "cell_type": "code",
   "execution_count": null,
   "id": "F2OTDn54r5vv",
   "metadata": {
    "executionInfo": {
     "elapsed": 128,
     "status": "ok",
     "timestamp": 1665234428001,
     "user": {
      "displayName": "mauve mauve",
      "userId": "09731923278332862276"
     },
     "user_tz": 240
    },
    "id": "F2OTDn54r5vv"
   },
   "outputs": [],
   "source": [
    "ZHVI_df = pd.concat(ZHVI_dfs)"
   ]
  },
  {
   "cell_type": "code",
   "execution_count": null,
   "id": "v_bBzcYfr_qC",
   "metadata": {
    "colab": {
     "base_uri": "https://localhost:8080/"
    },
    "executionInfo": {
     "elapsed": 145,
     "status": "ok",
     "timestamp": 1665235106607,
     "user": {
      "displayName": "mauve mauve",
      "userId": "09731923278332862276"
     },
     "user_tz": 240
    },
    "id": "v_bBzcYfr_qC",
    "outputId": "71698458-0e3e-4e20-a0aa-5f623786668d",
    "scrolled": true
   },
   "outputs": [],
   "source": [
    "print(ZHVI_df.columns)"
   ]
  },
  {
   "cell_type": "code",
   "execution_count": null,
   "id": "6ATD9innry4R",
   "metadata": {
    "colab": {
     "base_uri": "https://localhost:8080/",
     "height": 557
    },
    "executionInfo": {
     "elapsed": 299,
     "status": "ok",
     "timestamp": 1665234429815,
     "user": {
      "displayName": "mauve mauve",
      "userId": "09731923278332862276"
     },
     "user_tz": 240
    },
    "id": "6ATD9innry4R",
    "outputId": "9ad51475-342d-47e5-c059-2f0f2fe9b024",
    "scrolled": true
   },
   "outputs": [],
   "source": [
    "ZHVI_df.head()"
   ]
  },
  {
   "cell_type": "code",
   "execution_count": null,
   "id": "b0a2cd72",
   "metadata": {},
   "outputs": [],
   "source": [
    "ZHVI_df = pd.concat(ZHVI_dfs)\n",
    "\n",
    "date_columns = [column for column in ZHVI_df.columns if re.match(r'\\d{4}-\\d{2}-\\d{2}', column)]\n",
    "other_columns = [column for column in ZHVI_df.columns if not re.match(r'\\d{4}-\\d{2}-\\d{2}', column)]\n",
    "ZHVI_df = ZHVI_df.melt(id_vars=other_columns, value_vars=date_columns, var_name='Date', value_name='Price')\n",
    "\n",
    "# ZHVI_df.dropna(subset=['Price',], axis='columns', inplace=True)\n",
    "ZHVI_df['Year'] = ZHVI_df.Date.apply(lambda x: int(x.split(\"-\")[0]))\n",
    "ZHVI_df['Month'] = ZHVI_df.Date.apply(lambda x: int(x.split(\"-\")[1]))\n",
    "\n",
    "ZHVI_df.head(10)"
   ]
  },
  {
   "cell_type": "code",
   "execution_count": null,
   "id": "bb03e07b",
   "metadata": {},
   "outputs": [],
   "source": [
    "zhvi_msa_set = set(ZHVI_df.RegionName.unique())\n",
    "permit_msa_set = set(permits_df.Name.unique())\n",
    "\n",
    "msa_intersection = zhvi_msa_set.intersection(permit_msa_set)\n",
    "unmatched_zillow_msas = zhvi_msa_set.difference(permit_msa_set)\n",
    "unmatched_permit_msas = permit_msa_set.difference(zhvi_msa_set)\n",
    "\n",
    "# Set of tuples of form (ZHVI msa, Census MSA)\n",
    "msa_matches = set()\n",
    "\n",
    "for matched_msa in msa_intersection:\n",
    "    msa_matches.add((matched_msa, matched_msa))\n",
    "    \n",
    "print((f\"Matched: {len(msa_matches)}, Unmatched Zillow: {len(unmatched_zillow_msas)}, \"\n",
    "       f\"Unmatched Census {len(unmatched_permit_msas)}\"))"
   ]
  },
  {
   "cell_type": "code",
   "execution_count": null,
   "id": "2c2cb2f7",
   "metadata": {},
   "outputs": [],
   "source": [
    "left_matches = set()\n",
    "for uzm in unmatched_zillow_msas:\n",
    "    city, state = uzm.split(\", \")\n",
    "    for permit_msa in unmatched_permit_msas:\n",
    "        if city in permit_msa and state in permit_msa:\n",
    "            left_matches.add((uzm, permit_msa))\n",
    "            break\n",
    "\n",
    "left_match_df = pd.DataFrame(left_matches, columns=['Zillow', 'MSA'])\n",
    "auto_match_df = pd.DataFrame(msa_matches, columns=['Zillow', 'MSA'])\n",
    "\n",
    "msa_match_df = pd.concat([left_match_df, auto_match_df]).sort_values(['MSA', 'Zillow'])\n",
    "msa_match_df.head()"
   ]
  },
  {
   "cell_type": "code",
   "execution_count": null,
   "id": "44809e32",
   "metadata": {},
   "outputs": [],
   "source": [
    "msa_match_df.to_csv('msa_match.csv', index=False)"
   ]
  },
  {
   "cell_type": "code",
   "execution_count": null,
   "id": "69f34ce6",
   "metadata": {},
   "outputs": [],
   "source": [
    "zillow_msa_matches = set(msa_match_df.Zillow.unique())\n",
    "permit_msa_matches = set(msa_match_df.MSA.unique())\n",
    "\n",
    "unmatched_zillow_msas = zhvi_msa_set.difference(zillow_msa_matches)\n",
    "unmatched_permit_msas = permit_msa_set.difference(permit_msa_matches)\n",
    "\n",
    "print((f\"Matched: {len(msa_match_df)}, Unmatched Zillow: {len(unmatched_zillow_msas)}, \"\n",
    "       f\"Unmatched Census {len(unmatched_permit_msas)}\"))"
   ]
  },
  {
   "cell_type": "code",
   "execution_count": null,
   "id": "be45ad92",
   "metadata": {},
   "outputs": [],
   "source": [
    "big_df = msa_match_df.merge(permits_df, how='left', left_on='MSA', right_on='Name')\n",
    "big_df = big_df.merge(\n",
    "    ZHVI_df, how='inner', left_on=['Zillow', 'Year', 'Month'], right_on=['RegionName', 'Year', 'Month']\n",
    ")\n",
    "\n",
    "drop_columns = ['Name', 'RegionID', 'RegionName', 'RegionType',  'SizeRank', 'Date_x', 'Date_y', 'StateName']\n",
    "big_df['Date'] = pd.to_datetime(big_df['Date_y'])\n",
    "\n",
    "big_df.drop(columns=drop_columns, inplace=True)\n",
    "big_df.head()"
   ]
  },
  {
   "cell_type": "code",
   "execution_count": null,
   "id": "a76900c5",
   "metadata": {},
   "outputs": [],
   "source": [
    "# big_df.shape\n",
    "big_df.dtypes"
   ]
  },
  {
   "cell_type": "code",
   "execution_count": null,
   "id": "27948254",
   "metadata": {},
   "outputs": [],
   "source": [
    "big_df.head()"
   ]
  },
  {
   "cell_type": "code",
   "execution_count": null,
   "id": "749373a8",
   "metadata": {},
   "outputs": [],
   "source": [
    "trend_df = pd.DataFrame()\n",
    "\n",
    "for index, seasonal_df in big_df.set_index('Date').sort_index().groupby(['filename', 'Zillow']):\n",
    "    try:\n",
    "        decompose_result = seasonal_decompose(seasonal_df.Price.dropna())\n",
    "        \n",
    "        seasonal_df = seasonal_df.join(decompose_result.seasonal)\n",
    "        seasonal_df = seasonal_df.join(decompose_result.trend)\n",
    "        seasonal_df = seasonal_df.join(decompose_result.resid)\n",
    "        \n",
    "        seasonal_df.rename(columns={'seasonal': 'Seasonal', 'trend': 'Trend', 'resid': 'Residual'}, inplace=True)\n",
    "    except ValueError:\n",
    "        seasonal_df['Seasonal'] = None\n",
    "        seasonal_df['Trend'] = None\n",
    "        seasonal_df['Residual'] = None\n",
    "    \n",
    "    seasonal_df['Price Change'] = seasonal_df.Price.diff(periods=1)\n",
    "    \n",
    "    try:\n",
    "        seasonal_df['Trend Change'] = seasonal_df.Trend.diff(periods=1)\n",
    "    except TypeError:\n",
    "        seasonal_df['Trend Change'] = None\n",
    "    \n",
    "    seasonal_df.reset_index(inplace=True)\n",
    "    trend_df = pd.concat([trend_df, seasonal_df])\n",
    "\n",
    "trend_df.head()"
   ]
  },
  {
   "cell_type": "code",
   "execution_count": null,
   "id": "20da0027",
   "metadata": {},
   "outputs": [],
   "source": [
    "seasonal_df[-10:]"
   ]
  },
  {
   "cell_type": "code",
   "execution_count": null,
   "id": "08587bf6",
   "metadata": {},
   "outputs": [],
   "source": [
    "trend_df[trend_df.MSA == 'Abilene, TX'].head(10)"
   ]
  },
  {
   "cell_type": "code",
   "execution_count": null,
   "id": "e4320b2d",
   "metadata": {},
   "outputs": [],
   "source": [
    "def get_pop(x):\n",
    "    if np.isnan(x['Population 1']) and np.isnan(x['Population 5']):\n",
    "        return None\n",
    "    \n",
    "    if np.isnan(x['Population 1']):\n",
    "        return x['Population 5']\n",
    "    if np.isnan(x['Population 5']):\n",
    "        return x['Population 1']\n",
    "    \n",
    "    return (x['Population 5'] + x['Population 5'])/2"
   ]
  },
  {
   "cell_type": "code",
   "execution_count": null,
   "id": "6608dfd9",
   "metadata": {},
   "outputs": [],
   "source": [
    "acs_1_df = pd.DataFrame()\n",
    "# Add ACS 1-year estimates\n",
    "for year in (2010, 2011, 2012, 2013, 2014, 2015, 2016, 2017, 2018, 2019, 2021):\n",
    "    acs_year_df = pd.read_csv(f\"acs-1-year/ACSDP1Y{year}.DP05-Data.csv\", skiprows=1)[1:].copy()\n",
    "    acs_year_df['MSA'] = acs_year_df['Geographic Area Name'].apply(\n",
    "        lambda x: x.replace(\" Micro Area\", \"\").replace(\" Metro Area\", \"\")\n",
    "    )\n",
    "    \n",
    "    acs_year_df.rename(columns={'Estimate!!SEX AND AGE!!Total population': 'Population 1'}, inplace=True)\n",
    "    acs_year_df = acs_year_df[[\"MSA\", \"Population 1\"]].copy()\n",
    "    acs_year_df['Year'] = year\n",
    "    \n",
    "    acs_1_df = pd.concat([acs_1_df, acs_year_df])\n",
    "\n",
    "# Add ACS 5-year estimates\n",
    "acs_5_df = pd.DataFrame()\n",
    "for year in (2010, 2011, 2012, 2013, 2014, 2015, 2016, 2017, 2018, 2019, 2020):\n",
    "    acs_year_df = pd.read_csv(f\"acs-5-year/ACSDP5Y{year}.DP05-Data.csv\", skiprows=1)[1:].copy()\n",
    "    acs_year_df['MSA'] = acs_year_df['Geographic Area Name'].apply(\n",
    "        lambda x: x.replace(\" Micro Area\", \"\").replace(\" Metro Area\", \"\")\n",
    "    )\n",
    "    \n",
    "    acs_year_df.rename(columns={'Estimate!!SEX AND AGE!!Total population': 'Population 5'}, inplace=True)\n",
    "    acs_year_df = acs_year_df[[\"MSA\", \"Population 5\"]].copy()\n",
    "    acs_year_df['Year'] = year\n",
    "    \n",
    "    acs_5_df = pd.concat([acs_5_df, acs_year_df])\n",
    "\n",
    "# Merge our datasets and reconcile our estimates\n",
    "acs_df = pd.merge(acs_1_df, acs_5_df, on=['MSA', 'Year'], how='outer')\n",
    "acs_df['Population Diff'] = 1 - acs_df['Population 5'] / acs_df['Population 1']\n",
    "acs_df['Population'] = acs_df.apply(get_pop, axis=1)\n",
    "\n",
    "\n",
    "# Add population growth as features\n",
    "def add_pop_growth(df, diff):\n",
    "    df['Year as Date'] = df.Year.apply(lambda year: dt.datetime(year=year, month=1, day=1))\n",
    "    df = df.set_index(['MSA', 'Year as Date']).sort_index()\n",
    "    \n",
    "    df[f'Pop Growth {diff} Year'] = df.groupby('MSA')['Population'].diff(diff)\n",
    "    df[f'Pop -{diff} Years'] = df.groupby('MSA')['Population'].shift(diff)\n",
    "    df[f'Pop Percent {diff} Year'] = df[f'Pop Growth {diff} Year'] / df[f'Pop -{diff} Years']\n",
    "    \n",
    "    df.reset_index(inplace=True)\n",
    "    return df\n",
    "\n",
    "\n",
    "acs_df = add_pop_growth(acs_df, 1)\n",
    "acs_df = add_pop_growth(acs_df, 5)\n",
    "acs_df = acs_df[acs_df.Year >= 2019].copy()\n",
    "\n",
    "acs_df.head()"
   ]
  },
  {
   "cell_type": "code",
   "execution_count": null,
   "id": "a60b0606",
   "metadata": {},
   "outputs": [],
   "source": [
    "acs_df[acs_df.MSA == 'Abilene, TX']"
   ]
  },
  {
   "cell_type": "code",
   "execution_count": null,
   "id": "49281688",
   "metadata": {},
   "outputs": [],
   "source": [
    "acs_df.to_csv(\"ACS.csv\", index=False)"
   ]
  },
  {
   "cell_type": "code",
   "execution_count": null,
   "id": "ee6311f7",
   "metadata": {},
   "outputs": [],
   "source": [
    "combined_df = pd.merge(trend_df, acs_df, on=['MSA', 'Year'], how='left')\n",
    "combined_df.to_csv(\"combined.csv\")\n",
    "\n",
    "combined_df.head()"
   ]
  },
  {
   "cell_type": "code",
   "execution_count": null,
   "id": "f9c29aa3",
   "metadata": {},
   "outputs": [],
   "source": [
    "combined_df.dropna(subset=['Population']).shape"
   ]
  },
  {
   "cell_type": "code",
   "execution_count": null,
   "id": "ee70c75c",
   "metadata": {},
   "outputs": [],
   "source": [
    "# 5 year: 2019, 2020\n",
    "# 1 year: 2019, 2021"
   ]
  }
 ],
 "metadata": {
  "colab": {
   "provenance": []
  },
  "kernelspec": {
   "display_name": "Python 3 (ipykernel)",
   "language": "python",
   "name": "python3"
  },
  "language_info": {
   "codemirror_mode": {
    "name": "ipython",
    "version": 3
   },
   "file_extension": ".py",
   "mimetype": "text/x-python",
   "name": "python",
   "nbconvert_exporter": "python",
   "pygments_lexer": "ipython3",
   "version": "3.10.0"
  }
 },
 "nbformat": 4,
 "nbformat_minor": 5
}
