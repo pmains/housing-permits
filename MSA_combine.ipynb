{
 "cells": [
  {
   "cell_type": "code",
   "execution_count": null,
   "id": "481aa628",
   "metadata": {
    "executionInfo": {
     "elapsed": 1278,
     "status": "ok",
     "timestamp": 1665234398656,
     "user": {
      "displayName": "mauve mauve",
      "userId": "09731923278332862276"
     },
     "user_tz": 240
    },
    "id": "481aa628"
   },
   "outputs": [],
   "source": [
    "import os\n",
    "import re\n",
    "\n",
    "import pandas as pd\n",
    "import numpy as np\n",
    "import altair as alt\n",
    "import datetime as dt"
   ]
  },
  {
   "cell_type": "code",
   "execution_count": null,
   "id": "9fb86g0rsTiF",
   "metadata": {
    "colab": {
     "base_uri": "https://localhost:8080/"
    },
    "executionInfo": {
     "elapsed": 499,
     "status": "ok",
     "timestamp": 1665234402197,
     "user": {
      "displayName": "mauve mauve",
      "userId": "09731923278332862276"
     },
     "user_tz": 240
    },
    "id": "9fb86g0rsTiF",
    "outputId": "52a7f749-e6df-499d-85e5-3f2b99fc200d"
   },
   "outputs": [],
   "source": [
    "msa_files = [os.path.join(\"msa\", file_path) for file_path in os.listdir('msa')]\n",
    "ZHVI_files = [os.path.join('zillow', file_path) for file_path in os.listdir( 'zillow')]"
   ]
  },
  {
   "cell_type": "code",
   "execution_count": null,
   "id": "fYihPZbhstqn",
   "metadata": {
    "colab": {
     "base_uri": "https://localhost:8080/"
    },
    "executionInfo": {
     "elapsed": 2529,
     "status": "ok",
     "timestamp": 1665234415184,
     "user": {
      "displayName": "mauve mauve",
      "userId": "09731923278332862276"
     },
     "user_tz": 240
    },
    "id": "fYihPZbhstqn",
    "outputId": "6c75fc92-1a3b-4588-f96b-649b47b02bed"
   },
   "outputs": [],
   "source": [
    "msa_dfs = [pd.read_excel(f, skiprows=7)[1:] for f in msa_files]\n",
    "print(msa_files)"
   ]
  },
  {
   "cell_type": "code",
   "execution_count": null,
   "id": "h7JeoiPItPKH",
   "metadata": {
    "colab": {
     "base_uri": "https://localhost:8080/",
     "height": 389
    },
    "executionInfo": {
     "elapsed": 164,
     "status": "ok",
     "timestamp": 1665234415339,
     "user": {
      "displayName": "mauve mauve",
      "userId": "09731923278332862276"
     },
     "user_tz": 240
    },
    "id": "h7JeoiPItPKH",
    "outputId": "ada3a9f9-9e50-4b2d-8516-b7adaf3b4f9d"
   },
   "outputs": [],
   "source": [
    "print(msa_dfs[0].columns)\n",
    "\n",
    "msa_cols = ['CSA', 'CBSA', 'Name', 'Total', '1 Unit', '2 Units', \n",
    "            '3 and 4 Units','5 Units or More', \n",
    "            'Num of Structures With 5 Units or More']\n",
    "msa_dfs = [df[msa_cols] for df in msa_dfs]\n",
    "\n",
    "msa_dfs[0].head()"
   ]
  },
  {
   "cell_type": "code",
   "execution_count": null,
   "id": "FNFMUMm6u89q",
   "metadata": {
    "colab": {
     "base_uri": "https://localhost:8080/"
    },
    "executionInfo": {
     "elapsed": 11,
     "status": "ok",
     "timestamp": 1665234415340,
     "user": {
      "displayName": "mauve mauve",
      "userId": "09731923278332862276"
     },
     "user_tz": 240
    },
    "id": "FNFMUMm6u89q",
    "outputId": "00de3563-2e3f-4cbe-8752-468bfdf44c93"
   },
   "outputs": [],
   "source": [
    "print(msa_dfs[0].columns)"
   ]
  },
  {
   "cell_type": "code",
   "execution_count": null,
   "id": "NV1o0Tt3dF6Q",
   "metadata": {
    "colab": {
     "base_uri": "https://localhost:8080/",
     "height": 285
    },
    "executionInfo": {
     "elapsed": 6,
     "status": "ok",
     "timestamp": 1665234415470,
     "user": {
      "displayName": "mauve mauve",
      "userId": "09731923278332862276"
     },
     "user_tz": 240
    },
    "id": "NV1o0Tt3dF6Q",
    "outputId": "a6d98106-05eb-4c3f-9574-7fb1906cf1f3"
   },
   "outputs": [],
   "source": [
    "for df, name in zip(msa_dfs, msa_files):\n",
    "    df['Date'] = name[name.rfind('_')+1:name.rfind('.')]\n",
    "\n",
    "df.head()"
   ]
  },
  {
   "cell_type": "code",
   "execution_count": null,
   "id": "pql9Q4RcdyQ2",
   "metadata": {
    "colab": {
     "base_uri": "https://localhost:8080/",
     "height": 520
    },
    "executionInfo": {
     "elapsed": 163,
     "status": "ok",
     "timestamp": 1665234416907,
     "user": {
      "displayName": "mauve mauve",
      "userId": "09731923278332862276"
     },
     "user_tz": 240
    },
    "id": "pql9Q4RcdyQ2",
    "outputId": "94351ecc-f73e-4b5d-c885-3dd81ac4f3e4"
   },
   "outputs": [],
   "source": [
    "permits_df = pd.concat(msa_dfs).dropna(axis = 1)\n",
    "permits_df.Name = permits_df.Name.apply(lambda x: x.strip())\n",
    "\n",
    "permits_df"
   ]
  },
  {
   "cell_type": "code",
   "execution_count": null,
   "id": "FhnMqONBv8d7",
   "metadata": {
    "colab": {
     "base_uri": "https://localhost:8080/",
     "height": 352
    },
    "executionInfo": {
     "elapsed": 141,
     "status": "ok",
     "timestamp": 1665236852713,
     "user": {
      "displayName": "mauve mauve",
      "userId": "09731923278332862276"
     },
     "user_tz": 240
    },
    "id": "FhnMqONBv8d7",
    "outputId": "6d3efb0b-85cd-4aa5-fd0c-dc5da3926085"
   },
   "outputs": [],
   "source": [
    "ZHVI_dfs = [pd.read_csv(z) for z in ZHVI_files]\n",
    "\n",
    "ZHVI_dfs = [df[df['RegionType']=='msa'] for df in ZHVI_dfs]\n",
    "ZHVI_dfs[0].head()"
   ]
  },
  {
   "cell_type": "code",
   "execution_count": null,
   "id": "Q-1IVAsyrJFt",
   "metadata": {
    "colab": {
     "base_uri": "https://localhost:8080/",
     "height": 352
    },
    "executionInfo": {
     "elapsed": 139,
     "status": "ok",
     "timestamp": 1665234424573,
     "user": {
      "displayName": "mauve mauve",
      "userId": "09731923278332862276"
     },
     "user_tz": 240
    },
    "id": "Q-1IVAsyrJFt",
    "outputId": "26d4a48b-ac0f-40bf-ded9-26d2dd5f519d"
   },
   "outputs": [],
   "source": [
    "for df,f in zip(ZHVI_dfs, ZHVI_files):\n",
    "    df['filename'] = f[f.rfind('/')+1:-4]\n",
    "df.head()"
   ]
  },
  {
   "cell_type": "code",
   "execution_count": null,
   "id": "F2OTDn54r5vv",
   "metadata": {
    "executionInfo": {
     "elapsed": 128,
     "status": "ok",
     "timestamp": 1665234428001,
     "user": {
      "displayName": "mauve mauve",
      "userId": "09731923278332862276"
     },
     "user_tz": 240
    },
    "id": "F2OTDn54r5vv"
   },
   "outputs": [],
   "source": [
    "ZHVI_df = pd.concat(ZHVI_dfs)"
   ]
  },
  {
   "cell_type": "code",
   "execution_count": null,
   "id": "v_bBzcYfr_qC",
   "metadata": {
    "colab": {
     "base_uri": "https://localhost:8080/"
    },
    "executionInfo": {
     "elapsed": 145,
     "status": "ok",
     "timestamp": 1665235106607,
     "user": {
      "displayName": "mauve mauve",
      "userId": "09731923278332862276"
     },
     "user_tz": 240
    },
    "id": "v_bBzcYfr_qC",
    "outputId": "71698458-0e3e-4e20-a0aa-5f623786668d",
    "scrolled": true
   },
   "outputs": [],
   "source": [
    "print(ZHVI_df.columns)"
   ]
  },
  {
   "cell_type": "code",
   "execution_count": null,
   "id": "6ATD9innry4R",
   "metadata": {
    "colab": {
     "base_uri": "https://localhost:8080/",
     "height": 557
    },
    "executionInfo": {
     "elapsed": 299,
     "status": "ok",
     "timestamp": 1665234429815,
     "user": {
      "displayName": "mauve mauve",
      "userId": "09731923278332862276"
     },
     "user_tz": 240
    },
    "id": "6ATD9innry4R",
    "outputId": "9ad51475-342d-47e5-c059-2f0f2fe9b024",
    "scrolled": true
   },
   "outputs": [],
   "source": [
    "ZHVI_df"
   ]
  },
  {
   "cell_type": "code",
   "execution_count": null,
   "id": "B5vdoDHGfqrt",
   "metadata": {
    "executionInfo": {
     "elapsed": 128,
     "status": "ok",
     "timestamp": 1665234458178,
     "user": {
      "displayName": "mauve mauve",
      "userId": "09731923278332862276"
     },
     "user_tz": 240
    },
    "id": "B5vdoDHGfqrt"
   },
   "outputs": [],
   "source": [
    "# for df in ZHVI_dfs:\n",
    "#     columns = df.columns.tolist()\n",
    "#     new_columns = []\n",
    "    \n",
    "#     for column in columns:\n",
    "#         if column.startswith('2'):\n",
    "#             new_column = str(column)\n",
    "#             # Joan: can you please explain what this line does?\n",
    "#             new_columns.append(\n",
    "#                 # What does this expression mean?\n",
    "#                 new_column[:new_column.find('-')] +\n",
    "#                 # And this one?\n",
    "#                 new_column[new_column.find('-') + 1:new_column.rfind('-')]\n",
    "#             )\n",
    "#         else: new_columns.append(column)\n",
    "#     df.columns = new_columns"
   ]
  },
  {
   "cell_type": "code",
   "execution_count": null,
   "id": "IRDPjxB6nIrV",
   "metadata": {
    "id": "IRDPjxB6nIrV"
   },
   "outputs": [],
   "source": [
    "dumb_df = ZHVI_df.copy()\n",
    "dumb_df.head()"
   ]
  },
  {
   "cell_type": "code",
   "execution_count": null,
   "id": "b0a2cd72",
   "metadata": {},
   "outputs": [],
   "source": [
    "ZHVI_df = pd.concat(ZHVI_dfs)\n",
    "\n",
    "date_columns = [column for column in ZHVI_df.columns if re.match(r'\\d{4}-\\d{2}-\\d{2}', column)]\n",
    "other_columns = [column for column in ZHVI_df.columns if not re.match(r'\\d{4}-\\d{2}-\\d{2}', column)]\n",
    "ZHVI_df = ZHVI_df.melt(id_vars=other_columns, value_vars=date_columns, var_name='Date', value_name='Price')\n",
    "\n",
    "# ZHVI_df.dropna(subset=['Price',], axis='columns', inplace=True)\n",
    "ZHVI_df['Year'] = ZHVI_df.Date.apply(lambda x: int(x.split(\"-\")[0]))\n",
    "ZHVI_df['Month'] = ZHVI_df.Date.apply(lambda x: int(x.split(\"-\")[1]))\n",
    "\n",
    "ZHVI_df.head(10)"
   ]
  },
  {
   "cell_type": "code",
   "execution_count": null,
   "id": "ea7d39e9",
   "metadata": {},
   "outputs": [],
   "source": [
    "# permits_df['Date'] = pd.to_datetime(permits_df['Date'])\n",
    "permits_df.head()"
   ]
  },
  {
   "cell_type": "code",
   "execution_count": null,
   "id": "eRPLCc6yw_mk",
   "metadata": {
    "colab": {
     "base_uri": "https://localhost:8080/"
    },
    "executionInfo": {
     "elapsed": 128,
     "status": "ok",
     "timestamp": 1665231772006,
     "user": {
      "displayName": "mauve mauve",
      "userId": "09731923278332862276"
     },
     "user_tz": 240
    },
    "id": "eRPLCc6yw_mk",
    "outputId": "ad23984c-b76c-4666-9552-223d1e506f61"
   },
   "outputs": [],
   "source": [
    "ZHVI_msas = ZHVI_dfs[0]['RegionName'].unique().tolist()\n",
    "msa_msas = msa_dfs[0]['Name'].str.strip().unique().tolist()\n",
    "\n",
    "\n",
    "combo_list = [city for city in ZHVI_msas if city in msa_msas]\n",
    "ZHVI_unique = [city for city in ZHVI_msas if city not in msa_msas]\n",
    "msa_unique = [city for city in msa_msas if city not in ZHVI_msas]\n"
   ]
  },
  {
   "cell_type": "code",
   "execution_count": null,
   "id": "eaZ9FxvX0w-r",
   "metadata": {
    "executionInfo": {
     "elapsed": 106,
     "status": "ok",
     "timestamp": 1665231777587,
     "user": {
      "displayName": "mauve mauve",
      "userId": "09731923278332862276"
     },
     "user_tz": 240
    },
    "id": "eaZ9FxvX0w-r"
   },
   "outputs": [],
   "source": [
    "for item in msa_unique:\n",
    "    state = item[-2:]\n",
    "    for city in ZHVI_unique:\n",
    "        if city[-2:] == state:\n",
    "            continue\n",
    "      # print(item)\n",
    "      # print(city)\n",
    "      # print()\n"
   ]
  },
  {
   "cell_type": "code",
   "execution_count": null,
   "id": "1vIin7bm2b4K",
   "metadata": {
    "executionInfo": {
     "elapsed": 144,
     "status": "ok",
     "timestamp": 1665231781776,
     "user": {
      "displayName": "mauve mauve",
      "userId": "09731923278332862276"
     },
     "user_tz": 240
    },
    "id": "1vIin7bm2b4K"
   },
   "outputs": [],
   "source": [
    "ZHVI_state_dictionary = {}\n",
    "for city in ZHVI_unique:\n",
    "    if city[-2:] not in ZHVI_state_dictionary.keys():\n",
    "        ZHVI_state_dictionary[city[-2:]] = [city]\n",
    "    else:\n",
    "        ZHVI_state_dictionary[city[-2:]].append(city)"
   ]
  },
  {
   "cell_type": "code",
   "execution_count": null,
   "id": "kGFo2qmsn4re",
   "metadata": {
    "colab": {
     "base_uri": "https://localhost:8080/"
    },
    "executionInfo": {
     "elapsed": 131,
     "status": "ok",
     "timestamp": 1665233044696,
     "user": {
      "displayName": "mauve mauve",
      "userId": "09731923278332862276"
     },
     "user_tz": 240
    },
    "id": "kGFo2qmsn4re",
    "outputId": "c921b6b6-2860-40d6-e5d3-e64812437f4c"
   },
   "outputs": [],
   "source": [
    "print(ZHVI_state_dictionary['NJ'])"
   ]
  },
  {
   "cell_type": "code",
   "execution_count": null,
   "id": "cwGYPJygtCMN",
   "metadata": {
    "executionInfo": {
     "elapsed": 132,
     "status": "ok",
     "timestamp": 1665231785516,
     "user": {
      "displayName": "mauve mauve",
      "userId": "09731923278332862276"
     },
     "user_tz": 240
    },
    "id": "cwGYPJygtCMN"
   },
   "outputs": [],
   "source": [
    "msa_state_dictionary = {}\n",
    "for city in msa_unique:\n",
    "    if city[-2:] not in msa_state_dictionary.keys():\n",
    "        msa_state_dictionary[city[-2:]] = [city]\n",
    "    else:\n",
    "        msa_state_dictionary[city[-2:]].append(city)"
   ]
  },
  {
   "cell_type": "code",
   "execution_count": null,
   "id": "D_1KsWEr581c",
   "metadata": {
    "executionInfo": {
     "elapsed": 149,
     "status": "ok",
     "timestamp": 1665231792003,
     "user": {
      "displayName": "mauve mauve",
      "userId": "09731923278332862276"
     },
     "user_tz": 240
    },
    "id": "D_1KsWEr581c"
   },
   "outputs": [],
   "source": [
    "multi_state_msa = [city for city in msa_msas if '-' in city]"
   ]
  },
  {
   "cell_type": "code",
   "execution_count": null,
   "id": "Z937I1hZ6o_E",
   "metadata": {
    "executionInfo": {
     "elapsed": 171,
     "status": "ok",
     "timestamp": 1665232169147,
     "user": {
      "displayName": "mauve mauve",
      "userId": "09731923278332862276"
     },
     "user_tz": 240
    },
    "id": "Z937I1hZ6o_E"
   },
   "outputs": [],
   "source": [
    "def split_cities(l):\n",
    "    individual_cities = []\n",
    "    multis = []\n",
    "    for cities in l:\n",
    "        c,s = cities.split(',')\n",
    "        cs = c.split('-')\n",
    "        ss = s.split('-')\n",
    "\n",
    "    for c in cs:\n",
    "        for s in ss:\n",
    "            city = c + ', ' + s.strip()\n",
    "            individual_cities.append(city)\n",
    "            multis.append(cities)\n",
    "    return individual_cities, multis"
   ]
  },
  {
   "cell_type": "code",
   "execution_count": null,
   "id": "lFaPwGrm7t-W",
   "metadata": {
    "executionInfo": {
     "elapsed": 123,
     "status": "ok",
     "timestamp": 1665232173095,
     "user": {
      "displayName": "mauve mauve",
      "userId": "09731923278332862276"
     },
     "user_tz": 240
    },
    "id": "lFaPwGrm7t-W"
   },
   "outputs": [],
   "source": [
    "ind_cities, multis = split_cities(multi_state_msa)"
   ]
  },
  {
   "cell_type": "code",
   "execution_count": null,
   "id": "WPvBnFr98Zfm",
   "metadata": {
    "executionInfo": {
     "elapsed": 156,
     "status": "ok",
     "timestamp": 1665233606435,
     "user": {
      "displayName": "mauve mauve",
      "userId": "09731923278332862276"
     },
     "user_tz": 240
    },
    "id": "WPvBnFr98Zfm"
   },
   "outputs": [],
   "source": [
    "cities_dict = {}\n",
    "combo_cities = []\n",
    "matched_cities = []\n",
    "\n",
    "for city, combo in zip(ind_cities,multis):\n",
    "    try:\n",
    "        if city in ZHVI_state_dictionary[city[-2:]]:\n",
    "            matched_cities.append(city)\n",
    "            combo_cities.append(combo)\n",
    "            cities_dict[combo] = city\n",
    "    except: continue"
   ]
  },
  {
   "cell_type": "code",
   "execution_count": null,
   "id": "T6t3UuvhpItK",
   "metadata": {
    "colab": {
     "base_uri": "https://localhost:8080/",
     "height": 285
    },
    "executionInfo": {
     "elapsed": 133,
     "status": "ok",
     "timestamp": 1665233721262,
     "user": {
      "displayName": "mauve mauve",
      "userId": "09731923278332862276"
     },
     "user_tz": 240
    },
    "id": "T6t3UuvhpItK",
    "outputId": "6ce99ab2-eb6f-43b5-c1ea-af233a2c8372"
   },
   "outputs": [],
   "source": [
    "permits_df.head()"
   ]
  },
  {
   "cell_type": "code",
   "execution_count": null,
   "id": "0WQfPr94DKKW",
   "metadata": {
    "executionInfo": {
     "elapsed": 117,
     "status": "ok",
     "timestamp": 1665232653344,
     "user": {
      "displayName": "mauve mauve",
      "userId": "09731923278332862276"
     },
     "user_tz": 240
    },
    "id": "0WQfPr94DKKW"
   },
   "outputs": [],
   "source": [
    "city_df = pd.DataFrame()\n",
    "city_df['multi'] = combo_cities\n",
    "city_df['corresponding'] = matched_cities\n",
    "\n",
    "city_df.to_csv('citi_matches.csv', index = False)"
   ]
  },
  {
   "cell_type": "code",
   "execution_count": null,
   "id": "bb03e07b",
   "metadata": {},
   "outputs": [],
   "source": [
    "zhvi_msa_set = set(ZHVI_df.RegionName.unique())\n",
    "permit_msa_set = set(permits_df.Name.unique())\n",
    "\n",
    "msa_intersection = zhvi_msa_set.intersection(permit_msa_set)\n",
    "unmatched_zhvi_msas = zhvi_msa_set.difference(permit_msa_set)\n",
    "unmatched_permit_msas = permit_msa_set.difference(zhvi_msa_set)\n",
    "\n",
    "# Set of tuples of form (ZHVI msa, Census MSA)\n",
    "msa_matches = set()\n",
    "\n",
    "for matched_msa in msa_intersection:\n",
    "    msa_matches.add((matched_msa, matched_msa))\n",
    "    \n",
    "print((f\"Matched: {len(msa_matches)}, Unmatched Zillow: {len(unmatched_zhvi_msas)}, \"\n",
    "       f\"Unmatched Census {len(unmatched_permit_msas)}\"))"
   ]
  },
  {
   "cell_type": "code",
   "execution_count": null,
   "id": "2c2cb2f7",
   "metadata": {},
   "outputs": [],
   "source": [
    "for uzm in unmatched_zhvi_msas:\n",
    "    city, state = uzm.split(\", \")\n",
    "    "
   ]
  },
  {
   "cell_type": "code",
   "execution_count": null,
   "id": "75043fda",
   "metadata": {},
   "outputs": [],
   "source": []
  }
 ],
 "metadata": {
  "colab": {
   "provenance": []
  },
  "kernelspec": {
   "display_name": "Python 3 (ipykernel)",
   "language": "python",
   "name": "python3"
  },
  "language_info": {
   "codemirror_mode": {
    "name": "ipython",
    "version": 3
   },
   "file_extension": ".py",
   "mimetype": "text/x-python",
   "name": "python",
   "nbconvert_exporter": "python",
   "pygments_lexer": "ipython3",
   "version": "3.10.0"
  }
 },
 "nbformat": 4,
 "nbformat_minor": 5
}
