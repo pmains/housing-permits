{
 "cells": [
  {
   "cell_type": "code",
   "execution_count": 1,
   "metadata": {
    "collapsed": true
   },
   "outputs": [],
   "source": [
    "import pandas as pd\n",
    "import sklearn.feature_selection\n",
    "import sklearn.metrics\n",
    "import sklearn.model_selection\n",
    "import sklearn.linear_model\n",
    "import sklearn.covariance\n",
    "import sklearn.cross_decomposition\n",
    "import sklearn.feature_extraction\n",
    "import sklearn.svm\n",
    "import sklearn.compose\n",
    "\n",
    "import statsmodels.api as sm\n",
    "# from statsmodels.sandbox.regression.gmm import IV2SLS\n",
    "from linearmodels.iv import IV2SLS"
   ]
  },
  {
   "cell_type": "code",
   "execution_count": 2,
   "outputs": [],
   "source": [
    "combo_df = pd.read_csv('combined.csv')\n"
   ],
   "metadata": {
    "collapsed": false
   }
  },
  {
   "cell_type": "code",
   "execution_count": null,
   "outputs": [],
   "source": [
    "# print(combo_df.dtypes)"
   ],
   "metadata": {
    "collapsed": false
   }
  },
  {
   "cell_type": "code",
   "execution_count": 3,
   "outputs": [
    {
     "data": {
      "text/plain": "        Unnamed: 0        Date       Zillow          MSA    CSA     CBSA  \\\n0                0  2019-11-30  Abilene, TX  Abilene, TX  999.0  10180.0   \n1                1  2019-12-31  Abilene, TX  Abilene, TX  999.0  10180.0   \n2                2  2020-01-31  Abilene, TX  Abilene, TX  999.0  10180.0   \n3                3  2020-02-29  Abilene, TX  Abilene, TX  999.0  10180.0   \n4                4  2020-03-31  Abilene, TX  Abilene, TX  999.0  10180.0   \n...            ...         ...          ...          ...    ...      ...   \n121959      121959  2022-03-31     Yuma, AZ     Yuma, AZ  999.0  49740.0   \n121960      121960  2022-04-30     Yuma, AZ     Yuma, AZ  999.0  49740.0   \n121961      121961  2022-05-31     Yuma, AZ     Yuma, AZ  999.0  49740.0   \n121962      121962  2022-06-30     Yuma, AZ     Yuma, AZ  999.0  49740.0   \n121963      121963  2022-07-31     Yuma, AZ     Yuma, AZ  999.0  49740.0   \n\n        Total  1 Unit  2 Units  3 and 4 Units  ...  Population 1  \\\n0        23.0    21.0      2.0            0.0  ...      171795.0   \n1        37.0    31.0      6.0            0.0  ...      171795.0   \n2        29.0    29.0      0.0            0.0  ...           NaN   \n3        30.0    30.0      0.0            0.0  ...           NaN   \n4        29.0    27.0      2.0            0.0  ...           NaN   \n...       ...     ...      ...            ...  ...           ...   \n121959   89.0    83.0      6.0            0.0  ...           NaN   \n121960   66.0    66.0      0.0            0.0  ...           NaN   \n121961   88.0    84.0      4.0            0.0  ...           NaN   \n121962   65.0    65.0      0.0            0.0  ...           NaN   \n121963  171.0    81.0      0.0            0.0  ...           NaN   \n\n        Population 5  Population Diff  Population Pop Growth 1 Year  \\\n0           170669.0         0.006554    170669.0             660.0   \n1           170669.0         0.006554    170669.0             660.0   \n2           171354.0              NaN    171354.0             685.0   \n3           171354.0              NaN    171354.0             685.0   \n4           171354.0              NaN    171354.0             685.0   \n...              ...              ...         ...               ...   \n121959           NaN              NaN         NaN               NaN   \n121960           NaN              NaN         NaN               NaN   \n121961           NaN              NaN         NaN               NaN   \n121962           NaN              NaN         NaN               NaN   \n121963           NaN              NaN         NaN               NaN   \n\n        Pop -1 Years  Pop Percent 1 Year  Pop Growth 5 Year  Pop -5 Years  \\\n0           170009.0            0.003882             3498.0      167171.0   \n1           170009.0            0.003882             3498.0      167171.0   \n2           170669.0            0.004014             3409.0      167945.0   \n3           170669.0            0.004014             3409.0      167945.0   \n4           170669.0            0.004014             3409.0      167945.0   \n...              ...                 ...                ...           ...   \n121959           NaN                 NaN                NaN           NaN   \n121960           NaN                 NaN                NaN           NaN   \n121961           NaN                 NaN                NaN           NaN   \n121962           NaN                 NaN                NaN           NaN   \n121963           NaN                 NaN                NaN           NaN   \n\n        Pop Percent 5 Year  \n0                 0.020925  \n1                 0.020925  \n2                 0.020298  \n3                 0.020298  \n4                 0.020298  \n...                    ...  \n121959                 NaN  \n121960                 NaN  \n121961                 NaN  \n121962                 NaN  \n121963                 NaN  \n\n[120981 rows x 32 columns]",
      "text/html": "<div>\n<style scoped>\n    .dataframe tbody tr th:only-of-type {\n        vertical-align: middle;\n    }\n\n    .dataframe tbody tr th {\n        vertical-align: top;\n    }\n\n    .dataframe thead th {\n        text-align: right;\n    }\n</style>\n<table border=\"1\" class=\"dataframe\">\n  <thead>\n    <tr style=\"text-align: right;\">\n      <th></th>\n      <th>Unnamed: 0</th>\n      <th>Date</th>\n      <th>Zillow</th>\n      <th>MSA</th>\n      <th>CSA</th>\n      <th>CBSA</th>\n      <th>Total</th>\n      <th>1 Unit</th>\n      <th>2 Units</th>\n      <th>3 and 4 Units</th>\n      <th>...</th>\n      <th>Population 1</th>\n      <th>Population 5</th>\n      <th>Population Diff</th>\n      <th>Population</th>\n      <th>Pop Growth 1 Year</th>\n      <th>Pop -1 Years</th>\n      <th>Pop Percent 1 Year</th>\n      <th>Pop Growth 5 Year</th>\n      <th>Pop -5 Years</th>\n      <th>Pop Percent 5 Year</th>\n    </tr>\n  </thead>\n  <tbody>\n    <tr>\n      <th>0</th>\n      <td>0</td>\n      <td>2019-11-30</td>\n      <td>Abilene, TX</td>\n      <td>Abilene, TX</td>\n      <td>999.0</td>\n      <td>10180.0</td>\n      <td>23.0</td>\n      <td>21.0</td>\n      <td>2.0</td>\n      <td>0.0</td>\n      <td>...</td>\n      <td>171795.0</td>\n      <td>170669.0</td>\n      <td>0.006554</td>\n      <td>170669.0</td>\n      <td>660.0</td>\n      <td>170009.0</td>\n      <td>0.003882</td>\n      <td>3498.0</td>\n      <td>167171.0</td>\n      <td>0.020925</td>\n    </tr>\n    <tr>\n      <th>1</th>\n      <td>1</td>\n      <td>2019-12-31</td>\n      <td>Abilene, TX</td>\n      <td>Abilene, TX</td>\n      <td>999.0</td>\n      <td>10180.0</td>\n      <td>37.0</td>\n      <td>31.0</td>\n      <td>6.0</td>\n      <td>0.0</td>\n      <td>...</td>\n      <td>171795.0</td>\n      <td>170669.0</td>\n      <td>0.006554</td>\n      <td>170669.0</td>\n      <td>660.0</td>\n      <td>170009.0</td>\n      <td>0.003882</td>\n      <td>3498.0</td>\n      <td>167171.0</td>\n      <td>0.020925</td>\n    </tr>\n    <tr>\n      <th>2</th>\n      <td>2</td>\n      <td>2020-01-31</td>\n      <td>Abilene, TX</td>\n      <td>Abilene, TX</td>\n      <td>999.0</td>\n      <td>10180.0</td>\n      <td>29.0</td>\n      <td>29.0</td>\n      <td>0.0</td>\n      <td>0.0</td>\n      <td>...</td>\n      <td>NaN</td>\n      <td>171354.0</td>\n      <td>NaN</td>\n      <td>171354.0</td>\n      <td>685.0</td>\n      <td>170669.0</td>\n      <td>0.004014</td>\n      <td>3409.0</td>\n      <td>167945.0</td>\n      <td>0.020298</td>\n    </tr>\n    <tr>\n      <th>3</th>\n      <td>3</td>\n      <td>2020-02-29</td>\n      <td>Abilene, TX</td>\n      <td>Abilene, TX</td>\n      <td>999.0</td>\n      <td>10180.0</td>\n      <td>30.0</td>\n      <td>30.0</td>\n      <td>0.0</td>\n      <td>0.0</td>\n      <td>...</td>\n      <td>NaN</td>\n      <td>171354.0</td>\n      <td>NaN</td>\n      <td>171354.0</td>\n      <td>685.0</td>\n      <td>170669.0</td>\n      <td>0.004014</td>\n      <td>3409.0</td>\n      <td>167945.0</td>\n      <td>0.020298</td>\n    </tr>\n    <tr>\n      <th>4</th>\n      <td>4</td>\n      <td>2020-03-31</td>\n      <td>Abilene, TX</td>\n      <td>Abilene, TX</td>\n      <td>999.0</td>\n      <td>10180.0</td>\n      <td>29.0</td>\n      <td>27.0</td>\n      <td>2.0</td>\n      <td>0.0</td>\n      <td>...</td>\n      <td>NaN</td>\n      <td>171354.0</td>\n      <td>NaN</td>\n      <td>171354.0</td>\n      <td>685.0</td>\n      <td>170669.0</td>\n      <td>0.004014</td>\n      <td>3409.0</td>\n      <td>167945.0</td>\n      <td>0.020298</td>\n    </tr>\n    <tr>\n      <th>...</th>\n      <td>...</td>\n      <td>...</td>\n      <td>...</td>\n      <td>...</td>\n      <td>...</td>\n      <td>...</td>\n      <td>...</td>\n      <td>...</td>\n      <td>...</td>\n      <td>...</td>\n      <td>...</td>\n      <td>...</td>\n      <td>...</td>\n      <td>...</td>\n      <td>...</td>\n      <td>...</td>\n      <td>...</td>\n      <td>...</td>\n      <td>...</td>\n      <td>...</td>\n      <td>...</td>\n    </tr>\n    <tr>\n      <th>121959</th>\n      <td>121959</td>\n      <td>2022-03-31</td>\n      <td>Yuma, AZ</td>\n      <td>Yuma, AZ</td>\n      <td>999.0</td>\n      <td>49740.0</td>\n      <td>89.0</td>\n      <td>83.0</td>\n      <td>6.0</td>\n      <td>0.0</td>\n      <td>...</td>\n      <td>NaN</td>\n      <td>NaN</td>\n      <td>NaN</td>\n      <td>NaN</td>\n      <td>NaN</td>\n      <td>NaN</td>\n      <td>NaN</td>\n      <td>NaN</td>\n      <td>NaN</td>\n      <td>NaN</td>\n    </tr>\n    <tr>\n      <th>121960</th>\n      <td>121960</td>\n      <td>2022-04-30</td>\n      <td>Yuma, AZ</td>\n      <td>Yuma, AZ</td>\n      <td>999.0</td>\n      <td>49740.0</td>\n      <td>66.0</td>\n      <td>66.0</td>\n      <td>0.0</td>\n      <td>0.0</td>\n      <td>...</td>\n      <td>NaN</td>\n      <td>NaN</td>\n      <td>NaN</td>\n      <td>NaN</td>\n      <td>NaN</td>\n      <td>NaN</td>\n      <td>NaN</td>\n      <td>NaN</td>\n      <td>NaN</td>\n      <td>NaN</td>\n    </tr>\n    <tr>\n      <th>121961</th>\n      <td>121961</td>\n      <td>2022-05-31</td>\n      <td>Yuma, AZ</td>\n      <td>Yuma, AZ</td>\n      <td>999.0</td>\n      <td>49740.0</td>\n      <td>88.0</td>\n      <td>84.0</td>\n      <td>4.0</td>\n      <td>0.0</td>\n      <td>...</td>\n      <td>NaN</td>\n      <td>NaN</td>\n      <td>NaN</td>\n      <td>NaN</td>\n      <td>NaN</td>\n      <td>NaN</td>\n      <td>NaN</td>\n      <td>NaN</td>\n      <td>NaN</td>\n      <td>NaN</td>\n    </tr>\n    <tr>\n      <th>121962</th>\n      <td>121962</td>\n      <td>2022-06-30</td>\n      <td>Yuma, AZ</td>\n      <td>Yuma, AZ</td>\n      <td>999.0</td>\n      <td>49740.0</td>\n      <td>65.0</td>\n      <td>65.0</td>\n      <td>0.0</td>\n      <td>0.0</td>\n      <td>...</td>\n      <td>NaN</td>\n      <td>NaN</td>\n      <td>NaN</td>\n      <td>NaN</td>\n      <td>NaN</td>\n      <td>NaN</td>\n      <td>NaN</td>\n      <td>NaN</td>\n      <td>NaN</td>\n      <td>NaN</td>\n    </tr>\n    <tr>\n      <th>121963</th>\n      <td>121963</td>\n      <td>2022-07-31</td>\n      <td>Yuma, AZ</td>\n      <td>Yuma, AZ</td>\n      <td>999.0</td>\n      <td>49740.0</td>\n      <td>171.0</td>\n      <td>81.0</td>\n      <td>0.0</td>\n      <td>0.0</td>\n      <td>...</td>\n      <td>NaN</td>\n      <td>NaN</td>\n      <td>NaN</td>\n      <td>NaN</td>\n      <td>NaN</td>\n      <td>NaN</td>\n      <td>NaN</td>\n      <td>NaN</td>\n      <td>NaN</td>\n      <td>NaN</td>\n    </tr>\n  </tbody>\n</table>\n<p>120981 rows × 32 columns</p>\n</div>"
     },
     "execution_count": 3,
     "metadata": {},
     "output_type": "execute_result"
    }
   ],
   "source": [
    "df = combo_df.__deepcopy__()\n",
    "\n",
    "# print(combo_df.isnull().sum().sum())\n",
    "# print(121964*32)\n",
    "df = df[df['Price'] >= 0]\n",
    "df"
   ],
   "metadata": {
    "collapsed": false
   }
  },
  {
   "cell_type": "code",
   "execution_count": 4,
   "outputs": [
    {
     "data": {
      "text/plain": "        Unnamed: 0        Date       Zillow          MSA    CSA     CBSA  \\\n0                0  2019-11-30  Abilene, TX  Abilene, TX  999.0  10180.0   \n1                1  2019-12-31  Abilene, TX  Abilene, TX  999.0  10180.0   \n2                2  2020-01-31  Abilene, TX  Abilene, TX  999.0  10180.0   \n3                3  2020-02-29  Abilene, TX  Abilene, TX  999.0  10180.0   \n4                4  2020-03-31  Abilene, TX  Abilene, TX  999.0  10180.0   \n...            ...         ...          ...          ...    ...      ...   \n121959      121959  2022-03-31     Yuma, AZ     Yuma, AZ  999.0  49740.0   \n121960      121960  2022-04-30     Yuma, AZ     Yuma, AZ  999.0  49740.0   \n121961      121961  2022-05-31     Yuma, AZ     Yuma, AZ  999.0  49740.0   \n121962      121962  2022-06-30     Yuma, AZ     Yuma, AZ  999.0  49740.0   \n121963      121963  2022-07-31     Yuma, AZ     Yuma, AZ  999.0  49740.0   \n\n        Total  1 Unit  2 Units  3 and 4 Units  5 Units or More  \\\n0        23.0    21.0      2.0            0.0              0.0   \n1        37.0    31.0      6.0            0.0              0.0   \n2        29.0    29.0      0.0            0.0              0.0   \n3        30.0    30.0      0.0            0.0              0.0   \n4        29.0    27.0      2.0            0.0              0.0   \n...       ...     ...      ...            ...              ...   \n121959   89.0    83.0      6.0            0.0              0.0   \n121960   66.0    66.0      0.0            0.0              0.0   \n121961   88.0    84.0      4.0            0.0              0.0   \n121962   65.0    65.0      0.0            0.0              0.0   \n121963  171.0    81.0      0.0            0.0             90.0   \n\n        Num of Structures With 5 Units or More  Year  Month  \\\n0                                          0.0  2019     11   \n1                                          0.0  2019     12   \n2                                          0.0  2020      1   \n3                                          0.0  2020      2   \n4                                          0.0  2020      3   \n...                                        ...   ...    ...   \n121959                                     0.0  2022      3   \n121960                                     0.0  2022      4   \n121961                                     0.0  2022      5   \n121962                                     0.0  2022      6   \n121963                                     6.0  2022      7   \n\n                                                 filename     Price  \n0       Metro_zhvi_bdrmcnt_1_uc_sfrcondo_tier_0.33_0.6...   81284.0  \n1       Metro_zhvi_bdrmcnt_1_uc_sfrcondo_tier_0.33_0.6...   81875.0  \n2       Metro_zhvi_bdrmcnt_1_uc_sfrcondo_tier_0.33_0.6...   82268.0  \n3       Metro_zhvi_bdrmcnt_1_uc_sfrcondo_tier_0.33_0.6...   82846.0  \n4       Metro_zhvi_bdrmcnt_1_uc_sfrcondo_tier_0.33_0.6...   84280.0  \n...                                                   ...       ...  \n121959   Metro_zhvi_uc_sfrcondo_tier_0.67_1.0_sm_sa_month  357302.0  \n121960   Metro_zhvi_uc_sfrcondo_tier_0.67_1.0_sm_sa_month  363285.0  \n121961   Metro_zhvi_uc_sfrcondo_tier_0.67_1.0_sm_sa_month  370578.0  \n121962   Metro_zhvi_uc_sfrcondo_tier_0.67_1.0_sm_sa_month  376555.0  \n121963   Metro_zhvi_uc_sfrcondo_tier_0.67_1.0_sm_sa_month  379967.0  \n\n[120981 rows x 16 columns]",
      "text/html": "<div>\n<style scoped>\n    .dataframe tbody tr th:only-of-type {\n        vertical-align: middle;\n    }\n\n    .dataframe tbody tr th {\n        vertical-align: top;\n    }\n\n    .dataframe thead th {\n        text-align: right;\n    }\n</style>\n<table border=\"1\" class=\"dataframe\">\n  <thead>\n    <tr style=\"text-align: right;\">\n      <th></th>\n      <th>Unnamed: 0</th>\n      <th>Date</th>\n      <th>Zillow</th>\n      <th>MSA</th>\n      <th>CSA</th>\n      <th>CBSA</th>\n      <th>Total</th>\n      <th>1 Unit</th>\n      <th>2 Units</th>\n      <th>3 and 4 Units</th>\n      <th>5 Units or More</th>\n      <th>Num of Structures With 5 Units or More</th>\n      <th>Year</th>\n      <th>Month</th>\n      <th>filename</th>\n      <th>Price</th>\n    </tr>\n  </thead>\n  <tbody>\n    <tr>\n      <th>0</th>\n      <td>0</td>\n      <td>2019-11-30</td>\n      <td>Abilene, TX</td>\n      <td>Abilene, TX</td>\n      <td>999.0</td>\n      <td>10180.0</td>\n      <td>23.0</td>\n      <td>21.0</td>\n      <td>2.0</td>\n      <td>0.0</td>\n      <td>0.0</td>\n      <td>0.0</td>\n      <td>2019</td>\n      <td>11</td>\n      <td>Metro_zhvi_bdrmcnt_1_uc_sfrcondo_tier_0.33_0.6...</td>\n      <td>81284.0</td>\n    </tr>\n    <tr>\n      <th>1</th>\n      <td>1</td>\n      <td>2019-12-31</td>\n      <td>Abilene, TX</td>\n      <td>Abilene, TX</td>\n      <td>999.0</td>\n      <td>10180.0</td>\n      <td>37.0</td>\n      <td>31.0</td>\n      <td>6.0</td>\n      <td>0.0</td>\n      <td>0.0</td>\n      <td>0.0</td>\n      <td>2019</td>\n      <td>12</td>\n      <td>Metro_zhvi_bdrmcnt_1_uc_sfrcondo_tier_0.33_0.6...</td>\n      <td>81875.0</td>\n    </tr>\n    <tr>\n      <th>2</th>\n      <td>2</td>\n      <td>2020-01-31</td>\n      <td>Abilene, TX</td>\n      <td>Abilene, TX</td>\n      <td>999.0</td>\n      <td>10180.0</td>\n      <td>29.0</td>\n      <td>29.0</td>\n      <td>0.0</td>\n      <td>0.0</td>\n      <td>0.0</td>\n      <td>0.0</td>\n      <td>2020</td>\n      <td>1</td>\n      <td>Metro_zhvi_bdrmcnt_1_uc_sfrcondo_tier_0.33_0.6...</td>\n      <td>82268.0</td>\n    </tr>\n    <tr>\n      <th>3</th>\n      <td>3</td>\n      <td>2020-02-29</td>\n      <td>Abilene, TX</td>\n      <td>Abilene, TX</td>\n      <td>999.0</td>\n      <td>10180.0</td>\n      <td>30.0</td>\n      <td>30.0</td>\n      <td>0.0</td>\n      <td>0.0</td>\n      <td>0.0</td>\n      <td>0.0</td>\n      <td>2020</td>\n      <td>2</td>\n      <td>Metro_zhvi_bdrmcnt_1_uc_sfrcondo_tier_0.33_0.6...</td>\n      <td>82846.0</td>\n    </tr>\n    <tr>\n      <th>4</th>\n      <td>4</td>\n      <td>2020-03-31</td>\n      <td>Abilene, TX</td>\n      <td>Abilene, TX</td>\n      <td>999.0</td>\n      <td>10180.0</td>\n      <td>29.0</td>\n      <td>27.0</td>\n      <td>2.0</td>\n      <td>0.0</td>\n      <td>0.0</td>\n      <td>0.0</td>\n      <td>2020</td>\n      <td>3</td>\n      <td>Metro_zhvi_bdrmcnt_1_uc_sfrcondo_tier_0.33_0.6...</td>\n      <td>84280.0</td>\n    </tr>\n    <tr>\n      <th>...</th>\n      <td>...</td>\n      <td>...</td>\n      <td>...</td>\n      <td>...</td>\n      <td>...</td>\n      <td>...</td>\n      <td>...</td>\n      <td>...</td>\n      <td>...</td>\n      <td>...</td>\n      <td>...</td>\n      <td>...</td>\n      <td>...</td>\n      <td>...</td>\n      <td>...</td>\n      <td>...</td>\n    </tr>\n    <tr>\n      <th>121959</th>\n      <td>121959</td>\n      <td>2022-03-31</td>\n      <td>Yuma, AZ</td>\n      <td>Yuma, AZ</td>\n      <td>999.0</td>\n      <td>49740.0</td>\n      <td>89.0</td>\n      <td>83.0</td>\n      <td>6.0</td>\n      <td>0.0</td>\n      <td>0.0</td>\n      <td>0.0</td>\n      <td>2022</td>\n      <td>3</td>\n      <td>Metro_zhvi_uc_sfrcondo_tier_0.67_1.0_sm_sa_month</td>\n      <td>357302.0</td>\n    </tr>\n    <tr>\n      <th>121960</th>\n      <td>121960</td>\n      <td>2022-04-30</td>\n      <td>Yuma, AZ</td>\n      <td>Yuma, AZ</td>\n      <td>999.0</td>\n      <td>49740.0</td>\n      <td>66.0</td>\n      <td>66.0</td>\n      <td>0.0</td>\n      <td>0.0</td>\n      <td>0.0</td>\n      <td>0.0</td>\n      <td>2022</td>\n      <td>4</td>\n      <td>Metro_zhvi_uc_sfrcondo_tier_0.67_1.0_sm_sa_month</td>\n      <td>363285.0</td>\n    </tr>\n    <tr>\n      <th>121961</th>\n      <td>121961</td>\n      <td>2022-05-31</td>\n      <td>Yuma, AZ</td>\n      <td>Yuma, AZ</td>\n      <td>999.0</td>\n      <td>49740.0</td>\n      <td>88.0</td>\n      <td>84.0</td>\n      <td>4.0</td>\n      <td>0.0</td>\n      <td>0.0</td>\n      <td>0.0</td>\n      <td>2022</td>\n      <td>5</td>\n      <td>Metro_zhvi_uc_sfrcondo_tier_0.67_1.0_sm_sa_month</td>\n      <td>370578.0</td>\n    </tr>\n    <tr>\n      <th>121962</th>\n      <td>121962</td>\n      <td>2022-06-30</td>\n      <td>Yuma, AZ</td>\n      <td>Yuma, AZ</td>\n      <td>999.0</td>\n      <td>49740.0</td>\n      <td>65.0</td>\n      <td>65.0</td>\n      <td>0.0</td>\n      <td>0.0</td>\n      <td>0.0</td>\n      <td>0.0</td>\n      <td>2022</td>\n      <td>6</td>\n      <td>Metro_zhvi_uc_sfrcondo_tier_0.67_1.0_sm_sa_month</td>\n      <td>376555.0</td>\n    </tr>\n    <tr>\n      <th>121963</th>\n      <td>121963</td>\n      <td>2022-07-31</td>\n      <td>Yuma, AZ</td>\n      <td>Yuma, AZ</td>\n      <td>999.0</td>\n      <td>49740.0</td>\n      <td>171.0</td>\n      <td>81.0</td>\n      <td>0.0</td>\n      <td>0.0</td>\n      <td>90.0</td>\n      <td>6.0</td>\n      <td>2022</td>\n      <td>7</td>\n      <td>Metro_zhvi_uc_sfrcondo_tier_0.67_1.0_sm_sa_month</td>\n      <td>379967.0</td>\n    </tr>\n  </tbody>\n</table>\n<p>120981 rows × 16 columns</p>\n</div>"
     },
     "execution_count": 4,
     "metadata": {},
     "output_type": "execute_result"
    }
   ],
   "source": [
    "df = df.dropna(axis = 'columns')\n",
    "df"
   ],
   "metadata": {
    "collapsed": false
   }
  },
  {
   "cell_type": "code",
   "execution_count": 5,
   "outputs": [
    {
     "name": "stderr",
     "output_type": "stream",
     "text": [
      "/var/folders/57/cc48k_bs6v9_xgql3_pmrykm0000gn/T/ipykernel_12309/3275139146.py:1: SettingWithCopyWarning: \n",
      "A value is trying to be set on a copy of a slice from a DataFrame.\n",
      "Try using .loc[row_indexer,col_indexer] = value instead\n",
      "\n",
      "See the caveats in the documentation: https://pandas.pydata.org/pandas-docs/stable/user_guide/indexing.html#returning-a-view-versus-a-copy\n",
      "  df['Date'] = pd.to_datetime(df['Date']).astype('int64')\n"
     ]
    },
    {
     "data": {
      "text/plain": "Unnamed: 0                                  int64\nDate                                        int64\nZillow                                     object\nMSA                                        object\nCSA                                       float64\nCBSA                                      float64\nTotal                                     float64\n1 Unit                                    float64\n2 Units                                   float64\n3 and 4 Units                             float64\n5 Units or More                           float64\nNum of Structures With 5 Units or More    float64\nYear                                        int64\nMonth                                       int64\nfilename                                   object\nPrice                                     float64\ndtype: object"
     },
     "execution_count": 5,
     "metadata": {},
     "output_type": "execute_result"
    }
   ],
   "source": [
    "df['Date'] = pd.to_datetime(df['Date']).astype('int64')\n",
    "df.dtypes"
   ],
   "metadata": {
    "collapsed": false
   }
  },
  {
   "cell_type": "code",
   "execution_count": 6,
   "outputs": [
    {
     "data": {
      "text/plain": "            Date  CSA  CBSA     Total    1 Unit   2 Units  3 and 4 Units  \\\n0       0.000000  1.0   0.0  0.001935  0.003768  0.005236            0.0   \n1       0.031828  1.0   0.0  0.003112  0.005563  0.015707            0.0   \n2       0.063655  1.0   0.0  0.002439  0.005204  0.000000            0.0   \n3       0.093429  1.0   0.0  0.002524  0.005383  0.000000            0.0   \n4       0.125257  1.0   0.0  0.002439  0.004845  0.005236            0.0   \n...          ...  ...   ...       ...       ...       ...            ...   \n120976  0.874743  1.0   1.0  0.007487  0.014893  0.015707            0.0   \n120977  0.905544  1.0   1.0  0.005552  0.011843  0.000000            0.0   \n120978  0.937372  1.0   1.0  0.007402  0.015073  0.010471            0.0   \n120979  0.968172  1.0   1.0  0.005468  0.011663  0.000000            0.0   \n120980  1.000000  1.0   1.0  0.014384  0.014534  0.000000            0.0   \n\n        5 Units or More  Num of Structures With 5 Units or More      Year  \\\n0              0.000000                                0.000000  0.000000   \n1              0.000000                                0.000000  0.000000   \n2              0.000000                                0.000000  0.333333   \n3              0.000000                                0.000000  0.333333   \n4              0.000000                                0.000000  0.333333   \n...                 ...                                     ...       ...   \n120976         0.000000                                0.000000  1.000000   \n120977         0.000000                                0.000000  1.000000   \n120978         0.000000                                0.000000  1.000000   \n120979         0.000000                                0.000000  1.000000   \n120980         0.008774                                0.030151  1.000000   \n\n           Month     Price                                           filename  \n0       0.909091  0.021586  Metro_zhvi_bdrmcnt_1_uc_sfrcondo_tier_0.33_0.6...  \n1       1.000000  0.021794  Metro_zhvi_bdrmcnt_1_uc_sfrcondo_tier_0.33_0.6...  \n2       0.000000  0.021932  Metro_zhvi_bdrmcnt_1_uc_sfrcondo_tier_0.33_0.6...  \n3       0.090909  0.022136  Metro_zhvi_bdrmcnt_1_uc_sfrcondo_tier_0.33_0.6...  \n4       0.181818  0.022640  Metro_zhvi_bdrmcnt_1_uc_sfrcondo_tier_0.33_0.6...  \n...          ...       ...                                                ...  \n120976  0.181818  0.118650   Metro_zhvi_uc_sfrcondo_tier_0.67_1.0_sm_sa_month  \n120977  0.272727  0.120754   Metro_zhvi_uc_sfrcondo_tier_0.67_1.0_sm_sa_month  \n120978  0.363636  0.123318   Metro_zhvi_uc_sfrcondo_tier_0.67_1.0_sm_sa_month  \n120979  0.454545  0.125420   Metro_zhvi_uc_sfrcondo_tier_0.67_1.0_sm_sa_month  \n120980  0.545455  0.126620   Metro_zhvi_uc_sfrcondo_tier_0.67_1.0_sm_sa_month  \n\n[120981 rows x 13 columns]",
      "text/html": "<div>\n<style scoped>\n    .dataframe tbody tr th:only-of-type {\n        vertical-align: middle;\n    }\n\n    .dataframe tbody tr th {\n        vertical-align: top;\n    }\n\n    .dataframe thead th {\n        text-align: right;\n    }\n</style>\n<table border=\"1\" class=\"dataframe\">\n  <thead>\n    <tr style=\"text-align: right;\">\n      <th></th>\n      <th>Date</th>\n      <th>CSA</th>\n      <th>CBSA</th>\n      <th>Total</th>\n      <th>1 Unit</th>\n      <th>2 Units</th>\n      <th>3 and 4 Units</th>\n      <th>5 Units or More</th>\n      <th>Num of Structures With 5 Units or More</th>\n      <th>Year</th>\n      <th>Month</th>\n      <th>Price</th>\n      <th>filename</th>\n    </tr>\n  </thead>\n  <tbody>\n    <tr>\n      <th>0</th>\n      <td>0.000000</td>\n      <td>1.0</td>\n      <td>0.0</td>\n      <td>0.001935</td>\n      <td>0.003768</td>\n      <td>0.005236</td>\n      <td>0.0</td>\n      <td>0.000000</td>\n      <td>0.000000</td>\n      <td>0.000000</td>\n      <td>0.909091</td>\n      <td>0.021586</td>\n      <td>Metro_zhvi_bdrmcnt_1_uc_sfrcondo_tier_0.33_0.6...</td>\n    </tr>\n    <tr>\n      <th>1</th>\n      <td>0.031828</td>\n      <td>1.0</td>\n      <td>0.0</td>\n      <td>0.003112</td>\n      <td>0.005563</td>\n      <td>0.015707</td>\n      <td>0.0</td>\n      <td>0.000000</td>\n      <td>0.000000</td>\n      <td>0.000000</td>\n      <td>1.000000</td>\n      <td>0.021794</td>\n      <td>Metro_zhvi_bdrmcnt_1_uc_sfrcondo_tier_0.33_0.6...</td>\n    </tr>\n    <tr>\n      <th>2</th>\n      <td>0.063655</td>\n      <td>1.0</td>\n      <td>0.0</td>\n      <td>0.002439</td>\n      <td>0.005204</td>\n      <td>0.000000</td>\n      <td>0.0</td>\n      <td>0.000000</td>\n      <td>0.000000</td>\n      <td>0.333333</td>\n      <td>0.000000</td>\n      <td>0.021932</td>\n      <td>Metro_zhvi_bdrmcnt_1_uc_sfrcondo_tier_0.33_0.6...</td>\n    </tr>\n    <tr>\n      <th>3</th>\n      <td>0.093429</td>\n      <td>1.0</td>\n      <td>0.0</td>\n      <td>0.002524</td>\n      <td>0.005383</td>\n      <td>0.000000</td>\n      <td>0.0</td>\n      <td>0.000000</td>\n      <td>0.000000</td>\n      <td>0.333333</td>\n      <td>0.090909</td>\n      <td>0.022136</td>\n      <td>Metro_zhvi_bdrmcnt_1_uc_sfrcondo_tier_0.33_0.6...</td>\n    </tr>\n    <tr>\n      <th>4</th>\n      <td>0.125257</td>\n      <td>1.0</td>\n      <td>0.0</td>\n      <td>0.002439</td>\n      <td>0.004845</td>\n      <td>0.005236</td>\n      <td>0.0</td>\n      <td>0.000000</td>\n      <td>0.000000</td>\n      <td>0.333333</td>\n      <td>0.181818</td>\n      <td>0.022640</td>\n      <td>Metro_zhvi_bdrmcnt_1_uc_sfrcondo_tier_0.33_0.6...</td>\n    </tr>\n    <tr>\n      <th>...</th>\n      <td>...</td>\n      <td>...</td>\n      <td>...</td>\n      <td>...</td>\n      <td>...</td>\n      <td>...</td>\n      <td>...</td>\n      <td>...</td>\n      <td>...</td>\n      <td>...</td>\n      <td>...</td>\n      <td>...</td>\n      <td>...</td>\n    </tr>\n    <tr>\n      <th>120976</th>\n      <td>0.874743</td>\n      <td>1.0</td>\n      <td>1.0</td>\n      <td>0.007487</td>\n      <td>0.014893</td>\n      <td>0.015707</td>\n      <td>0.0</td>\n      <td>0.000000</td>\n      <td>0.000000</td>\n      <td>1.000000</td>\n      <td>0.181818</td>\n      <td>0.118650</td>\n      <td>Metro_zhvi_uc_sfrcondo_tier_0.67_1.0_sm_sa_month</td>\n    </tr>\n    <tr>\n      <th>120977</th>\n      <td>0.905544</td>\n      <td>1.0</td>\n      <td>1.0</td>\n      <td>0.005552</td>\n      <td>0.011843</td>\n      <td>0.000000</td>\n      <td>0.0</td>\n      <td>0.000000</td>\n      <td>0.000000</td>\n      <td>1.000000</td>\n      <td>0.272727</td>\n      <td>0.120754</td>\n      <td>Metro_zhvi_uc_sfrcondo_tier_0.67_1.0_sm_sa_month</td>\n    </tr>\n    <tr>\n      <th>120978</th>\n      <td>0.937372</td>\n      <td>1.0</td>\n      <td>1.0</td>\n      <td>0.007402</td>\n      <td>0.015073</td>\n      <td>0.010471</td>\n      <td>0.0</td>\n      <td>0.000000</td>\n      <td>0.000000</td>\n      <td>1.000000</td>\n      <td>0.363636</td>\n      <td>0.123318</td>\n      <td>Metro_zhvi_uc_sfrcondo_tier_0.67_1.0_sm_sa_month</td>\n    </tr>\n    <tr>\n      <th>120979</th>\n      <td>0.968172</td>\n      <td>1.0</td>\n      <td>1.0</td>\n      <td>0.005468</td>\n      <td>0.011663</td>\n      <td>0.000000</td>\n      <td>0.0</td>\n      <td>0.000000</td>\n      <td>0.000000</td>\n      <td>1.000000</td>\n      <td>0.454545</td>\n      <td>0.125420</td>\n      <td>Metro_zhvi_uc_sfrcondo_tier_0.67_1.0_sm_sa_month</td>\n    </tr>\n    <tr>\n      <th>120980</th>\n      <td>1.000000</td>\n      <td>1.0</td>\n      <td>1.0</td>\n      <td>0.014384</td>\n      <td>0.014534</td>\n      <td>0.000000</td>\n      <td>0.0</td>\n      <td>0.008774</td>\n      <td>0.030151</td>\n      <td>1.000000</td>\n      <td>0.545455</td>\n      <td>0.126620</td>\n      <td>Metro_zhvi_uc_sfrcondo_tier_0.67_1.0_sm_sa_month</td>\n    </tr>\n  </tbody>\n</table>\n<p>120981 rows × 13 columns</p>\n</div>"
     },
     "execution_count": 6,
     "metadata": {},
     "output_type": "execute_result"
    }
   ],
   "source": [
    "df = df[['Date', 'CSA', 'CBSA', 'Total','1 Unit', '2 Units', '3 and 4 Units', '5 Units or More', 'Num of Structures With 5 Units or More', 'Year', 'Month', 'filename', 'Price']]\n",
    "cols = df.columns.to_list()\n",
    "cols.remove('filename')\n",
    "scaler = sklearn.preprocessing.MinMaxScaler()\n",
    "temp_df= df[['Date', 'CSA', 'CBSA', 'Total','1 Unit', '2 Units', '3 and 4 Units', '5 Units or More', 'Num of Structures With 5 Units or More', 'Year', 'Month', 'Price']]\n",
    "# scaler.fit(temp_df)\n",
    "temp_df = pd.DataFrame(scaler.fit_transform(temp_df))\n",
    "\n",
    "temp_df.columns = cols\n",
    "temp_df['filename'] = df['filename']\n",
    "\n",
    "df = temp_df\n",
    "#\n",
    "df"
   ],
   "metadata": {
    "collapsed": false
   }
  },
  {
   "cell_type": "code",
   "execution_count": 7,
   "outputs": [
    {
     "name": "stdout",
     "output_type": "stream",
     "text": [
      "Index(['Unnamed: 0', 'Date', 'Zillow', 'MSA', 'CSA', 'CBSA', 'Total', '1 Unit',\n",
      "       '2 Units', '3 and 4 Units', '5 Units or More',\n",
      "       'Num of Structures With 5 Units or More', 'Year', 'Month', 'filename',\n",
      "       'Price', 'Seasonal', 'Trend', 'Residual', 'Price Change',\n",
      "       'Trend Change', 'Year as Date', 'Population 1', 'Population 5',\n",
      "       'Population Diff', 'Population', 'Pop Growth 1 Year', 'Pop -1 Years',\n",
      "       'Pop Percent 1 Year', 'Pop Growth 5 Year', 'Pop -5 Years',\n",
      "       'Pop Percent 5 Year'],\n",
      "      dtype='object')\n"
     ]
    }
   ],
   "source": [
    "print(combo_df.columns)"
   ],
   "metadata": {
    "collapsed": false
   }
  },
  {
   "cell_type": "code",
   "execution_count": 8,
   "outputs": [],
   "source": [
    "df['Single Unit ratio'] = df['1 Unit']/df['Total']"
   ],
   "metadata": {
    "collapsed": false
   }
  },
  {
   "cell_type": "code",
   "execution_count": 9,
   "outputs": [
    {
     "data": {
      "text/plain": "2.133141934326216"
     },
     "execution_count": 9,
     "metadata": {},
     "output_type": "execute_result"
    }
   ],
   "source": [
    "df['Single Unit ratio'].max()"
   ],
   "metadata": {
    "collapsed": false
   }
  },
  {
   "cell_type": "code",
   "execution_count": 10,
   "outputs": [
    {
     "data": {
      "text/plain": "0.0"
     },
     "execution_count": 10,
     "metadata": {},
     "output_type": "execute_result"
    }
   ],
   "source": [
    "df['Single Unit ratio'].min()"
   ],
   "metadata": {
    "collapsed": false
   }
  },
  {
   "cell_type": "code",
   "execution_count": 11,
   "outputs": [
    {
     "name": "stderr",
     "output_type": "stream",
     "text": [
      "/var/folders/57/cc48k_bs6v9_xgql3_pmrykm0000gn/T/ipykernel_12309/3247628189.py:1: FutureWarning: The default value of numeric_only in DataFrame.corr is deprecated. In a future version, it will default to False. Select only valid columns or specify the value of numeric_only to silence this warning.\n",
      "  default_corr = df.corr(method = 'spearman')\n"
     ]
    }
   ],
   "source": [
    "default_corr = df.corr(method = 'spearman')"
   ],
   "metadata": {
    "collapsed": false
   }
  },
  {
   "cell_type": "code",
   "execution_count": 12,
   "outputs": [
    {
     "name": "stdout",
     "output_type": "stream",
     "text": [
      "Date                                      0.175178\n",
      "CSA                                       0.012707\n",
      "CBSA                                      0.050128\n",
      "Total                                     0.340217\n",
      "1 Unit                                    0.313013\n",
      "2 Units                                   0.207214\n",
      "3 and 4 Units                             0.201758\n",
      "5 Units or More                           0.327053\n",
      "Num of Structures With 5 Units or More    0.329343\n",
      "Year                                      0.166944\n",
      "Month                                    -0.010101\n",
      "Price                                     1.000000\n",
      "Single Unit ratio                        -0.246364\n",
      "Name: Price, dtype: float64\n"
     ]
    }
   ],
   "source": [
    "print(default_corr['Price'])"
   ],
   "metadata": {
    "collapsed": false
   }
  },
  {
   "cell_type": "code",
   "execution_count": 13,
   "outputs": [
    {
     "name": "stderr",
     "output_type": "stream",
     "text": [
      "/var/folders/57/cc48k_bs6v9_xgql3_pmrykm0000gn/T/ipykernel_12309/1142935367.py:1: FutureWarning: The default value of numeric_only in DataFrame.corr is deprecated. In a future version, it will default to False. Select only valid columns or specify the value of numeric_only to silence this warning.\n",
      "  Pearson_corr = df.corr(method = 'pearson')\n"
     ]
    },
    {
     "data": {
      "text/plain": "                                            Date       CSA      CBSA  \\\nDate                                    1.000000  0.003171  0.003696   \nCSA                                     0.003171  1.000000  0.142768   \nCBSA                                    0.003696  0.142768  1.000000   \nTotal                                   0.043616 -0.130720 -0.000400   \n1 Unit                                  0.033344 -0.140409 -0.017396   \n2 Units                                 0.033322 -0.085790  0.024037   \n3 and 4 Units                           0.034044 -0.094073  0.017938   \n5 Units or More                         0.045677 -0.089266  0.018350   \nNum of Structures With 5 Units or More  0.057083 -0.111824  0.008637   \nYear                                    0.941612  0.003049  0.003829   \nMonth                                  -0.065906 -0.000395 -0.001272   \nPrice                                   0.157400  0.004632  0.092112   \nSingle Unit ratio                      -0.053179  0.044234  0.018121   \n\n                                           Total    1 Unit   2 Units  \\\nDate                                    0.043616  0.033344  0.033322   \nCSA                                    -0.130720 -0.140409 -0.085790   \nCBSA                                   -0.000400 -0.017396  0.024037   \nTotal                                   1.000000  0.915934  0.606227   \n1 Unit                                  0.915934  1.000000  0.491203   \n2 Units                                 0.606227  0.491203  1.000000   \n3 and 4 Units                           0.468398  0.331671  0.444288   \n5 Units or More                         0.883566  0.622404  0.578591   \nNum of Structures With 5 Units or More  0.807122  0.585281  0.610633   \nYear                                    0.040494  0.034830  0.028716   \nMonth                                  -0.001173 -0.012367  0.005683   \nPrice                                   0.192516  0.130537  0.162456   \nSingle Unit ratio                      -0.286416 -0.134048 -0.261475   \n\n                                        3 and 4 Units  5 Units or More  \\\nDate                                         0.034044         0.045677   \nCSA                                         -0.094073        -0.089266   \nCBSA                                         0.017938         0.018350   \nTotal                                        0.468398         0.883566   \n1 Unit                                       0.331671         0.622404   \n2 Units                                      0.444288         0.578591   \n3 and 4 Units                                1.000000         0.496228   \n5 Units or More                              0.496228         1.000000   \nNum of Structures With 5 Units or More       0.542751         0.886637   \nYear                                         0.029497         0.037936   \nMonth                                        0.005356         0.012014   \nPrice                                        0.152831         0.220785   \nSingle Unit ratio                           -0.269006        -0.397585   \n\n                                        Num of Structures With 5 Units or More  \\\nDate                                                                  0.057083   \nCSA                                                                  -0.111824   \nCBSA                                                                  0.008637   \nTotal                                                                 0.807122   \n1 Unit                                                                0.585281   \n2 Units                                                               0.610633   \n3 and 4 Units                                                         0.542751   \n5 Units or More                                                       0.886637   \nNum of Structures With 5 Units or More                                1.000000   \nYear                                                                  0.049981   \nMonth                                                                 0.007414   \nPrice                                                                 0.240054   \nSingle Unit ratio                                                    -0.421002   \n\n                                            Year     Month     Price  \\\nDate                                    0.941612 -0.065906  0.157400   \nCSA                                     0.003049 -0.000395  0.004632   \nCBSA                                    0.003829 -0.001272  0.092112   \nTotal                                   0.040494 -0.001173  0.192516   \n1 Unit                                  0.034830 -0.012367  0.130537   \n2 Units                                 0.028716  0.005683  0.162456   \n3 and 4 Units                           0.029497  0.005356  0.152831   \n5 Units or More                         0.037936  0.012014  0.220785   \nNum of Structures With 5 Units or More  0.049981  0.007414  0.240054   \nYear                                    1.000000 -0.398021  0.148700   \nMonth                                  -0.398021  1.000000 -0.011769   \nPrice                                   0.148700 -0.011769  1.000000   \nSingle Unit ratio                      -0.037764 -0.033053 -0.238580   \n\n                                        Single Unit ratio  \nDate                                            -0.053179  \nCSA                                              0.044234  \nCBSA                                             0.018121  \nTotal                                           -0.286416  \n1 Unit                                          -0.134048  \n2 Units                                         -0.261475  \n3 and 4 Units                                   -0.269006  \n5 Units or More                                 -0.397585  \nNum of Structures With 5 Units or More          -0.421002  \nYear                                            -0.037764  \nMonth                                           -0.033053  \nPrice                                           -0.238580  \nSingle Unit ratio                                1.000000  ",
      "text/html": "<div>\n<style scoped>\n    .dataframe tbody tr th:only-of-type {\n        vertical-align: middle;\n    }\n\n    .dataframe tbody tr th {\n        vertical-align: top;\n    }\n\n    .dataframe thead th {\n        text-align: right;\n    }\n</style>\n<table border=\"1\" class=\"dataframe\">\n  <thead>\n    <tr style=\"text-align: right;\">\n      <th></th>\n      <th>Date</th>\n      <th>CSA</th>\n      <th>CBSA</th>\n      <th>Total</th>\n      <th>1 Unit</th>\n      <th>2 Units</th>\n      <th>3 and 4 Units</th>\n      <th>5 Units or More</th>\n      <th>Num of Structures With 5 Units or More</th>\n      <th>Year</th>\n      <th>Month</th>\n      <th>Price</th>\n      <th>Single Unit ratio</th>\n    </tr>\n  </thead>\n  <tbody>\n    <tr>\n      <th>Date</th>\n      <td>1.000000</td>\n      <td>0.003171</td>\n      <td>0.003696</td>\n      <td>0.043616</td>\n      <td>0.033344</td>\n      <td>0.033322</td>\n      <td>0.034044</td>\n      <td>0.045677</td>\n      <td>0.057083</td>\n      <td>0.941612</td>\n      <td>-0.065906</td>\n      <td>0.157400</td>\n      <td>-0.053179</td>\n    </tr>\n    <tr>\n      <th>CSA</th>\n      <td>0.003171</td>\n      <td>1.000000</td>\n      <td>0.142768</td>\n      <td>-0.130720</td>\n      <td>-0.140409</td>\n      <td>-0.085790</td>\n      <td>-0.094073</td>\n      <td>-0.089266</td>\n      <td>-0.111824</td>\n      <td>0.003049</td>\n      <td>-0.000395</td>\n      <td>0.004632</td>\n      <td>0.044234</td>\n    </tr>\n    <tr>\n      <th>CBSA</th>\n      <td>0.003696</td>\n      <td>0.142768</td>\n      <td>1.000000</td>\n      <td>-0.000400</td>\n      <td>-0.017396</td>\n      <td>0.024037</td>\n      <td>0.017938</td>\n      <td>0.018350</td>\n      <td>0.008637</td>\n      <td>0.003829</td>\n      <td>-0.001272</td>\n      <td>0.092112</td>\n      <td>0.018121</td>\n    </tr>\n    <tr>\n      <th>Total</th>\n      <td>0.043616</td>\n      <td>-0.130720</td>\n      <td>-0.000400</td>\n      <td>1.000000</td>\n      <td>0.915934</td>\n      <td>0.606227</td>\n      <td>0.468398</td>\n      <td>0.883566</td>\n      <td>0.807122</td>\n      <td>0.040494</td>\n      <td>-0.001173</td>\n      <td>0.192516</td>\n      <td>-0.286416</td>\n    </tr>\n    <tr>\n      <th>1 Unit</th>\n      <td>0.033344</td>\n      <td>-0.140409</td>\n      <td>-0.017396</td>\n      <td>0.915934</td>\n      <td>1.000000</td>\n      <td>0.491203</td>\n      <td>0.331671</td>\n      <td>0.622404</td>\n      <td>0.585281</td>\n      <td>0.034830</td>\n      <td>-0.012367</td>\n      <td>0.130537</td>\n      <td>-0.134048</td>\n    </tr>\n    <tr>\n      <th>2 Units</th>\n      <td>0.033322</td>\n      <td>-0.085790</td>\n      <td>0.024037</td>\n      <td>0.606227</td>\n      <td>0.491203</td>\n      <td>1.000000</td>\n      <td>0.444288</td>\n      <td>0.578591</td>\n      <td>0.610633</td>\n      <td>0.028716</td>\n      <td>0.005683</td>\n      <td>0.162456</td>\n      <td>-0.261475</td>\n    </tr>\n    <tr>\n      <th>3 and 4 Units</th>\n      <td>0.034044</td>\n      <td>-0.094073</td>\n      <td>0.017938</td>\n      <td>0.468398</td>\n      <td>0.331671</td>\n      <td>0.444288</td>\n      <td>1.000000</td>\n      <td>0.496228</td>\n      <td>0.542751</td>\n      <td>0.029497</td>\n      <td>0.005356</td>\n      <td>0.152831</td>\n      <td>-0.269006</td>\n    </tr>\n    <tr>\n      <th>5 Units or More</th>\n      <td>0.045677</td>\n      <td>-0.089266</td>\n      <td>0.018350</td>\n      <td>0.883566</td>\n      <td>0.622404</td>\n      <td>0.578591</td>\n      <td>0.496228</td>\n      <td>1.000000</td>\n      <td>0.886637</td>\n      <td>0.037936</td>\n      <td>0.012014</td>\n      <td>0.220785</td>\n      <td>-0.397585</td>\n    </tr>\n    <tr>\n      <th>Num of Structures With 5 Units or More</th>\n      <td>0.057083</td>\n      <td>-0.111824</td>\n      <td>0.008637</td>\n      <td>0.807122</td>\n      <td>0.585281</td>\n      <td>0.610633</td>\n      <td>0.542751</td>\n      <td>0.886637</td>\n      <td>1.000000</td>\n      <td>0.049981</td>\n      <td>0.007414</td>\n      <td>0.240054</td>\n      <td>-0.421002</td>\n    </tr>\n    <tr>\n      <th>Year</th>\n      <td>0.941612</td>\n      <td>0.003049</td>\n      <td>0.003829</td>\n      <td>0.040494</td>\n      <td>0.034830</td>\n      <td>0.028716</td>\n      <td>0.029497</td>\n      <td>0.037936</td>\n      <td>0.049981</td>\n      <td>1.000000</td>\n      <td>-0.398021</td>\n      <td>0.148700</td>\n      <td>-0.037764</td>\n    </tr>\n    <tr>\n      <th>Month</th>\n      <td>-0.065906</td>\n      <td>-0.000395</td>\n      <td>-0.001272</td>\n      <td>-0.001173</td>\n      <td>-0.012367</td>\n      <td>0.005683</td>\n      <td>0.005356</td>\n      <td>0.012014</td>\n      <td>0.007414</td>\n      <td>-0.398021</td>\n      <td>1.000000</td>\n      <td>-0.011769</td>\n      <td>-0.033053</td>\n    </tr>\n    <tr>\n      <th>Price</th>\n      <td>0.157400</td>\n      <td>0.004632</td>\n      <td>0.092112</td>\n      <td>0.192516</td>\n      <td>0.130537</td>\n      <td>0.162456</td>\n      <td>0.152831</td>\n      <td>0.220785</td>\n      <td>0.240054</td>\n      <td>0.148700</td>\n      <td>-0.011769</td>\n      <td>1.000000</td>\n      <td>-0.238580</td>\n    </tr>\n    <tr>\n      <th>Single Unit ratio</th>\n      <td>-0.053179</td>\n      <td>0.044234</td>\n      <td>0.018121</td>\n      <td>-0.286416</td>\n      <td>-0.134048</td>\n      <td>-0.261475</td>\n      <td>-0.269006</td>\n      <td>-0.397585</td>\n      <td>-0.421002</td>\n      <td>-0.037764</td>\n      <td>-0.033053</td>\n      <td>-0.238580</td>\n      <td>1.000000</td>\n    </tr>\n  </tbody>\n</table>\n</div>"
     },
     "execution_count": 13,
     "metadata": {},
     "output_type": "execute_result"
    }
   ],
   "source": [
    "Pearson_corr = df.corr(method = 'pearson')\n",
    "Pearson_corr"
   ],
   "metadata": {
    "collapsed": false
   }
  },
  {
   "cell_type": "code",
   "execution_count": null,
   "outputs": [],
   "source": [
    "print(Pearson_corr['Price'])"
   ],
   "metadata": {
    "collapsed": false
   }
  },
  {
   "cell_type": "code",
   "execution_count": null,
   "outputs": [],
   "source": [
    "kendall_corr = df.corr(method = 'kendall')\n",
    "kendall_corr"
   ],
   "metadata": {
    "collapsed": false
   }
  },
  {
   "cell_type": "code",
   "execution_count": null,
   "outputs": [],
   "source": [
    "print(kendall_corr['Price'])"
   ],
   "metadata": {
    "collapsed": false
   }
  },
  {
   "cell_type": "code",
   "execution_count": 14,
   "outputs": [],
   "source": [
    "linear_reg = sklearn.linear_model.LinearRegression()\n",
    "\n",
    "ohe = sklearn.preprocessing.OneHotEncoder(sparse = False, handle_unknown='ignore')\n"
   ],
   "metadata": {
    "collapsed": false
   }
  },
  {
   "cell_type": "code",
   "execution_count": 15,
   "outputs": [
    {
     "name": "stdout",
     "output_type": "stream",
     "text": [
      "0\n"
     ]
    }
   ],
   "source": [
    "df = df.dropna(axis = 'rows')\n",
    "print(df.isnull().sum().sum())\n",
    "\n"
   ],
   "metadata": {
    "collapsed": false
   }
  },
  {
   "cell_type": "code",
   "execution_count": 16,
   "outputs": [
    {
     "name": "stdout",
     "output_type": "stream",
     "text": [
      "           Date       CSA      CBSA     Total    1 Unit   2 Units  \\\n",
      "77841  0.156057  0.227933  0.446916  0.006309  0.010407  0.010471   \n",
      "76953  0.439425  0.496089  0.379171  0.008159  0.017405  0.000000   \n",
      "4166   0.687885  0.020112  0.338726  0.006309  0.013458  0.000000   \n",
      "97327  0.530801  1.000000  0.052578  0.032806  0.068545  0.000000   \n",
      "39615  0.842916  0.362011  0.250758  0.008496  0.018123  0.000000   \n",
      "\n",
      "       3 and 4 Units  5 Units or More  Num of Structures With 5 Units or More  \\\n",
      "77841       0.026667         0.000487                                0.005025   \n",
      "76953       0.000000         0.000000                                0.000000   \n",
      "4166        0.000000         0.000000                                0.000000   \n",
      "97327       0.026667         0.000000                                0.000000   \n",
      "39615       0.000000         0.000000                                0.000000   \n",
      "\n",
      "           Year     Month                                           filename  \\\n",
      "77841  0.333333  0.272727   Metro_zhvi_uc_sfr_tier_0.33_0.67_sm_sa_month (1)   \n",
      "76953  0.666667  0.000000   Metro_zhvi_uc_sfr_tier_0.33_0.67_sm_sa_month (1)   \n",
      "4166   0.666667  0.727273  Metro_zhvi_bdrmcnt_1_uc_sfrcondo_tier_0.33_0.6...   \n",
      "97327  0.666667  0.272727   Metro_zhvi_uc_sfrcondo_tier_0.0_0.33_sm_sa_month   \n",
      "39615  1.000000  0.090909  Metro_zhvi_bdrmcnt_4_uc_sfrcondo_tier_0.33_0.6...   \n",
      "\n",
      "       Single Unit ratio  \n",
      "77841           1.649630  \n",
      "76953           2.133142  \n",
      "4166            2.133142  \n",
      "97327           2.089385  \n",
      "39615           2.133142  \n",
      "ColumnTransformer(transformers=[('onehotencoder',\n",
      "                                 OneHotEncoder(handle_unknown='ignore',\n",
      "                                               sparse=False),\n",
      "                                 ['filename'])])\n"
     ]
    }
   ],
   "source": [
    "X = df.drop(['Price'], axis = 'columns')\n",
    "print(X.sample(5))\n",
    "# print(X.head())\n",
    "y = df[['Price']]\n",
    "col_transform = sklearn.compose.make_column_transformer((ohe, ['filename']))\n",
    "\n",
    "#\n",
    "# X = pd.DataFrame(scaled, columns = X.columns)\n",
    "\n",
    "col_transform.fit_transform(X)\n",
    "\n",
    "print(col_transform)\n"
   ],
   "metadata": {
    "collapsed": false
   }
  },
  {
   "cell_type": "code",
   "execution_count": 17,
   "outputs": [
    {
     "name": "stdout",
     "output_type": "stream",
     "text": [
      "            Date  CSA  CBSA     Total    1 Unit   2 Units  3 and 4 Units  \\\n",
      "0       0.000000  1.0   0.0  0.001935  0.003768  0.005236            0.0   \n",
      "1       0.031828  1.0   0.0  0.003112  0.005563  0.015707            0.0   \n",
      "2       0.063655  1.0   0.0  0.002439  0.005204  0.000000            0.0   \n",
      "3       0.093429  1.0   0.0  0.002524  0.005383  0.000000            0.0   \n",
      "4       0.125257  1.0   0.0  0.002439  0.004845  0.005236            0.0   \n",
      "...          ...  ...   ...       ...       ...       ...            ...   \n",
      "120976  0.874743  1.0   1.0  0.007487  0.014893  0.015707            0.0   \n",
      "120977  0.905544  1.0   1.0  0.005552  0.011843  0.000000            0.0   \n",
      "120978  0.937372  1.0   1.0  0.007402  0.015073  0.010471            0.0   \n",
      "120979  0.968172  1.0   1.0  0.005468  0.011663  0.000000            0.0   \n",
      "120980  1.000000  1.0   1.0  0.014384  0.014534  0.000000            0.0   \n",
      "\n",
      "        5 Units or More  Num of Structures With 5 Units or More      Year  \\\n",
      "0              0.000000                                0.000000  0.000000   \n",
      "1              0.000000                                0.000000  0.000000   \n",
      "2              0.000000                                0.000000  0.333333   \n",
      "3              0.000000                                0.000000  0.333333   \n",
      "4              0.000000                                0.000000  0.333333   \n",
      "...                 ...                                     ...       ...   \n",
      "120976         0.000000                                0.000000  1.000000   \n",
      "120977         0.000000                                0.000000  1.000000   \n",
      "120978         0.000000                                0.000000  1.000000   \n",
      "120979         0.000000                                0.000000  1.000000   \n",
      "120980         0.008774                                0.030151  1.000000   \n",
      "\n",
      "           Month                                           filename  \\\n",
      "0       0.909091  Metro_zhvi_bdrmcnt_1_uc_sfrcondo_tier_0.33_0.6...   \n",
      "1       1.000000  Metro_zhvi_bdrmcnt_1_uc_sfrcondo_tier_0.33_0.6...   \n",
      "2       0.000000  Metro_zhvi_bdrmcnt_1_uc_sfrcondo_tier_0.33_0.6...   \n",
      "3       0.090909  Metro_zhvi_bdrmcnt_1_uc_sfrcondo_tier_0.33_0.6...   \n",
      "4       0.181818  Metro_zhvi_bdrmcnt_1_uc_sfrcondo_tier_0.33_0.6...   \n",
      "...          ...                                                ...   \n",
      "120976  0.181818   Metro_zhvi_uc_sfrcondo_tier_0.67_1.0_sm_sa_month   \n",
      "120977  0.272727   Metro_zhvi_uc_sfrcondo_tier_0.67_1.0_sm_sa_month   \n",
      "120978  0.363636   Metro_zhvi_uc_sfrcondo_tier_0.67_1.0_sm_sa_month   \n",
      "120979  0.454545   Metro_zhvi_uc_sfrcondo_tier_0.67_1.0_sm_sa_month   \n",
      "120980  0.545455   Metro_zhvi_uc_sfrcondo_tier_0.67_1.0_sm_sa_month   \n",
      "\n",
      "        Single Unit ratio  \n",
      "0                1.947651  \n",
      "1                1.787227  \n",
      "2                2.133142  \n",
      "3                2.133142  \n",
      "4                1.986029  \n",
      "...                   ...  \n",
      "120976           1.989335  \n",
      "120977           2.133142  \n",
      "120978           2.036181  \n",
      "120979           2.133142  \n",
      "120980           1.010436  \n",
      "\n",
      "[115521 rows x 13 columns]\n",
      "           Price\n",
      "0       0.021586\n",
      "1       0.021794\n",
      "2       0.021932\n",
      "3       0.022136\n",
      "4       0.022640\n",
      "...          ...\n",
      "120976  0.118650\n",
      "120977  0.120754\n",
      "120978  0.123318\n",
      "120979  0.125420\n",
      "120980  0.126620\n",
      "\n",
      "[115521 rows x 1 columns]\n"
     ]
    }
   ],
   "source": [
    "print(X)\n",
    "print(y)"
   ],
   "metadata": {
    "collapsed": false
   }
  },
  {
   "cell_type": "code",
   "execution_count": 18,
   "outputs": [
    {
     "data": {
      "text/plain": "<class 'statsmodels.iolib.summary.Summary'>\n\"\"\"\n                            OLS Regression Results                            \n==============================================================================\nDep. Variable:                  Price   R-squared:                       0.107\nModel:                            OLS   Adj. R-squared:                  0.107\nMethod:                 Least Squares   F-statistic:                     1262.\nDate:                Mon, 17 Oct 2022   Prob (F-statistic):               0.00\nTime:                        11:15:37   Log-Likelihood:             1.4612e+05\nNo. Observations:              115521   AIC:                        -2.922e+05\nDf Residuals:                  115509   BIC:                        -2.921e+05\nDf Model:                          11                                         \nCovariance Type:            nonrobust                                         \n==========================================================================================================\n                                             coef    std err          t      P>|t|      [0.025      0.975]\n----------------------------------------------------------------------------------------------------------\nconst                                     -0.1264      0.096     -1.315      0.189      -0.315       0.062\nDate                                      -0.6844      0.308     -2.223      0.026      -1.288      -0.081\nCSA                                        0.0042      0.001      7.333      0.000       0.003       0.005\nCBSA                                       0.0228      0.001     32.205      0.000       0.021       0.024\nTotal                                      0.0123      0.005      2.326      0.020       0.002       0.023\n1 Unit                                     0.0011      0.004      0.237      0.813      -0.008       0.010\n2 Units                                    0.0216      0.006      3.565      0.000       0.010       0.033\n3 and 4 Units                              0.0269      0.006      4.804      0.000       0.016       0.038\n5 Units or More                            0.0121      0.008      1.521      0.128      -0.004       0.028\nNum of Structures With 5 Units or More     0.1698      0.009     19.859      0.000       0.153       0.187\nYear                                       0.8062      0.346      2.329      0.020       0.128       1.485\nMonth                                      0.2454      0.106      2.315      0.021       0.038       0.453\nSingle Unit ratio                         -0.0230      0.000    -53.493      0.000      -0.024      -0.022\n==============================================================================\nOmnibus:                    79335.217   Durbin-Watson:                   0.090\nProb(Omnibus):                  0.000   Jarque-Bera (JB):          1703460.005\nSkew:                           3.039   Prob(JB):                         0.00\nKurtosis:                      20.803   Cond. No.                     1.04e+17\n==============================================================================\n\nNotes:\n[1] Standard Errors assume that the covariance matrix of the errors is correctly specified.\n[2] The smallest eigenvalue is 5.64e-29. This might indicate that there are\nstrong multicollinearity problems or that the design matrix is singular.\n\"\"\"",
      "text/html": "<table class=\"simpletable\">\n<caption>OLS Regression Results</caption>\n<tr>\n  <th>Dep. Variable:</th>          <td>Price</td>      <th>  R-squared:         </th>  <td>   0.107</td> \n</tr>\n<tr>\n  <th>Model:</th>                   <td>OLS</td>       <th>  Adj. R-squared:    </th>  <td>   0.107</td> \n</tr>\n<tr>\n  <th>Method:</th>             <td>Least Squares</td>  <th>  F-statistic:       </th>  <td>   1262.</td> \n</tr>\n<tr>\n  <th>Date:</th>             <td>Mon, 17 Oct 2022</td> <th>  Prob (F-statistic):</th>   <td>  0.00</td>  \n</tr>\n<tr>\n  <th>Time:</th>                 <td>11:15:37</td>     <th>  Log-Likelihood:    </th> <td>1.4612e+05</td>\n</tr>\n<tr>\n  <th>No. Observations:</th>      <td>115521</td>      <th>  AIC:               </th> <td>-2.922e+05</td>\n</tr>\n<tr>\n  <th>Df Residuals:</th>          <td>115509</td>      <th>  BIC:               </th> <td>-2.921e+05</td>\n</tr>\n<tr>\n  <th>Df Model:</th>              <td>    11</td>      <th>                     </th>      <td> </td>    \n</tr>\n<tr>\n  <th>Covariance Type:</th>      <td>nonrobust</td>    <th>                     </th>      <td> </td>    \n</tr>\n</table>\n<table class=\"simpletable\">\n<tr>\n                     <td></td>                       <th>coef</th>     <th>std err</th>      <th>t</th>      <th>P>|t|</th>  <th>[0.025</th>    <th>0.975]</th>  \n</tr>\n<tr>\n  <th>const</th>                                  <td>   -0.1264</td> <td>    0.096</td> <td>   -1.315</td> <td> 0.189</td> <td>   -0.315</td> <td>    0.062</td>\n</tr>\n<tr>\n  <th>Date</th>                                   <td>   -0.6844</td> <td>    0.308</td> <td>   -2.223</td> <td> 0.026</td> <td>   -1.288</td> <td>   -0.081</td>\n</tr>\n<tr>\n  <th>CSA</th>                                    <td>    0.0042</td> <td>    0.001</td> <td>    7.333</td> <td> 0.000</td> <td>    0.003</td> <td>    0.005</td>\n</tr>\n<tr>\n  <th>CBSA</th>                                   <td>    0.0228</td> <td>    0.001</td> <td>   32.205</td> <td> 0.000</td> <td>    0.021</td> <td>    0.024</td>\n</tr>\n<tr>\n  <th>Total</th>                                  <td>    0.0123</td> <td>    0.005</td> <td>    2.326</td> <td> 0.020</td> <td>    0.002</td> <td>    0.023</td>\n</tr>\n<tr>\n  <th>1 Unit</th>                                 <td>    0.0011</td> <td>    0.004</td> <td>    0.237</td> <td> 0.813</td> <td>   -0.008</td> <td>    0.010</td>\n</tr>\n<tr>\n  <th>2 Units</th>                                <td>    0.0216</td> <td>    0.006</td> <td>    3.565</td> <td> 0.000</td> <td>    0.010</td> <td>    0.033</td>\n</tr>\n<tr>\n  <th>3 and 4 Units</th>                          <td>    0.0269</td> <td>    0.006</td> <td>    4.804</td> <td> 0.000</td> <td>    0.016</td> <td>    0.038</td>\n</tr>\n<tr>\n  <th>5 Units or More</th>                        <td>    0.0121</td> <td>    0.008</td> <td>    1.521</td> <td> 0.128</td> <td>   -0.004</td> <td>    0.028</td>\n</tr>\n<tr>\n  <th>Num of Structures With 5 Units or More</th> <td>    0.1698</td> <td>    0.009</td> <td>   19.859</td> <td> 0.000</td> <td>    0.153</td> <td>    0.187</td>\n</tr>\n<tr>\n  <th>Year</th>                                   <td>    0.8062</td> <td>    0.346</td> <td>    2.329</td> <td> 0.020</td> <td>    0.128</td> <td>    1.485</td>\n</tr>\n<tr>\n  <th>Month</th>                                  <td>    0.2454</td> <td>    0.106</td> <td>    2.315</td> <td> 0.021</td> <td>    0.038</td> <td>    0.453</td>\n</tr>\n<tr>\n  <th>Single Unit ratio</th>                      <td>   -0.0230</td> <td>    0.000</td> <td>  -53.493</td> <td> 0.000</td> <td>   -0.024</td> <td>   -0.022</td>\n</tr>\n</table>\n<table class=\"simpletable\">\n<tr>\n  <th>Omnibus:</th>       <td>79335.217</td> <th>  Durbin-Watson:     </th>  <td>   0.090</td>  \n</tr>\n<tr>\n  <th>Prob(Omnibus):</th>  <td> 0.000</td>   <th>  Jarque-Bera (JB):  </th> <td>1703460.005</td>\n</tr>\n<tr>\n  <th>Skew:</th>           <td> 3.039</td>   <th>  Prob(JB):          </th>  <td>    0.00</td>  \n</tr>\n<tr>\n  <th>Kurtosis:</th>       <td>20.803</td>   <th>  Cond. No.          </th>  <td>1.04e+17</td>  \n</tr>\n</table><br/><br/>Notes:<br/>[1] Standard Errors assume that the covariance matrix of the errors is correctly specified.<br/>[2] The smallest eigenvalue is 5.64e-29. This might indicate that there are<br/>strong multicollinearity problems or that the design matrix is singular."
     },
     "execution_count": 18,
     "metadata": {},
     "output_type": "execute_result"
    }
   ],
   "source": [
    "\n",
    "endog = df.columns.to_list()\n",
    "endog.remove('Price')\n",
    "endog.remove('filename')\n",
    "\n",
    "x_const = sm.add_constant(df[endog])\n",
    "first_model_results = sm.OLS(y, x_const, missing= 'Drop').fit()\n",
    "first_model_results.summary()\n"
   ],
   "metadata": {
    "collapsed": false
   }
  },
  {
   "cell_type": "code",
   "execution_count": 20,
   "outputs": [
    {
     "name": "stdout",
     "output_type": "stream",
     "text": [
      "['Date', 'CSA', 'CBSA', 'Total', '1 Unit', '2 Units', '3 and 4 Units', '5 Units or More', 'Num of Structures With 5 Units or More', 'Year', 'Month', 'Single Unit ratio']\n",
      "Date\n",
      "115521\n",
      "CSA\n",
      "115521\n",
      "CBSA\n",
      "115521\n",
      "Total\n",
      "115521\n",
      "1 Unit\n",
      "115521\n",
      "2 Units\n",
      "115521\n",
      "3 and 4 Units\n",
      "115521\n",
      "5 Units or More\n",
      "115521\n",
      "Num of Structures With 5 Units or More\n",
      "115521\n",
      "Year\n",
      "115521\n",
      "Month\n",
      "115521\n",
      "Single Unit ratio\n",
      "115521\n"
     ]
    },
    {
     "ename": "ValueError",
     "evalue": "regressors [exog endog] do not have full column rank",
     "output_type": "error",
     "traceback": [
      "\u001B[0;31m---------------------------------------------------------------------------\u001B[0m",
      "\u001B[0;31mValueError\u001B[0m                                Traceback (most recent call last)",
      "Cell \u001B[0;32mIn [20], line 9\u001B[0m\n\u001B[1;32m      6\u001B[0m     \u001B[38;5;28mprint\u001B[39m(end)\n\u001B[1;32m      7\u001B[0m     \u001B[38;5;28mprint\u001B[39m(\u001B[38;5;28mlen\u001B[39m(df[end]))\n\u001B[0;32m----> 9\u001B[0m iv2sls_model \u001B[38;5;241m=\u001B[39m IV2SLS(df[\u001B[38;5;124m'\u001B[39m\u001B[38;5;124mPrice\u001B[39m\u001B[38;5;124m'\u001B[39m], df[endog], \u001B[38;5;28;01mNone\u001B[39;00m, \u001B[38;5;28;01mNone\u001B[39;00m )\u001B[38;5;241m.\u001B[39mfit(cov_type\u001B[38;5;241m=\u001B[39m\u001B[38;5;124m\"\u001B[39m\u001B[38;5;124munadjusted\u001B[39m\u001B[38;5;124m\"\u001B[39m)\n\u001B[1;32m     10\u001B[0m \u001B[38;5;28mprint\u001B[39m(iv2sls_model)\n",
      "File \u001B[0;32m~/Documents/GitHub/housing-permits/venv/lib/python3.9/site-packages/linearmodels/iv/model.py:869\u001B[0m, in \u001B[0;36mIV2SLS.__init__\u001B[0;34m(self, dependent, exog, endog, instruments, weights)\u001B[0m\n\u001B[1;32m    859\u001B[0m \u001B[38;5;28;01mdef\u001B[39;00m \u001B[38;5;21m__init__\u001B[39m(\n\u001B[1;32m    860\u001B[0m     \u001B[38;5;28mself\u001B[39m,\n\u001B[1;32m    861\u001B[0m     dependent: IVDataLike,\n\u001B[0;32m   (...)\u001B[0m\n\u001B[1;32m    866\u001B[0m     weights: Optional[IVDataLike] \u001B[38;5;241m=\u001B[39m \u001B[38;5;28;01mNone\u001B[39;00m,\n\u001B[1;32m    867\u001B[0m ):\n\u001B[1;32m    868\u001B[0m     \u001B[38;5;28mself\u001B[39m\u001B[38;5;241m.\u001B[39m_method \u001B[38;5;241m=\u001B[39m \u001B[38;5;124m\"\u001B[39m\u001B[38;5;124mIV-2SLS\u001B[39m\u001B[38;5;124m\"\u001B[39m\n\u001B[0;32m--> 869\u001B[0m     \u001B[38;5;28;43msuper\u001B[39;49m\u001B[43m(\u001B[49m\u001B[43m)\u001B[49m\u001B[38;5;241;43m.\u001B[39;49m\u001B[38;5;21;43m__init__\u001B[39;49m\u001B[43m(\u001B[49m\n\u001B[1;32m    870\u001B[0m \u001B[43m        \u001B[49m\u001B[43mdependent\u001B[49m\u001B[43m,\u001B[49m\u001B[43m \u001B[49m\u001B[43mexog\u001B[49m\u001B[43m,\u001B[49m\u001B[43m \u001B[49m\u001B[43mendog\u001B[49m\u001B[43m,\u001B[49m\u001B[43m \u001B[49m\u001B[43minstruments\u001B[49m\u001B[43m,\u001B[49m\u001B[43m \u001B[49m\u001B[43mweights\u001B[49m\u001B[38;5;241;43m=\u001B[39;49m\u001B[43mweights\u001B[49m\u001B[43m,\u001B[49m\u001B[43m \u001B[49m\u001B[43mfuller\u001B[49m\u001B[38;5;241;43m=\u001B[39;49m\u001B[38;5;241;43m0\u001B[39;49m\u001B[43m,\u001B[49m\u001B[43m \u001B[49m\u001B[43mkappa\u001B[49m\u001B[38;5;241;43m=\u001B[39;49m\u001B[38;5;241;43m1\u001B[39;49m\n\u001B[1;32m    871\u001B[0m \u001B[43m    \u001B[49m\u001B[43m)\u001B[49m\n",
      "File \u001B[0;32m~/Documents/GitHub/housing-permits/venv/lib/python3.9/site-packages/linearmodels/iv/model.py:543\u001B[0m, in \u001B[0;36m_IVLSModelBase.__init__\u001B[0;34m(self, dependent, exog, endog, instruments, weights, fuller, kappa)\u001B[0m\n\u001B[1;32m    532\u001B[0m \u001B[38;5;28;01mdef\u001B[39;00m \u001B[38;5;21m__init__\u001B[39m(\n\u001B[1;32m    533\u001B[0m     \u001B[38;5;28mself\u001B[39m,\n\u001B[1;32m    534\u001B[0m     dependent: IVDataLike,\n\u001B[0;32m   (...)\u001B[0m\n\u001B[1;32m    541\u001B[0m     kappa: OptionalNumeric \u001B[38;5;241m=\u001B[39m \u001B[38;5;28;01mNone\u001B[39;00m,\n\u001B[1;32m    542\u001B[0m ):\n\u001B[0;32m--> 543\u001B[0m     \u001B[38;5;28;43msuper\u001B[39;49m\u001B[43m(\u001B[49m\u001B[43m)\u001B[49m\u001B[38;5;241;43m.\u001B[39;49m\u001B[38;5;21;43m__init__\u001B[39;49m\u001B[43m(\u001B[49m\n\u001B[1;32m    544\u001B[0m \u001B[43m        \u001B[49m\u001B[43mdependent\u001B[49m\u001B[43m,\u001B[49m\n\u001B[1;32m    545\u001B[0m \u001B[43m        \u001B[49m\u001B[43mexog\u001B[49m\u001B[43m,\u001B[49m\n\u001B[1;32m    546\u001B[0m \u001B[43m        \u001B[49m\u001B[43mendog\u001B[49m\u001B[43m,\u001B[49m\n\u001B[1;32m    547\u001B[0m \u001B[43m        \u001B[49m\u001B[43minstruments\u001B[49m\u001B[43m,\u001B[49m\n\u001B[1;32m    548\u001B[0m \u001B[43m        \u001B[49m\u001B[43mweights\u001B[49m\u001B[38;5;241;43m=\u001B[39;49m\u001B[43mweights\u001B[49m\u001B[43m,\u001B[49m\n\u001B[1;32m    549\u001B[0m \u001B[43m        \u001B[49m\u001B[43mfuller\u001B[49m\u001B[38;5;241;43m=\u001B[39;49m\u001B[43mfuller\u001B[49m\u001B[43m,\u001B[49m\n\u001B[1;32m    550\u001B[0m \u001B[43m        \u001B[49m\u001B[43mkappa\u001B[49m\u001B[38;5;241;43m=\u001B[39;49m\u001B[43mkappa\u001B[49m\u001B[43m,\u001B[49m\n\u001B[1;32m    551\u001B[0m \u001B[43m    \u001B[49m\u001B[43m)\u001B[49m\n",
      "File \u001B[0;32m~/Documents/GitHub/housing-permits/venv/lib/python3.9/site-packages/linearmodels/iv/model.py:208\u001B[0m, in \u001B[0;36m_IVModelBase.__init__\u001B[0;34m(self, dependent, exog, endog, instruments, weights, fuller, kappa)\u001B[0m\n\u001B[1;32m    205\u001B[0m \u001B[38;5;28mself\u001B[39m\u001B[38;5;241m.\u001B[39m_instr_columns \u001B[38;5;241m=\u001B[39m \u001B[38;5;28mself\u001B[39m\u001B[38;5;241m.\u001B[39mexog\u001B[38;5;241m.\u001B[39mcols \u001B[38;5;241m+\u001B[39m \u001B[38;5;28mself\u001B[39m\u001B[38;5;241m.\u001B[39minstruments\u001B[38;5;241m.\u001B[39mcols\n\u001B[1;32m    206\u001B[0m \u001B[38;5;28mself\u001B[39m\u001B[38;5;241m.\u001B[39m_index \u001B[38;5;241m=\u001B[39m \u001B[38;5;28mself\u001B[39m\u001B[38;5;241m.\u001B[39mdependent\u001B[38;5;241m.\u001B[39mrows\n\u001B[0;32m--> 208\u001B[0m \u001B[38;5;28;43mself\u001B[39;49m\u001B[38;5;241;43m.\u001B[39;49m\u001B[43m_validate_inputs\u001B[49m\u001B[43m(\u001B[49m\u001B[43m)\u001B[49m\n\u001B[1;32m    209\u001B[0m \u001B[38;5;28;01mif\u001B[39;00m \u001B[38;5;129;01mnot\u001B[39;00m \u001B[38;5;28mhasattr\u001B[39m(\u001B[38;5;28mself\u001B[39m, \u001B[38;5;124m\"\u001B[39m\u001B[38;5;124m_method\u001B[39m\u001B[38;5;124m\"\u001B[39m):\n\u001B[1;32m    210\u001B[0m     \u001B[38;5;28mself\u001B[39m\u001B[38;5;241m.\u001B[39m_method \u001B[38;5;241m=\u001B[39m \u001B[38;5;124m\"\u001B[39m\u001B[38;5;124mIV-LIML\u001B[39m\u001B[38;5;124m\"\u001B[39m\n",
      "File \u001B[0;32m~/Documents/GitHub/housing-permits/venv/lib/python3.9/site-packages/linearmodels/iv/model.py:338\u001B[0m, in \u001B[0;36m_IVModelBase._validate_inputs\u001B[0;34m(self)\u001B[0m\n\u001B[1;32m    332\u001B[0m     \u001B[38;5;28;01mraise\u001B[39;00m \u001B[38;5;167;01mValueError\u001B[39;00m(\n\u001B[1;32m    333\u001B[0m         \u001B[38;5;124m\"\u001B[39m\u001B[38;5;124mThe number of instruments (\u001B[39m\u001B[38;5;132;01m{0}\u001B[39;00m\u001B[38;5;124m) must be at least \u001B[39m\u001B[38;5;124m\"\u001B[39m\n\u001B[1;32m    334\u001B[0m         \u001B[38;5;124m\"\u001B[39m\u001B[38;5;124mas large as the number of endogenous regressors\u001B[39m\u001B[38;5;124m\"\u001B[39m\n\u001B[1;32m    335\u001B[0m         \u001B[38;5;124m\"\u001B[39m\u001B[38;5;124m (\u001B[39m\u001B[38;5;132;01m{1}\u001B[39;00m\u001B[38;5;124m).\u001B[39m\u001B[38;5;124m\"\u001B[39m\u001B[38;5;241m.\u001B[39mformat(\u001B[38;5;28mself\u001B[39m\u001B[38;5;241m.\u001B[39minstruments\u001B[38;5;241m.\u001B[39mshape[\u001B[38;5;241m1\u001B[39m], \u001B[38;5;28mself\u001B[39m\u001B[38;5;241m.\u001B[39mendog\u001B[38;5;241m.\u001B[39mshape[\u001B[38;5;241m1\u001B[39m])\n\u001B[1;32m    336\u001B[0m     )\n\u001B[1;32m    337\u001B[0m \u001B[38;5;28;01mif\u001B[39;00m matrix_rank(x) \u001B[38;5;241m<\u001B[39m x\u001B[38;5;241m.\u001B[39mshape[\u001B[38;5;241m1\u001B[39m]:\n\u001B[0;32m--> 338\u001B[0m     \u001B[38;5;28;01mraise\u001B[39;00m \u001B[38;5;167;01mValueError\u001B[39;00m(\u001B[38;5;124m\"\u001B[39m\u001B[38;5;124mregressors [exog endog] do not have full \u001B[39m\u001B[38;5;124m\"\u001B[39m \u001B[38;5;124m\"\u001B[39m\u001B[38;5;124mcolumn rank\u001B[39m\u001B[38;5;124m\"\u001B[39m)\n\u001B[1;32m    339\u001B[0m \u001B[38;5;28;01mif\u001B[39;00m matrix_rank(z) \u001B[38;5;241m<\u001B[39m z\u001B[38;5;241m.\u001B[39mshape[\u001B[38;5;241m1\u001B[39m]:\n\u001B[1;32m    340\u001B[0m     \u001B[38;5;28;01mraise\u001B[39;00m \u001B[38;5;167;01mValueError\u001B[39;00m(\n\u001B[1;32m    341\u001B[0m         \u001B[38;5;124m\"\u001B[39m\u001B[38;5;124minstruments [exog instruments]  do not have \u001B[39m\u001B[38;5;124m\"\u001B[39m \u001B[38;5;124m\"\u001B[39m\u001B[38;5;124mfull column rank\u001B[39m\u001B[38;5;124m\"\u001B[39m\n\u001B[1;32m    342\u001B[0m     )\n",
      "\u001B[0;31mValueError\u001B[0m: regressors [exog endog] do not have full column rank"
     ]
    }
   ],
   "source": [
    "\n",
    "\n",
    "\n",
    "\n",
    "# endog = df.columns.to_list()\n",
    "# endog.remove('Price')\n",
    "# endog.remove('filename')\n",
    "print(endog)\n",
    "for end in endog:\n",
    "    print(end)\n",
    "    print(len(df[end]))\n",
    "\n",
    "iv2sls_model = IV2SLS(df['Price'], df[endog], None, None ).fit(cov_type=\"unadjusted\")\n",
    "print(iv2sls_model)"
   ],
   "metadata": {
    "collapsed": false
   }
  },
  {
   "cell_type": "code",
   "execution_count": null,
   "outputs": [],
   "source": [],
   "metadata": {
    "collapsed": false
   }
  },
  {
   "cell_type": "code",
   "execution_count": null,
   "outputs": [],
   "source": [
    "\n",
    "\n",
    "pipe = sklearn.pipeline.make_pipeline(col_transform, linear_reg)"
   ],
   "metadata": {
    "collapsed": false
   }
  },
  {
   "cell_type": "code",
   "execution_count": null,
   "outputs": [],
   "source": [
    "sklearn.metrics.get_scorer_names()"
   ],
   "metadata": {
    "collapsed": false
   }
  },
  {
   "cell_type": "code",
   "execution_count": null,
   "outputs": [],
   "source": [
    "for scoring in sklearn.metrics.get_scorer_names():\n",
    "    print(scoring)\n",
    "    try:\n",
    "        sklearn.model_selection.cross_val_score(pipe, X, y, cv=5, scoring = scorer).mean()\n",
    "    except: continue"
   ],
   "metadata": {
    "collapsed": false
   }
  },
  {
   "cell_type": "code",
   "execution_count": null,
   "outputs": [],
   "source": [
    "# ind_vars = ['CSA', 'CBSA', 'Total', '1 Unit','2 Units', '3 and 4 Units', '5 Units or More',\n",
    "#             'Num of Structures With 5 Units or More', 'Year', 'Month', 'Population 1', 'Population 5',\n",
    "#             'Population Diff','Population', 'Pop Growth 1 Year', 'Pop -1 Years','Pop Percent 1 Year',\n",
    "#             'Pop Growth 5 Year',\n",
    "#             'Pop -5 Years','Pop Percent 5 Year', 'Single Unit ratio']\n",
    "# dep_vars = ['Price']\n",
    "#\n",
    "# cols = ['CSA', 'CBSA', 'Total', '1 Unit','2 Units', '3 and 4 Units', '5 Units or More',\n",
    "#         'Num of Structures With 5 Units or More', 'Year', 'Month', 'Population 1', 'Population 5',\n",
    "#         'Population Diff','Population', 'Pop Growth 1 Year', 'Pop -1 Years','Pop Percent 1 Year',\n",
    "#         'Pop Growth 5 Year','Pop -5 Years','Pop Percent 5 Year', 'Single Unit ratio', 'Price']\n",
    "#\n",
    "# # print(cols)\n",
    "# no_null_df = combo_df[cols].dropna()\n",
    "# # print(no_null_df.head())\n",
    "# x = no_null_df[ind_vars]\n",
    "# y = no_null_df[dep_vars]\n",
    "# #\n",
    "# print(x.head())\n",
    "#\n",
    "# x_const = sm.add_constant(x)\n",
    "#\n",
    "# first_model_results = sm.OLS(y, x_const).fit_regularized()\n",
    "# first_model_results.summary()"
   ],
   "metadata": {
    "collapsed": false
   }
  }
 ],
 "metadata": {
  "kernelspec": {
   "display_name": "Python 3",
   "language": "python",
   "name": "python3"
  },
  "language_info": {
   "codemirror_mode": {
    "name": "ipython",
    "version": 2
   },
   "file_extension": ".py",
   "mimetype": "text/x-python",
   "name": "python",
   "nbconvert_exporter": "python",
   "pygments_lexer": "ipython2",
   "version": "2.7.6"
  }
 },
 "nbformat": 4,
 "nbformat_minor": 0
}
