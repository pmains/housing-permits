{
 "cells": [
  {
   "cell_type": "code",
   "execution_count": null,
   "outputs": [],
   "source": [],
   "metadata": {
    "collapsed": false
   }
  },
  {
   "cell_type": "code",
   "execution_count": null,
   "metadata": {
    "collapsed": true
   },
   "outputs": [],
   "source": [
    "import pandas as pd\n",
    "import sklearn.feature_selection\n",
    "import sklearn.metrics\n",
    "import sklearn.model_selection\n",
    "import sklearn.linear_model\n",
    "import sklearn.covariance\n",
    "import sklearn.cross_decomposition\n",
    "import sklearn.feature_extraction\n",
    "import sklearn.svm\n",
    "import sklearn.compose\n",
    "\n",
    "import statsmodels.api as sm\n",
    "# from statsmodels.sandbox.regression.gmm import IV2SLS\n",
    "from linearmodels.iv import IV2SLS"
   ]
  },
  {
   "cell_type": "code",
   "execution_count": null,
   "outputs": [],
   "source": [
    "combo_df = pd.read_csv('combined.csv')\n"
   ],
   "metadata": {
    "collapsed": false
   }
  },
  {
   "cell_type": "code",
   "execution_count": null,
   "outputs": [],
   "source": [
    "# print(combo_df.dtypes)"
   ],
   "metadata": {
    "collapsed": false
   }
  },
  {
   "cell_type": "code",
   "execution_count": null,
   "outputs": [],
   "source": [
    "df = combo_df.__deepcopy__()\n",
    "\n",
    "# print(combo_df.isnull().sum().sum())\n",
    "# print(121964*32)\n",
    "df = df[df['Price'] >= 0]\n",
    "df"
   ],
   "metadata": {
    "collapsed": false
   }
  },
  {
   "cell_type": "code",
   "execution_count": null,
   "outputs": [],
   "source": [
    "df = df.dropna(axis = 'columns')\n",
    "df"
   ],
   "metadata": {
    "collapsed": false
   }
  },
  {
   "cell_type": "code",
   "execution_count": null,
   "outputs": [],
   "source": [
    "df['Date'] = pd.to_datetime(df['Date']).astype('int64')\n",
    "df.dtypes"
   ],
   "metadata": {
    "collapsed": false
   }
  },
  {
   "cell_type": "code",
   "execution_count": null,
   "outputs": [],
   "source": [
    "df = df[['Date', 'CSA', 'CBSA', 'Total','1 Unit', '2 Units', '3 and 4 Units', '5 Units or More', 'Num of Structures With 5 Units or More', 'Year', 'Month', 'filename', 'Price']]\n",
    "cols = df.columns.to_list()\n",
    "cols.remove('filename')\n",
    "scaler = sklearn.preprocessing.MinMaxScaler()\n",
    "temp_df= df[['Date', 'CSA', 'CBSA', 'Total','1 Unit', '2 Units', '3 and 4 Units', '5 Units or More', 'Num of Structures With 5 Units or More', 'Year', 'Month', 'Price']]\n",
    "# scaler.fit(temp_df)\n",
    "temp_df = pd.DataFrame(scaler.fit_transform(temp_df))\n",
    "\n",
    "temp_df.columns = cols\n",
    "temp_df['filename'] = df['filename']\n",
    "\n",
    "df = temp_df\n",
    "#\n",
    "df"
   ],
   "metadata": {
    "collapsed": false
   }
  },
  {
   "cell_type": "code",
   "execution_count": null,
   "outputs": [],
   "source": [
    "print(combo_df.columns)"
   ],
   "metadata": {
    "collapsed": false
   }
  },
  {
   "cell_type": "code",
   "execution_count": null,
   "outputs": [],
   "source": [
    "df['Single Unit ratio'] = df['1 Unit']/df['Total']"
   ],
   "metadata": {
    "collapsed": false
   }
  },
  {
   "cell_type": "code",
   "execution_count": null,
   "outputs": [],
   "source": [
    "df['Single Unit ratio'].max()"
   ],
   "metadata": {
    "collapsed": false
   }
  },
  {
   "cell_type": "code",
   "execution_count": null,
   "outputs": [],
   "source": [
    "df['Single Unit ratio'].min()"
   ],
   "metadata": {
    "collapsed": false
   }
  },
  {
   "cell_type": "code",
   "execution_count": null,
   "outputs": [],
   "source": [
    "default_corr = df.corr(method = 'spearman')"
   ],
   "metadata": {
    "collapsed": false
   }
  },
  {
   "cell_type": "code",
   "execution_count": null,
   "outputs": [],
   "source": [
    "print(default_corr['Price'])"
   ],
   "metadata": {
    "collapsed": false
   }
  },
  {
   "cell_type": "code",
   "execution_count": null,
   "outputs": [],
   "source": [
    "Pearson_corr = df.corr(method = 'pearson')\n",
    "Pearson_corr"
   ],
   "metadata": {
    "collapsed": false
   }
  },
  {
   "cell_type": "code",
   "execution_count": null,
   "outputs": [],
   "source": [
    "print(Pearson_corr['Price'])"
   ],
   "metadata": {
    "collapsed": false
   }
  },
  {
   "cell_type": "code",
   "execution_count": null,
   "outputs": [],
   "source": [
    "kendall_corr = df.corr(method = 'kendall')\n",
    "kendall_corr"
   ],
   "metadata": {
    "collapsed": false
   }
  },
  {
   "cell_type": "code",
   "execution_count": null,
   "outputs": [],
   "source": [
    "print(kendall_corr['Price'])"
   ],
   "metadata": {
    "collapsed": false
   }
  },
  {
   "cell_type": "code",
   "execution_count": null,
   "outputs": [],
   "source": [
    "linear_reg = sklearn.linear_model.LinearRegression()\n",
    "\n",
    "ohe = sklearn.preprocessing.OneHotEncoder(sparse = False, handle_unknown='ignore')\n"
   ],
   "metadata": {
    "collapsed": false
   }
  },
  {
   "cell_type": "code",
   "execution_count": null,
   "outputs": [],
   "source": [
    "df = df.dropna(axis = 'rows')\n",
    "print(df.isnull().sum().sum())\n",
    "\n"
   ],
   "metadata": {
    "collapsed": false
   }
  },
  {
   "cell_type": "code",
   "execution_count": null,
   "outputs": [],
   "source": [
    "X = df.drop(['Price'], axis = 'columns')\n",
    "print(X.sample(5))\n",
    "# print(X.head())\n",
    "y = df[['Price']]\n",
    "col_transform = sklearn.compose.make_column_transformer((ohe, ['filename']))\n",
    "\n",
    "#\n",
    "# X = pd.DataFrame(scaled, columns = X.columns)\n",
    "\n",
    "col_transform.fit_transform(X)\n",
    "\n",
    "print(col_transform)\n"
   ],
   "metadata": {
    "collapsed": false
   }
  },
  {
   "cell_type": "code",
   "execution_count": null,
   "outputs": [],
   "source": [
    "print(X)\n",
    "print(y)"
   ],
   "metadata": {
    "collapsed": false
   }
  },
  {
   "cell_type": "code",
   "execution_count": null,
   "outputs": [],
   "source": [
    "\n",
    "endog = df.columns.to_list()\n",
    "endog.remove('Price')\n",
    "endog.remove('filename')\n",
    "\n",
    "x_const = sm.add_constant(df[endog])\n",
    "first_model_results = sm.OLS(y, x_const, missing= 'Drop').fit()\n",
    "first_model_results.summary()\n"
   ],
   "metadata": {
    "collapsed": false
   }
  },
  {
   "cell_type": "code",
   "execution_count": null,
   "outputs": [],
   "source": [
    "\n",
    "\n",
    "\n",
    "\n",
    "# endog = df.columns.to_list()\n",
    "# endog.remove('Price')\n",
    "# endog.remove('filename')\n",
    "print(endog)\n",
    "iv2sls_model = IV2SLS(df['Price'], df[endog], None, None ).fit(cov_type=\"unadjusted\")\n",
    "print(iv2sls_model)"
   ],
   "metadata": {
    "collapsed": false
   }
  },
  {
   "cell_type": "code",
   "execution_count": null,
   "outputs": [],
   "source": [],
   "metadata": {
    "collapsed": false
   }
  },
  {
   "cell_type": "code",
   "execution_count": null,
   "outputs": [],
   "source": [
    "\n",
    "\n",
    "pipe = sklearn.pipeline.make_pipeline(col_transform, linear_reg)"
   ],
   "metadata": {
    "collapsed": false
   }
  },
  {
   "cell_type": "code",
   "execution_count": null,
   "outputs": [],
   "source": [
    "sklearn.metrics.get_scorer_names()"
   ],
   "metadata": {
    "collapsed": false
   }
  },
  {
   "cell_type": "code",
   "execution_count": null,
   "outputs": [],
   "source": [
    "for scoring in sklearn.metrics.get_scorer_names():\n",
    "    print(scoring)\n",
    "    try:\n",
    "        sklearn.model_selection.cross_val_score(pipe, X, y, cv=5, scoring = scorer).mean()\n",
    "    except: continue"
   ],
   "metadata": {
    "collapsed": false
   }
  },
  {
   "cell_type": "code",
   "execution_count": null,
   "outputs": [],
   "source": [
    "# ind_vars = ['CSA', 'CBSA', 'Total', '1 Unit','2 Units', '3 and 4 Units', '5 Units or More',\n",
    "#             'Num of Structures With 5 Units or More', 'Year', 'Month', 'Population 1', 'Population 5',\n",
    "#             'Population Diff','Population', 'Pop Growth 1 Year', 'Pop -1 Years','Pop Percent 1 Year',\n",
    "#             'Pop Growth 5 Year',\n",
    "#             'Pop -5 Years','Pop Percent 5 Year', 'Single Unit ratio']\n",
    "# dep_vars = ['Price']\n",
    "#\n",
    "# cols = ['CSA', 'CBSA', 'Total', '1 Unit','2 Units', '3 and 4 Units', '5 Units or More',\n",
    "#         'Num of Structures With 5 Units or More', 'Year', 'Month', 'Population 1', 'Population 5',\n",
    "#         'Population Diff','Population', 'Pop Growth 1 Year', 'Pop -1 Years','Pop Percent 1 Year',\n",
    "#         'Pop Growth 5 Year','Pop -5 Years','Pop Percent 5 Year', 'Single Unit ratio', 'Price']\n",
    "#\n",
    "# # print(cols)\n",
    "# no_null_df = combo_df[cols].dropna()\n",
    "# # print(no_null_df.head())\n",
    "# x = no_null_df[ind_vars]\n",
    "# y = no_null_df[dep_vars]\n",
    "# #\n",
    "# print(x.head())\n",
    "#\n",
    "# x_const = sm.add_constant(x)\n",
    "#\n",
    "# first_model_results = sm.OLS(y, x_const).fit_regularized()\n",
    "# first_model_results.summary()"
   ],
   "metadata": {
    "collapsed": false
   }
  }
 ],
 "metadata": {
  "kernelspec": {
   "display_name": "Python 3",
   "language": "python",
   "name": "python3"
  },
  "language_info": {
   "codemirror_mode": {
    "name": "ipython",
    "version": 2
   },
   "file_extension": ".py",
   "mimetype": "text/x-python",
   "name": "python",
   "nbconvert_exporter": "python",
   "pygments_lexer": "ipython2",
   "version": "2.7.6"
  }
 },
 "nbformat": 4,
 "nbformat_minor": 0
}
