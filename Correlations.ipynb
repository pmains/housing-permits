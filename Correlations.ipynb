{
 "cells": [
  {
   "cell_type": "code",
   "execution_count": null,
   "id": "4930481c",
   "metadata": {},
   "outputs": [],
   "source": [
    "import pandas as pd\n",
    "import numpy as np\n",
    "import altair as alt\n",
    "\n",
    "from sklearn.decomposition import PCA\n",
    "from sklearn.linear_model import LinearRegression, Lasso, Ridge"
   ]
  },
  {
   "cell_type": "code",
   "execution_count": null,
   "id": "b26ba7e9",
   "metadata": {},
   "outputs": [],
   "source": [
    "df = pd.read_pickle('df.pickle')\n",
    "df.head()"
   ]
  },
  {
   "cell_type": "code",
   "execution_count": null,
   "id": "d9b18291",
   "metadata": {},
   "outputs": [],
   "source": [
    "df['Weighted Total'] = df['1 Unit'] + (2 * df['2 Units']) + (3.5 * df['3 and 4 Units']) + (10 * df['5 Units or More'])\n",
    "\n",
    "# Over entire pop, so adjust by 100,000 (standard for population statistics like crime)\n",
    "df['Adjusted Weighted Total'] = df['Weighted Total'] / df['Population'] * 100_000\n",
    "# But don't multiply these, since we expect permits to be directly proportional to population growth\n",
    "df['Adjusted Weighted 1Y Total'] = df['Weighted Total'] / df['Pop Growth 1 Year']\n",
    "df['Adjusted Weighted 5Y Total'] = df['Weighted Total'] / df['Pop Growth 5 Year']\n",
    "\n",
    "# And do the same thing to our non-weighted total\n",
    "df['Adjusted Total'] = df['Total'] / df['Population'] * 100_000\n",
    "df['Adjusted 1Y Total'] = df['Total'] / df['Pop Growth 1 Year']\n",
    "df['Adjusted 5Y Total'] = df['Total'] / df['Pop Growth 5 Year']\n",
    "\n",
    "df.head()"
   ]
  },
  {
   "cell_type": "code",
   "execution_count": null,
   "id": "143eb0b7",
   "metadata": {},
   "outputs": [],
   "source": [
    "columns = {\n",
    "    'index': [ 'MSA', 'Date', 'Year', 'Month', 'filename'],\n",
    "    # Permit\n",
    "    'permits': ['Total', '1 Unit', '2 Units', '3 and 4 Units', \n",
    "    '5 Units or More', 'Num of Structures With 5 Units or More'],\n",
    "    # Price\n",
    "    'price': ['Price', 'Seasonal', 'Trend', 'Residual', 'Price Change', 'Trend Change'],\n",
    "    # Population\n",
    "    'population': ['Population 1', 'Population 5', 'Population Diff', 'Population', 'Pop Growth 1 Year',\n",
    "    'Pop -1 Years', 'Pop Percent 1 Year', 'Pop Growth 5 Year', 'Pop -5 Years', 'Pop Percent 5 Year'],\n",
    "    # Housing Stock\n",
    "    'housing': ['Total housing units', 'Occupied housing units', 'Vacant housing units', \n",
    "    'Homeowner vacancy rate', 'Rental vacancy rate', '1-unit, detached', '1-unit, attached',\n",
    "    '2 units', '3 or 4 units', '5 to 9 units', '10 to 19 units', '20 or more units', \n",
    "    '1 room', '2 rooms', '3 rooms', '4 rooms', '5 rooms', '6 rooms', '7 rooms', \n",
    "    '8 rooms', '9 rooms or more', 'Median rooms', 'No bedroom', '1 bedroom', \n",
    "    '2 bedrooms', '3 bedrooms', '4 bedrooms', '5 or more bedrooms'],\n",
    "    # Income\n",
    "    'income': ['Income'],\n",
    "}"
   ]
  },
  {
   "cell_type": "code",
   "execution_count": null,
   "id": "e69b3f55",
   "metadata": {},
   "outputs": [],
   "source": [
    "housing_df = df[['MSA', 'Month', 'Year', 'filename', 'Income'] + columns['population'] + columns['housing']].copy()\n",
    "housing_df = housing_df.dropna(subset=columns['housing'], axis='rows')\n",
    "housing_df.head()"
   ]
  },
  {
   "cell_type": "code",
   "execution_count": null,
   "id": "9747f2da",
   "metadata": {},
   "outputs": [],
   "source": [
    "len(housing_df)"
   ]
  },
  {
   "cell_type": "code",
   "execution_count": null,
   "id": "9f1790b9",
   "metadata": {},
   "outputs": [],
   "source": []
  }
 ],
 "metadata": {
  "kernelspec": {
   "display_name": "Python 3 (ipykernel)",
   "language": "python",
   "name": "python3"
  },
  "language_info": {
   "codemirror_mode": {
    "name": "ipython",
    "version": 3
   },
   "file_extension": ".py",
   "mimetype": "text/x-python",
   "name": "python",
   "nbconvert_exporter": "python",
   "pygments_lexer": "ipython3",
   "version": "3.10.0"
  }
 },
 "nbformat": 4,
 "nbformat_minor": 5
}
